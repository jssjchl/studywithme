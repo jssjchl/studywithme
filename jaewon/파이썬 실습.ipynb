{
 "cells": [
  {
   "cell_type": "markdown",
   "id": "2bbd57bb-a8a5-42d8-b76d-af657cd296b4",
   "metadata": {},
   "source": [
    "사용자로부터 입력 받은 기준 날짜로부터 며칠이 경과된 목표 날짜를 계산하는 프로그램을 작성하시오.\n",
    "\n",
    "    [실행예시]\n",
    "    연도를 입력해 주세요: 2019\n",
    "    월을 입력해 주세요: 2\n",
    "    일을 입력해 주세요: 5\n",
    "    며칠째 되는 날을 구하고 싶은가요? 10\n",
    "    2019년 2월 5일로부터 10일째 되는 날은 2019년 2월 10일입니다."
   ]
  },
  {
   "cell_type": "code",
   "execution_count": 4,
   "id": "9214aa8c-a9e5-42fc-9482-44bd8913968a",
   "metadata": {},
   "outputs": [
    {
     "name": "stdin",
     "output_type": "stream",
     "text": [
      "연도를 입력해주세요: 2022\n",
      "월을 입력해주세요: 1\n",
      "일을 입력해주세요: 1\n",
      "며칠 째 되는 날을 구하고 싶으신가요? 5\n"
     ]
    },
    {
     "ename": "TypeError",
     "evalue": "'>' not supported between instances of 'int' and 'list'",
     "output_type": "error",
     "traceback": [
      "\u001b[1;31m---------------------------------------------------------------------------\u001b[0m",
      "\u001b[1;31mTypeError\u001b[0m                                 Traceback (most recent call last)",
      "Cell \u001b[1;32mIn[4], line 16\u001b[0m\n\u001b[0;32m     12\u001b[0m \u001b[38;5;66;03m#경과일 계산\u001b[39;00m\n\u001b[0;32m     14\u001b[0m result \u001b[38;5;241m=\u001b[39m day \u001b[38;5;241m+\u001b[39mday_plus\n\u001b[1;32m---> 16\u001b[0m \u001b[38;5;28;01mwhile\u001b[39;00m result \u001b[38;5;241m>\u001b[39m day_in_month:\n\u001b[0;32m     17\u001b[0m     month \u001b[38;5;241m+\u001b[39m\u001b[38;5;241m=\u001b[39m \u001b[38;5;241m1\u001b[39m\n\u001b[0;32m     18\u001b[0m     \u001b[38;5;28;01mif\u001b[39;00m month \u001b[38;5;241m>\u001b[39m\u001b[38;5;241m12\u001b[39m:\n",
      "\u001b[1;31mTypeError\u001b[0m: '>' not supported between instances of 'int' and 'list'"
     ]
    }
   ],
   "source": [
    "year = int(input('연도를 입력해주세요:'))\n",
    "month = int(input('월을 입력해주세요:'))\n",
    "day = int(input('일을 입력해주세요:'))\n",
    "day_plus = int(input('며칠 째 되는 날을 구하고 싶으신가요?'))\n",
    "\n",
    "day_in_month =[31, 28, 31, 30, 31, 30, 31, 31, 30, 31, 30, 31]\n",
    "\n",
    "#윤년 여부 확인\n",
    "if (year % 4 == 0 and year % 100 != 0) or year % 400 == 0:\n",
    "    days_in_month[1] = 29\n",
    "\n",
    "#경과일 계산\n",
    "\n",
    "result = day +day_plus\n",
    "\n",
    "while result > day_in_month:\n",
    "    month += 1\n",
    "    if month >12:\n",
    "        year += 1\n",
    "\n",
    "print(f'{year}년 {month}월 {day}일로부터 {day_plus} 되는 날은 {year}년 {month}월 {result}일 입니다')\n",
    "        \n",
    "\n"
   ]
  },
  {
   "cell_type": "code",
   "execution_count": 2,
   "id": "93aba101-7a20-46f0-8ed9-2433f3e6dc4c",
   "metadata": {},
   "outputs": [
    {
     "name": "stdin",
     "output_type": "stream",
     "text": [
      "연도를 입력해 주세요:  2021\n",
      "월을 입력해 주세요:  1\n",
      "일을 입력해 주세요:  1\n",
      "며칠째 되는 날을 구하고 싶은가요?  874\n"
     ]
    },
    {
     "name": "stdout",
     "output_type": "stream",
     "text": [
      "2021년 1월 1일로부터 874일째 되는 날은 2023년 5월 25일입니다.\n"
     ]
    }
   ],
   "source": [
    "from datetime import datetime, timedelta\n",
    "\n",
    "# 연도, 월, 일 입력 받기\n",
    "year = int(input(\"연도를 입력해 주세요: \"))\n",
    "month = int(input(\"월을 입력해 주세요: \"))\n",
    "day = int(input(\"일을 입력해 주세요: \"))\n",
    "\n",
    "# 기준 날짜 생성\n",
    "base_date = datetime(year, month, day)\n",
    "\n",
    "# 경과할 날짜 수 입력 받기\n",
    "days_future = int(input(\"며칠째 되는 날을 구하고 싶은가요? \"))\n",
    "\n",
    "# 목표 날짜 계산\n",
    "target_date = base_date + timedelta(days=days_future)\n",
    "\n",
    "# 결과 출력\n",
    "print(f\"{year}년 {month}월 {day}일로부터 {days_future}일째 되는 날은 {target_date.year}년 {target_date.month}월 {target_date.day}일입니다.\")"
   ]
  }
 ],
 "metadata": {
  "kernelspec": {
   "display_name": "Python 3 (ipykernel)",
   "language": "python",
   "name": "python3"
  },
  "language_info": {
   "codemirror_mode": {
    "name": "ipython",
    "version": 3
   },
   "file_extension": ".py",
   "mimetype": "text/x-python",
   "name": "python",
   "nbconvert_exporter": "python",
   "pygments_lexer": "ipython3",
   "version": "3.11.4"
  }
 },
 "nbformat": 4,
 "nbformat_minor": 5
}
