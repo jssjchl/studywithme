{
 "cells": [
  {
   "cell_type": "markdown",
   "id": "49486c20-0e54-498e-8d23-9b21eaa08aa9",
   "metadata": {},
   "source": [
    "# 1. 인터프리터 방식의 언어에 대한 설명으로 옳지 않은 것은?\n",
    "- 정답: 2번"
   ]
  },
  {
   "cell_type": "markdown",
   "id": "46ad7aaf-0dd6-4bbc-bcc2-300724472b3b",
   "metadata": {},
   "source": [
    "# 2. 파이썬의 장점이 아닌 것은?\n",
    "- 정답: 3번"
   ]
  },
  {
   "cell_type": "markdown",
   "id": "baccfc98-f817-4d28-a308-56ba58ffdc11",
   "metadata": {},
   "source": [
    "# 3. 변수 a와 b의 값을 공백 없이 붙여서 출력하는 문장은?\n",
    "- 정답: 2번"
   ]
  },
  {
   "cell_type": "markdown",
   "id": "9c5eeae2-8bb5-48f8-a023-2640ca132668",
   "metadata": {},
   "source": [
    "# 4. 사각형 넓이 계산"
   ]
  },
  {
   "cell_type": "code",
   "execution_count": 150,
   "id": "6858b301-d019-44ef-8571-698b80de5ecc",
   "metadata": {},
   "outputs": [
    {
     "name": "stdin",
     "output_type": "stream",
     "text": [
      "너비를 입력하시오: 20\n",
      "높이를 입력하시오: 60\n"
     ]
    },
    {
     "name": "stdout",
     "output_type": "stream",
     "text": [
      "1200\n"
     ]
    }
   ],
   "source": [
    "width = int(input('너비를 입력하시오:'))\n",
    "height = int(input('높이를 입력하시오:'))\n",
    "result = width * height\n",
    "print(result)\n"
   ]
  },
  {
   "cell_type": "markdown",
   "id": "c887424d-cea0-4071-8e02-ca7067e19b4c",
   "metadata": {},
   "source": [
    "# 5. 전자 출결 시스템 만들기"
   ]
  },
  {
   "cell_type": "code",
   "execution_count": 151,
   "id": "6cafa217-e776-4dfd-9912-f1815f923078",
   "metadata": {},
   "outputs": [
    {
     "name": "stdin",
     "output_type": "stream",
     "text": [
      "ID를 입력하세요: ddd\n",
      "PW를 입력하세요: 1234\n"
     ]
    },
    {
     "name": "stdout",
     "output_type": "stream",
     "text": [
      "ID, PW를 확인하세요\n"
     ]
    }
   ],
   "source": [
    "id = 'digitalmaster'\n",
    "pw = 12345678\n",
    "\n",
    "input_id = input('ID를 입력하세요:')\n",
    "input_pw = int(input('PW를 입력하세요:'))\n",
    "\n",
    "if input_id == id and input_pw == pw:\n",
    "    print('정상적으로 출결 되었습니다')\n",
    "else:\n",
    "    print('ID, PW를 확인하세요')"
   ]
  },
  {
   "cell_type": "markdown",
   "id": "5a8e2cf2-5789-4c30-9d3b-7f403e92f048",
   "metadata": {},
   "source": [
    "# 6. 성적 평가 시스템 만들기"
   ]
  },
  {
   "cell_type": "code",
   "execution_count": 138,
   "id": "3d408b90-e025-4f63-a487-c4481aa62d3f",
   "metadata": {},
   "outputs": [
    {
     "name": "stdout",
     "output_type": "stream",
     "text": [
      "성적입력 (100점 단위)\n"
     ]
    },
    {
     "name": "stdin",
     "output_type": "stream",
     "text": [
      "출석점수: 70\n",
      "과제점수: 70\n",
      "중간고사: 70\n",
      "기말프로젝트: 70\n"
     ]
    },
    {
     "name": "stdout",
     "output_type": "stream",
     "text": [
      "70.0\n",
      "C\n"
     ]
    }
   ],
   "source": [
    "# 성적 입력 문구 출력\n",
    "print('성적입력 (100점 단위)')\n",
    "attend_score = int(input('출석점수:'))\n",
    "task_score = int(input('과제점수:'))\n",
    "middle_score = int(input('중간고사:'))\n",
    "project_score = int(input('기말프로젝트:'))\n",
    "final_score = (attend_score*0.1)+(task_score*0.2)+(middle_score*0.4)+(project_score*0.3)\n",
    "print(final_score)\n",
    "grade = ''\n",
    "\n",
    "if attend_score < 50:\n",
    "    grade = 'F'\n",
    "elif final_score >= 90:\n",
    "    grade = 'A'\n",
    "elif 80 <=final_score<90:\n",
    "    grade = 'B'\n",
    "elif 70 <= final_score < 80:\n",
    "    grade = 'C'\n",
    "elif 60 <= final_score < 70:\n",
    "    grade = 'D'\n",
    "else:\n",
    "    grade = 'F'\n",
    "print(grade)\n",
    "    \n",
    "\n",
    "\n",
    "    \n",
    "\n",
    "\n",
    "\n"
   ]
  },
  {
   "cell_type": "markdown",
   "id": "f422b6a2-d826-4734-bae8-e0ba733f4b58",
   "metadata": {},
   "source": [
    "# 7. 정렬 및 배수 출력"
   ]
  },
  {
   "cell_type": "code",
   "execution_count": 140,
   "id": "d6664ef9-84cd-4303-9bc2-1c5c1b9e420f",
   "metadata": {},
   "outputs": [
    {
     "name": "stdin",
     "output_type": "stream",
     "text": [
      "숫자를 입력하시오: 1\n",
      "숫자를 입력하시오: 3\n",
      "숫자를 입력하시오: 5\n",
      "숫자를 입력하시오: 7\n",
      "숫자를 입력하시오: 8\n",
      "숫자를 입력하시오: 3\n",
      "숫자를 입력하시오: 4\n",
      "숫자를 입력하시오: 10\n",
      "숫자를 입력하시오: 33\n",
      "숫자를 입력하시오: 56\n"
     ]
    },
    {
     "name": "stdout",
     "output_type": "stream",
     "text": [
      "[1, 3, 3, 4, 5, 7, 8, 10, 33, 56]\n",
      "[3, 3, 33]\n"
     ]
    }
   ],
   "source": [
    "num_list = []\n",
    "for i in range(10):\n",
    "    input_num = int(input('숫자를 입력하시오:'))\n",
    "    num_list.append(input_num)\n",
    "final_list = sorted(num_list)\n",
    "print(final_list)\n",
    "new_list = []\n",
    "for i in final_list:\n",
    "    if i % 3 == 0:\n",
    "        new_list.append(i)\n",
    "print(new_list)"
   ]
  },
  {
   "cell_type": "markdown",
   "id": "c40d92db-04b4-4ef2-8f2b-4c3fb9afadc6",
   "metadata": {},
   "source": [
    "# 8. 딕셔너리 변경"
   ]
  },
  {
   "cell_type": "code",
   "execution_count": 62,
   "id": "5742f46b-ebd3-4148-8707-d6e26dcf061a",
   "metadata": {},
   "outputs": [
    {
     "name": "stdout",
     "output_type": "stream",
     "text": [
      "{'서울': '02', '경기': '031', '강원': '033', '충남': '041', '충북': '043', '경북': '054', '경남': '055', '전남': '061', '전북': '063'}\n"
     ]
    }
   ],
   "source": [
    "phone = \"서울 02 ~경기 031 ~강원 033 ~충남 041 ~충북 043 ~경북 054 ~경남 055 ~전남 061 ~전북 063\"\n",
    "word = phone.split('~')\n",
    "dict = {i.split()[0]: i.split()[1] for i in word}\n",
    "print(dict)\n",
    "\n",
    "\n",
    "\n",
    "\n"
   ]
  },
  {
   "cell_type": "markdown",
   "id": "a70dbfc4-e572-4d02-a5ca-b9e7eb0c514b",
   "metadata": {},
   "source": [
    "# 9. 임의의 웹 주소를 입력 받아 이 도메인이 .kr로 끝나는 도메인인지 확인하는 코드를 작성 하시오."
   ]
  },
  {
   "cell_type": "code",
   "execution_count": 155,
   "id": "227d3873-5756-4055-98c1-59ec4d12119d",
   "metadata": {},
   "outputs": [
    {
     "name": "stdin",
     "output_type": "stream",
     "text": [
      "웹 주소 입력: www.naver.com\n"
     ]
    },
    {
     "name": "stdout",
     "output_type": "stream",
     "text": [
      "결과: kr 도메인이 아닙니다.\n"
     ]
    }
   ],
   "source": [
    "web_adress = input('웹 주소 입력:')\n",
    "if web_adress[-3:] != '.kr':\n",
    "    print('결과: kr 도메인이 아닙니다.')\n",
    "else:\n",
    "    print('정확한 주소입니다')"
   ]
  },
  {
   "cell_type": "markdown",
   "id": "d2e11631-33a2-4426-980c-f28a92eb4f09",
   "metadata": {},
   "source": [
    "# 10. 리스트 컴프리헨션 문법을 사용하여 1에서 100 사이의 짝수로 구성된 리스트를 생성 하시오"
   ]
  },
  {
   "cell_type": "code",
   "execution_count": 72,
   "id": "89875fe4-e14c-4a09-bea5-2bd91ddc9a6a",
   "metadata": {},
   "outputs": [
    {
     "name": "stdout",
     "output_type": "stream",
     "text": [
      "[2, 4, 6, 8, 10, 12, 14, 16, 18, 20, 22, 24, 26, 28, 30, 32, 34, 36, 38, 40, 42, 44, 46, 48, 50, 52, 54, 56, 58, 60, 62, 64, 66, 68, 70, 72, 74, 76, 78, 80, 82, 84, 86, 88, 90, 92, 94, 96, 98]\n"
     ]
    }
   ],
   "source": [
    "\n",
    "a = [i for i in range(1,100) if i % 2 == 0]\n",
    "print(a)\n"
   ]
  },
  {
   "cell_type": "markdown",
   "id": "58ac98b6-c119-405d-a3c1-7b9b819bc68c",
   "metadata": {},
   "source": [
    "# 11. price 리스트에 저장되어 있는 상품 가격 다섯 개를 람다(lambda) 함수를 이용하여 모든 상품의 가격을 20% 세일한 값으로 출력 하시오"
   ]
  },
  {
   "cell_type": "code",
   "execution_count": 176,
   "id": "2177dffc-3e0d-4ec3-8ca6-dff9802e2a09",
   "metadata": {},
   "outputs": [
    {
     "ename": "TypeError",
     "evalue": "'list' object is not callable",
     "output_type": "error",
     "traceback": [
      "\u001b[1;31m---------------------------------------------------------------------------\u001b[0m",
      "\u001b[1;31mTypeError\u001b[0m                                 Traceback (most recent call last)",
      "Cell \u001b[1;32mIn[176], line 3\u001b[0m\n\u001b[0;32m      1\u001b[0m price_list \u001b[38;5;241m=\u001b[39m [\u001b[38;5;241m435\u001b[39m, \u001b[38;5;241m1200\u001b[39m, \u001b[38;5;241m890\u001b[39m, \u001b[38;5;241m1350\u001b[39m, \u001b[38;5;241m995\u001b[39m]\n\u001b[0;32m      2\u001b[0m sale_list\u001b[38;5;241m=\u001b[39m \u001b[38;5;28mmap\u001b[39m(\u001b[38;5;28;01mlambda\u001b[39;00m x:x\u001b[38;5;241m*\u001b[39m\u001b[38;5;241m0.8\u001b[39m, price_list)\n\u001b[1;32m----> 3\u001b[0m \u001b[38;5;28mprint\u001b[39m(\u001b[38;5;28mlist\u001b[39m(sale_list))\n",
      "\u001b[1;31mTypeError\u001b[0m: 'list' object is not callable"
     ]
    }
   ],
   "source": [
    "price_list = [435, 1200, 890, 1350, 995]\n",
    "sale_list= map(lambda x:x*0.8, price_list)\n",
    "print(list(sale_list))"
   ]
  },
  {
   "cell_type": "markdown",
   "id": "6aa9e8b4-537e-48da-843f-fae6059e197e",
   "metadata": {},
   "source": [
    "# 12. 평균과 10 이상 차이나는 값 구하기"
   ]
  },
  {
   "cell_type": "code",
   "execution_count": 105,
   "id": "c659a895-168c-4d06-bbf6-b34e9563f2b3",
   "metadata": {},
   "outputs": [
    {
     "name": "stdin",
     "output_type": "stream",
     "text": [
      "정수를 입력하세요: 90\n",
      "정수를 입력하세요: 5\n",
      "정수를 입력하세요: 4\n",
      "정수를 입력하세요: 3\n",
      "정수를 입력하세요: 2\n",
      "정수를 입력하세요: 1\n",
      "정수를 입력하세요: 6\n",
      "정수를 입력하세요: 7\n",
      "정수를 입력하세요: 8\n",
      "정수를 입력하세요: 9\n"
     ]
    },
    {
     "name": "stdout",
     "output_type": "stream",
     "text": [
      "13.5\n",
      "[90]\n"
     ]
    }
   ],
   "source": [
    "list = []\n",
    "for i in range(1,11):\n",
    "    input_num = int(input('정수를 입력하세요:'))\n",
    "    list.append(input_num)\n",
    "result = sum(list) / 10\n",
    "print(result)\n",
    "\n",
    "\n",
    "new_list = []\n",
    "for i in list:\n",
    "    if i - result > 10:\n",
    "        new_list.append(i)\n",
    "print(new_list)\n",
    "    \n",
    "    \n",
    "    \n"
   ]
  },
  {
   "cell_type": "markdown",
   "id": "956031ed-8e82-4695-8b3f-a10b5280f662",
   "metadata": {},
   "source": [
    "# n번째로 큰 수 찾기"
   ]
  },
  {
   "cell_type": "code",
   "execution_count": 178,
   "id": "f69e6240-1111-4340-a097-2e7b73fdfff8",
   "metadata": {},
   "outputs": [
    {
     "name": "stdin",
     "output_type": "stream",
     "text": [
      "정수를 입력하세요: (종료:0) 1\n",
      "정수를 입력하세요: (종료:0) 3\n",
      "정수를 입력하세요: (종료:0) 5\n",
      "정수를 입력하세요: (종료:0) 7\n",
      "정수를 입력하세요: (종료:0) 9\n",
      "정수를 입력하세요: (종료:0) 10\n",
      "정수를 입력하세요: (종료:0) 0\n",
      "검색 순위를 입력하세요: 2\n"
     ]
    },
    {
     "name": "stdout",
     "output_type": "stream",
     "text": [
      "2번째로 큰 수는 3 입니다\n"
     ]
    },
    {
     "name": "stdin",
     "output_type": "stream",
     "text": [
      "검색 순위를 입력하세요: 3\n"
     ]
    },
    {
     "name": "stdout",
     "output_type": "stream",
     "text": [
      "3번째로 큰 수는 5 입니다\n"
     ]
    },
    {
     "name": "stdin",
     "output_type": "stream",
     "text": [
      "검색 순위를 입력하세요: 11\n"
     ]
    },
    {
     "ename": "IndexError",
     "evalue": "list index out of range",
     "output_type": "error",
     "traceback": [
      "\u001b[1;31m---------------------------------------------------------------------------\u001b[0m",
      "\u001b[1;31mIndexError\u001b[0m                                Traceback (most recent call last)",
      "Cell \u001b[1;32mIn[178], line 14\u001b[0m\n\u001b[0;32m     12\u001b[0m \u001b[38;5;28;01melse\u001b[39;00m: \n\u001b[0;32m     13\u001b[0m     \u001b[38;5;28mlist\u001b[39m\u001b[38;5;241m.\u001b[39msort()\n\u001b[1;32m---> 14\u001b[0m     \u001b[38;5;28mprint\u001b[39m(\u001b[38;5;124mf\u001b[39m\u001b[38;5;124m'\u001b[39m\u001b[38;5;132;01m{\u001b[39;00mrank\u001b[38;5;132;01m}\u001b[39;00m\u001b[38;5;124m번째로 큰 수는 \u001b[39m\u001b[38;5;132;01m{\u001b[39;00m\u001b[38;5;28mlist\u001b[39m[rank\u001b[38;5;241m-\u001b[39m\u001b[38;5;241m1\u001b[39m]\u001b[38;5;132;01m}\u001b[39;00m\u001b[38;5;124m 입니다\u001b[39m\u001b[38;5;124m'\u001b[39m)\n",
      "\u001b[1;31mIndexError\u001b[0m: list index out of range"
     ]
    }
   ],
   "source": [
    "list = []\n",
    "while True:\n",
    "    input_num = int(input('정수를 입력하세요: (종료:0)'))\n",
    "    if input_num == 0:\n",
    "        break\n",
    "    list.append(input_num)\n",
    "\n",
    "for i in list:\n",
    "    rank = int(input('검색 순위를 입력하세요:'))\n",
    "    if len(list) < rank < len(list):\n",
    "        print('검색 범위가 틀렸습니다')\n",
    "    else: \n",
    "        list.sort()\n",
    "        print(f'{rank}번째로 큰 수는 {list[rank-1]} 입니다')\n",
    "\n",
    "\n",
    "        \n",
    "    \n",
    "\n",
    "\n",
    "\n",
    "    \n",
    "    \n",
    "    \n",
    "    \n",
    "\n",
    "    \n",
    "\n",
    "    \n",
    "\n",
    "        \n",
    "        \n",
    "    "
   ]
  },
  {
   "cell_type": "markdown",
   "id": "782bf0d5-335a-49f5-b82d-e0fe22ecc6dd",
   "metadata": {},
   "source": [
    "# 날짜 수 구하기"
   ]
  },
  {
   "cell_type": "code",
   "execution_count": 177,
   "id": "94162717-b79a-42c2-bf35-94e70dbea7b8",
   "metadata": {},
   "outputs": [
    {
     "name": "stdin",
     "output_type": "stream",
     "text": [
      "연도: 2024\n",
      "월: 3\n",
      "일: 26\n"
     ]
    },
    {
     "name": "stdout",
     "output_type": "stream",
     "text": [
      "1년 1월 1일~ 2024년 3월 26일까지는 총 738971입니다\n"
     ]
    }
   ],
   "source": [
    "year = int(input('연도:'))\n",
    "month = int(input('월:'))\n",
    "day = int(input('일:'))\n",
    "\n",
    "total_days = 0 \n",
    "\n",
    "for i in range(1, year):\n",
    "    if (i % 4 == 0 and i % 100 != 0) or i % 400 == 0:\n",
    "        total_days += 366\n",
    "    else:\n",
    "        total_days += 365\n",
    "        \n",
    "for x in range(1,month):\n",
    "    if x in [1, 3, 5, 7, 8, 10, 12]:  \n",
    "        total_days += 31\n",
    "    elif x in [4, 6, 9, 11]:  \n",
    "        total_days += 30\n",
    "    elif x == 2:  \n",
    "        if (year % 4 == 0 and year % 100 != 0) or year % 400 == 0:  \n",
    "            total_days += 29\n",
    "        else:  \n",
    "            total_days += 28\n",
    "\n",
    "total_days += day\n",
    "print(f'1년 1월 1일~ {year}년 {month}월 {day}일까지는 총 {total_days}입니다')\n",
    "\n",
    "\n"
   ]
  },
  {
   "cell_type": "markdown",
   "id": "c60228a5-81af-41a5-9248-26933b31656b",
   "metadata": {},
   "source": [
    "# 리스트에 저장된 숫자 맞추기"
   ]
  },
  {
   "cell_type": "code",
   "execution_count": 141,
   "id": "2999c94d-8681-46a3-b277-9bb3bfd6267b",
   "metadata": {},
   "outputs": [
    {
     "ename": "SyntaxError",
     "evalue": "invalid syntax (3729784309.py, line 8)",
     "output_type": "error",
     "traceback": [
      "\u001b[1;36m  Cell \u001b[1;32mIn[141], line 8\u001b[1;36m\u001b[0m\n\u001b[1;33m    print(|x|x|x|x|x|)\u001b[0m\n\u001b[1;37m          ^\u001b[0m\n\u001b[1;31mSyntaxError\u001b[0m\u001b[1;31m:\u001b[0m invalid syntax\n"
     ]
    }
   ],
   "source": [
    "import random\n",
    "num = random.sample(range(1, 20), 5)\n",
    "cnt = 0\n",
    "list = []\n",
    "list.append(num)\n",
    "\n",
    "while True:\n",
    "    print('|x|x|x|x|x|')\n",
    "    \n",
    "\n",
    "\n",
    "    \n",
    "\n",
    "    \n",
    "\n",
    "\n",
    "\n",
    "\n"
   ]
  }
 ],
 "metadata": {
  "kernelspec": {
   "display_name": "Python 3 (ipykernel)",
   "language": "python",
   "name": "python3"
  },
  "language_info": {
   "codemirror_mode": {
    "name": "ipython",
    "version": 3
   },
   "file_extension": ".py",
   "mimetype": "text/x-python",
   "name": "python",
   "nbconvert_exporter": "python",
   "pygments_lexer": "ipython3",
   "version": "3.11.7"
  }
 },
 "nbformat": 4,
 "nbformat_minor": 5
}
