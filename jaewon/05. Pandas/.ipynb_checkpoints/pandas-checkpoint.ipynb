{
 "cells": [
  {
   "cell_type": "markdown",
   "id": "c5e9dcd0-1101-40b3-a0f2-626cf53afa99",
   "metadata": {},
   "source": [
    "# 판다스 개요\n",
    "- 판다스는 데이터 조작 및 분석을 위해 ptyhon 프로그래밍 언어로 작성된 소프트웨어 라이브러리다\n",
    "- 판다스는 파이썬계의 엑셀이라 불리운다\n",
    "- 공식 사이트: https://pandas.pydata.org/"
   ]
  },
  {
   "cell_type": "markdown",
   "id": "3ffbb63e-d6ca-4a49-98e9-31b9b81a0274",
   "metadata": {},
   "source": [
    "# 판다스에서 사용하는 자료 구조\n",
    "- 판다스는 일반저긍로 pd라는 별칭으로 불러온다"
   ]
  },
  {
   "cell_type": "code",
   "execution_count": 10,
   "id": "238b535e-55e4-44f4-9dcb-4e551c97e9c7",
   "metadata": {},
   "outputs": [],
   "source": [
    "import pandas as pd"
   ]
  },
  {
   "cell_type": "markdown",
   "id": "f58f2481-b53a-4b14-bc13-09b2f7abf3a1",
   "metadata": {},
   "source": [
    "- 판다스의 구성 요소\n",
    "  \n",
    "      -> Series\n",
    "      >- DataFrame 중에서 하나의 column에 해당하는 데이터\n",
    "      >- 1차원(index, values 2가지 요소로 구성)\n",
    "  \n",
    "      ->  DataFrame\n",
    "      >- Data table 전체를 의미하는 용어\n",
    "      >- 여러 개의 series를 이용해 구성\n",
    "      >- 2차원(index, column, values 3가지 요소로 구성)\n",
    "  \n",
    "      -> Index\n",
    "      >- Series, DataFrame을 구성하는 이름\n",
    "      \n",
    "\n",
    "\n",
    "\n",
    "  ![Data](DataFrame_structure.png)"
   ]
  },
  {
   "cell_type": "markdown",
   "id": "d1d4cd5e-8d02-4753-9b4b-db7e2e4d2c46",
   "metadata": {},
   "source": [
    "# Series (시리즈)"
   ]
  },
  {
   "cell_type": "markdown",
   "id": "500c53dc-2312-4aee-a036-29a86a2e4d32",
   "metadata": {},
   "source": [
    "## 시리즈 생성:\n",
    "- 시리즈는 1차열 배열과 유사하게 사용할 수 있다\n",
    "- Series 클래스 생성자에 리스트를 전달해 시리즈 객체를 생성할 수 있다\n",
    "- 리스트의 요소에 대해 인덱스가 자동으로 생성되어 시리즈 객체를 출력할 때 표시된다."
   ]
  },
  {
   "cell_type": "code",
   "execution_count": 11,
   "id": "d50557bf-c50a-44ff-8b5d-8501d99a8bad",
   "metadata": {},
   "outputs": [
    {
     "name": "stdout",
     "output_type": "stream",
     "text": [
      "0     2\n",
      "1     3\n",
      "2     5\n",
      "3     7\n",
      "4    11\n",
      "dtype: int64\n",
      "<class 'pandas.core.series.Series'>\n"
     ]
    }
   ],
   "source": [
    "sr = pd.Series([2,3,5,7,11])\n",
    "print(sr)\n",
    "print(type(sr))"
   ]
  },
  {
   "cell_type": "code",
   "execution_count": 13,
   "id": "180f0feb-428a-4eba-b3a5-ccb39918454d",
   "metadata": {},
   "outputs": [
    {
     "name": "stdout",
     "output_type": "stream",
     "text": [
      "아침     토스트\n",
      "점심    제육볶음\n",
      "저녁      치킨\n",
      "dtype: object\n"
     ]
    }
   ],
   "source": [
    "# 명시적으로 인덱스 전달하기\n",
    "menu_list = ['토스트', '제육볶음', '치킨']\n",
    "index_list = ['아침', '점심', '저녁']\n",
    "sr=pd.Series(menu_list, index=index_list)\n",
    "print(sr)"
   ]
  },
  {
   "cell_type": "code",
   "execution_count": 15,
   "id": "b5c8b84a-9965-4bef-b136-b6fe3dc8a032",
   "metadata": {},
   "outputs": [
    {
     "name": "stdout",
     "output_type": "stream",
     "text": [
      "Index(['아침', '점심', '저녁'], dtype='object')\n",
      "['토스트' '제육볶음' '치킨']\n",
      "<class 'numpy.ndarray'>\n"
     ]
    }
   ],
   "source": [
    "# 인데스와 값 추출\n",
    "print(sr.index)\n",
    "print(sr.values)\n",
    "print(type(sr.values))"
   ]
  },
  {
   "cell_type": "code",
   "execution_count": 20,
   "id": "8190b204-f5c1-4126-985b-88ac2f1ef71b",
   "metadata": {},
   "outputs": [
    {
     "name": "stdout",
     "output_type": "stream",
     "text": [
      "a    21\n",
      "b    22\n",
      "c    23\n",
      "d    24\n",
      "e    25\n",
      "dtype: int64\n"
     ]
    }
   ],
   "source": [
    "# 파이썬 딕셔너리를 이용한 Series 생성\n",
    "dic_data = {'a':21, 'b':22, 'c':23, 'd':24, 'e':25}\n",
    "sr = pd.Series(dic_data)\n",
    "print(sr)"
   ]
  },
  {
   "cell_type": "markdown",
   "id": "975f66bc-ac77-41f6-b6d7-17c404d45738",
   "metadata": {},
   "source": [
    "## 원소 선택"
   ]
  },
  {
   "cell_type": "code",
   "execution_count": 20,
   "id": "09088865-f8a7-4542-830c-86ac20f511f6",
   "metadata": {},
   "outputs": [],
   "source": [
    "import warnings\n",
    "warnings.filterwarnings(action='ignore')"
   ]
  },
  {
   "cell_type": "code",
   "execution_count": 25,
   "id": "7ca3068d-dc87-4d1d-b459-c40c9fe5da48",
   "metadata": {},
   "outputs": [
    {
     "name": "stdout",
     "output_type": "stream",
     "text": [
      "a    21\n",
      "b    22\n",
      "c    23\n",
      "d    24\n",
      "e    25\n",
      "dtype: int64\n",
      "------------------------------\n",
      "21\n",
      "------------------------------\n",
      "22\n",
      "------------------------------\n",
      "a    21\n",
      "b    22\n",
      "dtype: int64\n",
      "------------------------------\n",
      "a    21\n",
      "c    23\n",
      "dtype: int64\n",
      "------------------------------\n",
      "a    21\n",
      "b    22\n",
      "c    23\n",
      "d    24\n",
      "dtype: int64\n"
     ]
    }
   ],
   "source": [
    "print(sr)\n",
    "print('-'*30)\n",
    "print(sr[0]) #sr.iloc[0] 동일\n",
    "print('-'*30)\n",
    "print(sr['b'])\n",
    "print('-'*30)\n",
    "print(sr[:2])\n",
    "print('-'*30)\n",
    "print(sr[[0,2]])\n",
    "print('-'*30)\n",
    "print(sr['a':'d']) # 인덱스 슬라이싱을 이용한 슬라이싱은 마지막 인덱스도 포함한다"
   ]
  },
  {
   "cell_type": "markdown",
   "id": "a77e8f90-c70d-42f5-bd2b-eb55fb52adea",
   "metadata": {},
   "source": [
    "## unique(), value_counts()\n",
    "- sr.unique(): ** 결측치를 포함하며 ** 중복을 제외한 데이터의 종류를 ndarray로 반환\n",
    "- sr.value_counts(): ** 결측치를 포함하지 않으며** 데이터의 종류별 개수를 Series로 반환한다"
   ]
  },
  {
   "cell_type": "code",
   "execution_count": 33,
   "id": "9e31c537-8221-441d-9b37-cc8cfcfe1b7e",
   "metadata": {},
   "outputs": [
    {
     "name": "stdout",
     "output_type": "stream",
     "text": [
      "['A' 'B' nan 'C' 'D']\n",
      "A    3\n",
      "B    1\n",
      "C    1\n",
      "D    2\n",
      "Name: count, dtype: int64\n"
     ]
    }
   ],
   "source": [
    "import numpy as np\n",
    "sr = pd.Series(['A', 'B', 'A', np.NaN, 'C', 'D','D','A'])\n",
    "print(sr.unique())\n",
    "print(sr.value_counts().sort_index())"
   ]
  },
  {
   "cell_type": "markdown",
   "id": "db0ae78a-1deb-439c-b5d9-7149d8895d2e",
   "metadata": {},
   "source": [
    "# DataFrame (데이터프레임)"
   ]
  },
  {
   "cell_type": "markdown",
   "id": "b548cbb3-fff8-4f77-94cf-ef2cbd3de6a3",
   "metadata": {},
   "source": [
    "## 데이터 프레임 생성\n",
    "- 데이터프레임은 2차원 배열과 유사하게 사용할 수 있다\n",
    "- pandas의 Dataframe 클래스의 생성자에 이중 리스트를 전달하여 데이터프레임 객체를 생성할 수 있다.\n",
    "- 리스트의 요소에 대해 인덱스와 컬럼이 자동으로 생성되어 데이터프레임 객체를 출력할 때 표시된다."
   ]
  },
  {
   "cell_type": "code",
   "execution_count": 21,
   "id": "073a572f-7a9b-4fcb-abfa-8b317bab7a9f",
   "metadata": {},
   "outputs": [
    {
     "name": "stdout",
     "output_type": "stream",
     "text": [
      "   0  1  2\n",
      "0  1  2  3\n",
      "1  4  5  6\n",
      "2  7  8  9\n",
      "<class 'pandas.core.frame.DataFrame'>\n"
     ]
    }
   ],
   "source": [
    "df = pd.DataFrame([[1,2,3], [4,5,6], [7,8,9]])\n",
    "print(df)\n",
    "print(type(df))"
   ]
  },
  {
   "cell_type": "code",
   "execution_count": 122,
   "id": "babcb187-eb4b-48a0-8240-aa313c153349",
   "metadata": {},
   "outputs": [
    {
     "name": "stderr",
     "output_type": "stream",
     "text": [
      "<>:3: SyntaxWarning: list indices must be integers or slices, not tuple; perhaps you missed a comma?\n",
      "<>:3: SyntaxWarning: list indices must be integers or slices, not tuple; perhaps you missed a comma?\n",
      "C:\\Users\\user\\AppData\\Local\\Temp\\ipykernel_20424\\3951911798.py:3: SyntaxWarning: list indices must be integers or slices, not tuple; perhaps you missed a comma?\n",
      "  menu_list = [['토스트','시리얼','스크램플']\n",
      "C:\\Users\\user\\AppData\\Local\\Temp\\ipykernel_20424\\3951911798.py:3: SyntaxWarning: list indices must be integers or slices, not tuple; perhaps you missed a comma?\n",
      "  menu_list = [['토스트','시리얼','스크램플']\n",
      "C:\\Users\\user\\AppData\\Local\\Temp\\ipykernel_20424\\3951911798.py:3: SyntaxWarning: list indices must be integers or slices, not tuple; perhaps you missed a comma?\n",
      "  menu_list = [['토스트','시리얼','스크램플']\n",
      "C:\\Users\\user\\AppData\\Local\\Temp\\ipykernel_20424\\3951911798.py:3: SyntaxWarning: list indices must be integers or slices, not tuple; perhaps you missed a comma?\n",
      "  menu_list = [['토스트','시리얼','스크램플']\n",
      "C:\\Users\\user\\AppData\\Local\\Temp\\ipykernel_20424\\3951911798.py:3: SyntaxWarning: list indices must be integers or slices, not tuple; perhaps you missed a comma?\n",
      "  menu_list = [['토스트','시리얼','스크램플']\n",
      "C:\\Users\\user\\AppData\\Local\\Temp\\ipykernel_20424\\3951911798.py:3: SyntaxWarning: list indices must be integers or slices, not tuple; perhaps you missed a comma?\n",
      "  menu_list = [['토스트','시리얼','스크램플']\n",
      "C:\\Users\\user\\AppData\\Local\\Temp\\ipykernel_20424\\3951911798.py:3: SyntaxWarning: list indices must be integers or slices, not tuple; perhaps you missed a comma?\n",
      "  menu_list = [['토스트','시리얼','스크램플']\n"
     ]
    },
    {
     "ename": "TypeError",
     "evalue": "list indices must be integers or slices, not tuple",
     "output_type": "error",
     "traceback": [
      "\u001b[1;31m---------------------------------------------------------------------------\u001b[0m",
      "\u001b[1;31mTypeError\u001b[0m                                 Traceback (most recent call last)",
      "Cell \u001b[1;32mIn[122], line 3\u001b[0m\n\u001b[0;32m      1\u001b[0m \u001b[38;5;66;03m# 인덱스와 컬럼을 명시적으로 전달하기\u001b[39;00m\n\u001b[1;32m----> 3\u001b[0m menu_list \u001b[38;5;241m=\u001b[39m [[\u001b[38;5;124m'\u001b[39m\u001b[38;5;124m토스트\u001b[39m\u001b[38;5;124m'\u001b[39m,\u001b[38;5;124m'\u001b[39m\u001b[38;5;124m시리얼\u001b[39m\u001b[38;5;124m'\u001b[39m,\u001b[38;5;124m'\u001b[39m\u001b[38;5;124m스크램플\u001b[39m\u001b[38;5;124m'\u001b[39m]\n\u001b[0;32m      4\u001b[0m              [\u001b[38;5;124m'\u001b[39m\u001b[38;5;124m제육볶음\u001b[39m\u001b[38;5;124m'\u001b[39m, \u001b[38;5;124m'\u001b[39m\u001b[38;5;124m칼국수\u001b[39m\u001b[38;5;124m'\u001b[39m, \u001b[38;5;124m'\u001b[39m\u001b[38;5;124m육개장\u001b[39m\u001b[38;5;124m'\u001b[39m]\n\u001b[0;32m      5\u001b[0m              [\u001b[38;5;124m'\u001b[39m\u001b[38;5;124m치킨\u001b[39m\u001b[38;5;124m'\u001b[39m, \u001b[38;5;124m'\u001b[39m\u001b[38;5;124m삼겹살\u001b[39m\u001b[38;5;124m'\u001b[39m, \u001b[38;5;124m'\u001b[39m\u001b[38;5;124m라면\u001b[39m\u001b[38;5;124m'\u001b[39m]]\n\u001b[0;32m      6\u001b[0m index \u001b[38;5;241m=\u001b[39m [\u001b[38;5;124m'\u001b[39m\u001b[38;5;124m아침\u001b[39m\u001b[38;5;124m'\u001b[39m, \u001b[38;5;124m'\u001b[39m\u001b[38;5;124m점심\u001b[39m\u001b[38;5;124m'\u001b[39m, \u001b[38;5;124m'\u001b[39m\u001b[38;5;124m저녁\u001b[39m\u001b[38;5;124m'\u001b[39m]\n\u001b[0;32m      7\u001b[0m column \u001b[38;5;241m=\u001b[39m [\u001b[38;5;124m'\u001b[39m\u001b[38;5;124m월\u001b[39m\u001b[38;5;124m'\u001b[39m, \u001b[38;5;124m'\u001b[39m\u001b[38;5;124m화\u001b[39m\u001b[38;5;124m'\u001b[39m, \u001b[38;5;124m'\u001b[39m\u001b[38;5;124m수\u001b[39m\u001b[38;5;124m'\u001b[39m]\n",
      "\u001b[1;31mTypeError\u001b[0m: list indices must be integers or slices, not tuple"
     ]
    }
   ],
   "source": [
    "# 인덱스와 컬럼을 명시적으로 전달하기\n",
    "\n",
    "menu_list = [['토스트','시리얼','스크램플']\n",
    "             ['제육볶음', '칼국수', '육개장']\n",
    "             ['치킨', '삼겹살', '라면']]\n",
    "index = ['아침', '점심', '저녁']\n",
    "column = ['월', '화', '수']\n",
    "df = pd.DataFrame(menu_list, index = index, columns=column)\n",
    "display(df)"
   ]
  },
  {
   "cell_type": "code",
   "execution_count": 123,
   "id": "b928a8ee-d2fd-4320-8e5d-c9332000932c",
   "metadata": {},
   "outputs": [
    {
     "data": {
      "text/html": [
       "<div>\n",
       "<style scoped>\n",
       "    .dataframe tbody tr th:only-of-type {\n",
       "        vertical-align: middle;\n",
       "    }\n",
       "\n",
       "    .dataframe tbody tr th {\n",
       "        vertical-align: top;\n",
       "    }\n",
       "\n",
       "    .dataframe thead th {\n",
       "        text-align: right;\n",
       "    }\n",
       "</style>\n",
       "<table border=\"1\" class=\"dataframe\">\n",
       "  <thead>\n",
       "    <tr style=\"text-align: right;\">\n",
       "      <th></th>\n",
       "      <th>월</th>\n",
       "      <th>화</th>\n",
       "      <th>수</th>\n",
       "    </tr>\n",
       "  </thead>\n",
       "  <tbody>\n",
       "    <tr>\n",
       "      <th>아침</th>\n",
       "      <td>토스트</td>\n",
       "      <td>시리얼</td>\n",
       "      <td>스크램플</td>\n",
       "    </tr>\n",
       "    <tr>\n",
       "      <th>점심</th>\n",
       "      <td>제육볶음</td>\n",
       "      <td>칼국수</td>\n",
       "      <td>육개장</td>\n",
       "    </tr>\n",
       "    <tr>\n",
       "      <th>저녁</th>\n",
       "      <td>치킨</td>\n",
       "      <td>삼겹살</td>\n",
       "      <td>라면</td>\n",
       "    </tr>\n",
       "  </tbody>\n",
       "</table>\n",
       "</div>"
      ],
      "text/plain": [
       "       월    화     수\n",
       "아침   토스트  시리얼  스크램플\n",
       "점심  제육볶음  칼국수   육개장\n",
       "저녁    치킨  삼겹살    라면"
      ]
     },
     "metadata": {},
     "output_type": "display_data"
    }
   ],
   "source": [
    "menu_list = [['토스트', '시리얼', '스크램플'],\n",
    "             ['제육볶음', '칼국수', '육개장'],\n",
    "             ['치킨', '삼겹살', '라면']]\n",
    "index = ['아침', '점심', '저녁']\n",
    "column = ['월', '화', '수']\n",
    "df = pd.DataFrame(menu_list, index=index, columns=column)\n",
    "display(df)"
   ]
  },
  {
   "cell_type": "code",
   "execution_count": 121,
   "id": "5b2e77bf-4671-4c0c-b6d8-12af63f64939",
   "metadata": {},
   "outputs": [
    {
     "name": "stdout",
     "output_type": "stream",
     "text": [
      "Index(['A', 'B', 'C', 'D', 'E', 'F', 'G', 'H', 'I', 'J'], dtype='object')\n",
      "Index(['a', 'b', 'c', 'd', 'e', 'f', 'g', 'h', 'i', 'j'], dtype='object')\n",
      "[[ 9 15 64 28 89 93 29  8 73  0]\n",
      " [40 36 16 11 54 88 62 33 72 78]\n",
      " [49 51 54 77 69 13 25 13 92 86]\n",
      " [30 30 89 12 65 31 57 36 27 18]\n",
      " [93 77 22 23 94 11 28 74 88  9]\n",
      " [15 18 80 71 88 11 17 46  7 75]\n",
      " [28 33 84 96 88 44  5  4 71 88]\n",
      " [88 50 54 34 15 77 88 15  6 85]\n",
      " [22 11 12 92 96 62 57 79 42 57]\n",
      " [97 50 45 40 89 73 37  0 18 23]]\n"
     ]
    }
   ],
   "source": [
    "# 인덱스, 컬럼, 값 가져오기\n",
    "print(df.index)\n",
    "print(df.columns)\n",
    "print(df.values)"
   ]
  },
  {
   "cell_type": "code",
   "execution_count": 42,
   "id": "c7ab601a-7214-4f5a-be89-2bf129018845",
   "metadata": {},
   "outputs": [
    {
     "name": "stdout",
     "output_type": "stream",
     "text": [
      "    이름  나이           전화번호  지역\n",
      "0  홍길동  32  010-1233-5678  서울\n",
      "1  전우치  27  010-5233-5638  경기\n",
      "2  손오공  30  010-7233-5618  대구\n",
      "3  사오정  31  010-1283-4678  대전\n",
      "4  저팔계  33  010-9833-1541  제주\n"
     ]
    }
   ],
   "source": [
    "# 딕셔너리를 이용한 데이터프레임 생성\n",
    "raw_data = {\n",
    "    '이름':['홍길동', '전우치', '손오공', '사오정', '저팔계'],\n",
    "    '나이':[32, 27, 30, 31, 33],\n",
    "    '전화번호': ['010-1233-5678','010-5233-5638','010-7233-5618','010-1283-4678','010-9833-1541'],\n",
    "    '지역':['서울', '경기', '대구', '대전', '제주']\n",
    "}\n",
    "df = pd.DataFrame(raw_data)\n",
    "print(df)"
   ]
  },
  {
   "cell_type": "markdown",
   "id": "4faced91-0b1d-4a5c-ab44-918567b776ad",
   "metadata": {},
   "source": [
    "# 데이터 조회 및 처리 "
   ]
  },
  {
   "cell_type": "code",
   "execution_count": 23,
   "id": "680c2fcd-6582-4559-9083-2e2d2a336f4e",
   "metadata": {},
   "outputs": [
    {
     "name": "stdout",
     "output_type": "stream",
     "text": [
      "    a   b   c   d   e   f   g   h   i   J\n",
      "A   9  15  64  28  89  93  29   8  73   0\n",
      "B  40  36  16  11  54  88  62  33  72  78\n",
      "C  49  51  54  77  69  13  25  13  92  86\n",
      "D  30  30  89  12  65  31  57  36  27  18\n",
      "E  93  77  22  23  94  11  28  74  88   9\n",
      "F  15  18  80  71  88  11  17  46   7  75\n",
      "G  28  33  84  96  88  44   5   4  71  88\n",
      "H  88  50  54  34  15  77  88  15   6  85\n",
      "I  22  11  12  92  96  62  57  79  42  57\n",
      "J  97  50  45  40  89  73  37   0  18  23\n"
     ]
    }
   ],
   "source": [
    "import numpy as np\n",
    "import pandas as pd\n",
    "\n",
    "np.random.seed(10)\n",
    "data = np.random.randint(100,size=(10,10))\n",
    "df = pd.DataFrame(data, index=list('ABCDEFGHIJ'), columns=list('abcdefghiJ'))\n",
    "print(df)"
   ]
  },
  {
   "cell_type": "markdown",
   "id": "b38d9ce0-9ec6-4ca8-a882-b0dc5981ab5c",
   "metadata": {},
   "source": [
    "## 데이터 조회"
   ]
  },
  {
   "cell_type": "markdown",
   "id": "8e745eba-fd00-49a7-ae71-9476ef48076d",
   "metadata": {},
   "source": [
    "### 열 값 읽기\n",
    "- df['열 명'] / df.열명"
   ]
  },
  {
   "cell_type": "code",
   "execution_count": 24,
   "id": "9b2b1b8d-586b-4c8f-a8e6-165fdd607a27",
   "metadata": {},
   "outputs": [
    {
     "name": "stdout",
     "output_type": "stream",
     "text": [
      "A     9\n",
      "B    40\n",
      "C    49\n",
      "D    30\n",
      "E    93\n",
      "F    15\n",
      "G    28\n",
      "H    88\n",
      "I    22\n",
      "J    97\n",
      "Name: a, dtype: int32\n"
     ]
    }
   ],
   "source": [
    "print(df['a']) # 시리즈 객체로 추출"
   ]
  },
  {
   "cell_type": "code",
   "execution_count": 4,
   "id": "a8ae0a16-1843-4ebd-9396-d0d962592e07",
   "metadata": {},
   "outputs": [
    {
     "name": "stdout",
     "output_type": "stream",
     "text": [
      "    a\n",
      "A   9\n",
      "B  40\n",
      "C  49\n",
      "D  30\n",
      "E  93\n",
      "F  15\n",
      "G  28\n",
      "H  88\n",
      "I  22\n",
      "J  97\n"
     ]
    }
   ],
   "source": [
    "# 여러 개의 열 값을 읽기 위해서 열 이름을 리스트로 전달한다\n",
    "print(df[['a']])"
   ]
  },
  {
   "cell_type": "markdown",
   "id": "e681346d-1a40-4fc9-a5e6-13c1c4601787",
   "metadata": {},
   "source": [
    "### 행 값 읽기\n",
    "- df.loc['행명']"
   ]
  },
  {
   "cell_type": "code",
   "execution_count": 25,
   "id": "dc6d7e19-1203-4fff-8624-083398275cde",
   "metadata": {},
   "outputs": [
    {
     "data": {
      "text/plain": [
       "a     9\n",
       "b    15\n",
       "c    64\n",
       "d    28\n",
       "e    89\n",
       "f    93\n",
       "g    29\n",
       "h     8\n",
       "i    73\n",
       "J     0\n",
       "Name: A, dtype: int32"
      ]
     },
     "execution_count": 25,
     "metadata": {},
     "output_type": "execute_result"
    }
   ],
   "source": [
    "df.loc['A']"
   ]
  },
  {
   "cell_type": "code",
   "execution_count": 6,
   "id": "7fc78b5a-cfa2-4667-b192-6f4a20450f61",
   "metadata": {},
   "outputs": [
    {
     "data": {
      "text/html": [
       "<div>\n",
       "<style scoped>\n",
       "    .dataframe tbody tr th:only-of-type {\n",
       "        vertical-align: middle;\n",
       "    }\n",
       "\n",
       "    .dataframe tbody tr th {\n",
       "        vertical-align: top;\n",
       "    }\n",
       "\n",
       "    .dataframe thead th {\n",
       "        text-align: right;\n",
       "    }\n",
       "</style>\n",
       "<table border=\"1\" class=\"dataframe\">\n",
       "  <thead>\n",
       "    <tr style=\"text-align: right;\">\n",
       "      <th></th>\n",
       "      <th>a</th>\n",
       "      <th>b</th>\n",
       "      <th>c</th>\n",
       "      <th>d</th>\n",
       "      <th>e</th>\n",
       "      <th>f</th>\n",
       "      <th>g</th>\n",
       "      <th>h</th>\n",
       "      <th>i</th>\n",
       "      <th>J</th>\n",
       "    </tr>\n",
       "  </thead>\n",
       "  <tbody>\n",
       "    <tr>\n",
       "      <th>A</th>\n",
       "      <td>9</td>\n",
       "      <td>15</td>\n",
       "      <td>64</td>\n",
       "      <td>28</td>\n",
       "      <td>89</td>\n",
       "      <td>93</td>\n",
       "      <td>29</td>\n",
       "      <td>8</td>\n",
       "      <td>73</td>\n",
       "      <td>0</td>\n",
       "    </tr>\n",
       "    <tr>\n",
       "      <th>C</th>\n",
       "      <td>49</td>\n",
       "      <td>51</td>\n",
       "      <td>54</td>\n",
       "      <td>77</td>\n",
       "      <td>69</td>\n",
       "      <td>13</td>\n",
       "      <td>25</td>\n",
       "      <td>13</td>\n",
       "      <td>92</td>\n",
       "      <td>86</td>\n",
       "    </tr>\n",
       "    <tr>\n",
       "      <th>D</th>\n",
       "      <td>30</td>\n",
       "      <td>30</td>\n",
       "      <td>89</td>\n",
       "      <td>12</td>\n",
       "      <td>65</td>\n",
       "      <td>31</td>\n",
       "      <td>57</td>\n",
       "      <td>36</td>\n",
       "      <td>27</td>\n",
       "      <td>18</td>\n",
       "    </tr>\n",
       "  </tbody>\n",
       "</table>\n",
       "</div>"
      ],
      "text/plain": [
       "    a   b   c   d   e   f   g   h   i   J\n",
       "A   9  15  64  28  89  93  29   8  73   0\n",
       "C  49  51  54  77  69  13  25  13  92  86\n",
       "D  30  30  89  12  65  31  57  36  27  18"
      ]
     },
     "execution_count": 6,
     "metadata": {},
     "output_type": "execute_result"
    }
   ],
   "source": [
    "# 여러 개의 행 값을 읽기 위해서는 행 이름을 리스트로 전달한다\n",
    "df.loc[['A', 'C', 'D']]"
   ]
  },
  {
   "cell_type": "markdown",
   "id": "01ead969-aa3d-429a-ba31-7dfe40167423",
   "metadata": {},
   "source": [
    "### df.head(), df.tail()\n",
    "- 상위(하위) n개의 행을 선택한다\n",
    "- 숫자를 전달하지 않으면 5개의 행을 선택한다."
   ]
  },
  {
   "cell_type": "code",
   "execution_count": 9,
   "id": "73369f49-a460-44fe-a865-f22d6ec8289f",
   "metadata": {},
   "outputs": [
    {
     "name": "stdout",
     "output_type": "stream",
     "text": [
      "------------------------------\n"
     ]
    },
    {
     "data": {
      "text/html": [
       "<div>\n",
       "<style scoped>\n",
       "    .dataframe tbody tr th:only-of-type {\n",
       "        vertical-align: middle;\n",
       "    }\n",
       "\n",
       "    .dataframe tbody tr th {\n",
       "        vertical-align: top;\n",
       "    }\n",
       "\n",
       "    .dataframe thead th {\n",
       "        text-align: right;\n",
       "    }\n",
       "</style>\n",
       "<table border=\"1\" class=\"dataframe\">\n",
       "  <thead>\n",
       "    <tr style=\"text-align: right;\">\n",
       "      <th></th>\n",
       "      <th>a</th>\n",
       "      <th>b</th>\n",
       "      <th>c</th>\n",
       "      <th>d</th>\n",
       "      <th>e</th>\n",
       "      <th>f</th>\n",
       "      <th>g</th>\n",
       "      <th>h</th>\n",
       "      <th>i</th>\n",
       "      <th>J</th>\n",
       "    </tr>\n",
       "  </thead>\n",
       "  <tbody>\n",
       "    <tr>\n",
       "      <th>F</th>\n",
       "      <td>15</td>\n",
       "      <td>18</td>\n",
       "      <td>80</td>\n",
       "      <td>71</td>\n",
       "      <td>88</td>\n",
       "      <td>11</td>\n",
       "      <td>17</td>\n",
       "      <td>46</td>\n",
       "      <td>7</td>\n",
       "      <td>75</td>\n",
       "    </tr>\n",
       "    <tr>\n",
       "      <th>G</th>\n",
       "      <td>28</td>\n",
       "      <td>33</td>\n",
       "      <td>84</td>\n",
       "      <td>96</td>\n",
       "      <td>88</td>\n",
       "      <td>44</td>\n",
       "      <td>5</td>\n",
       "      <td>4</td>\n",
       "      <td>71</td>\n",
       "      <td>88</td>\n",
       "    </tr>\n",
       "    <tr>\n",
       "      <th>H</th>\n",
       "      <td>88</td>\n",
       "      <td>50</td>\n",
       "      <td>54</td>\n",
       "      <td>34</td>\n",
       "      <td>15</td>\n",
       "      <td>77</td>\n",
       "      <td>88</td>\n",
       "      <td>15</td>\n",
       "      <td>6</td>\n",
       "      <td>85</td>\n",
       "    </tr>\n",
       "    <tr>\n",
       "      <th>I</th>\n",
       "      <td>22</td>\n",
       "      <td>11</td>\n",
       "      <td>12</td>\n",
       "      <td>92</td>\n",
       "      <td>96</td>\n",
       "      <td>62</td>\n",
       "      <td>57</td>\n",
       "      <td>79</td>\n",
       "      <td>42</td>\n",
       "      <td>57</td>\n",
       "    </tr>\n",
       "    <tr>\n",
       "      <th>J</th>\n",
       "      <td>97</td>\n",
       "      <td>50</td>\n",
       "      <td>45</td>\n",
       "      <td>40</td>\n",
       "      <td>89</td>\n",
       "      <td>73</td>\n",
       "      <td>37</td>\n",
       "      <td>0</td>\n",
       "      <td>18</td>\n",
       "      <td>23</td>\n",
       "    </tr>\n",
       "  </tbody>\n",
       "</table>\n",
       "</div>"
      ],
      "text/plain": [
       "    a   b   c   d   e   f   g   h   i   J\n",
       "F  15  18  80  71  88  11  17  46   7  75\n",
       "G  28  33  84  96  88  44   5   4  71  88\n",
       "H  88  50  54  34  15  77  88  15   6  85\n",
       "I  22  11  12  92  96  62  57  79  42  57\n",
       "J  97  50  45  40  89  73  37   0  18  23"
      ]
     },
     "execution_count": 9,
     "metadata": {},
     "output_type": "execute_result"
    }
   ],
   "source": [
    "df.head(2)\n",
    "print('-'*30)\n",
    "df.tail()"
   ]
  },
  {
   "cell_type": "markdown",
   "id": "ac9835a6-8c5c-4066-8329-80deb4887f87",
   "metadata": {},
   "source": [
    "### df.sample()\n",
    "- n개의 랜덤 데이터 추출\n",
    "- 매개변수 값이 없으면 1개의 랜덤 데이터 추가"
   ]
  },
  {
   "cell_type": "code",
   "execution_count": 26,
   "id": "c310f94b-b659-4ab4-b1e8-9c075a128b81",
   "metadata": {},
   "outputs": [
    {
     "data": {
      "text/html": [
       "<div>\n",
       "<style scoped>\n",
       "    .dataframe tbody tr th:only-of-type {\n",
       "        vertical-align: middle;\n",
       "    }\n",
       "\n",
       "    .dataframe tbody tr th {\n",
       "        vertical-align: top;\n",
       "    }\n",
       "\n",
       "    .dataframe thead th {\n",
       "        text-align: right;\n",
       "    }\n",
       "</style>\n",
       "<table border=\"1\" class=\"dataframe\">\n",
       "  <thead>\n",
       "    <tr style=\"text-align: right;\">\n",
       "      <th></th>\n",
       "      <th>a</th>\n",
       "      <th>b</th>\n",
       "      <th>c</th>\n",
       "      <th>d</th>\n",
       "      <th>e</th>\n",
       "      <th>f</th>\n",
       "      <th>g</th>\n",
       "      <th>h</th>\n",
       "      <th>i</th>\n",
       "      <th>J</th>\n",
       "    </tr>\n",
       "  </thead>\n",
       "  <tbody>\n",
       "    <tr>\n",
       "      <th>G</th>\n",
       "      <td>28</td>\n",
       "      <td>33</td>\n",
       "      <td>84</td>\n",
       "      <td>96</td>\n",
       "      <td>88</td>\n",
       "      <td>44</td>\n",
       "      <td>5</td>\n",
       "      <td>4</td>\n",
       "      <td>71</td>\n",
       "      <td>88</td>\n",
       "    </tr>\n",
       "    <tr>\n",
       "      <th>F</th>\n",
       "      <td>15</td>\n",
       "      <td>18</td>\n",
       "      <td>80</td>\n",
       "      <td>71</td>\n",
       "      <td>88</td>\n",
       "      <td>11</td>\n",
       "      <td>17</td>\n",
       "      <td>46</td>\n",
       "      <td>7</td>\n",
       "      <td>75</td>\n",
       "    </tr>\n",
       "  </tbody>\n",
       "</table>\n",
       "</div>"
      ],
      "text/plain": [
       "    a   b   c   d   e   f   g   h   i   J\n",
       "G  28  33  84  96  88  44   5   4  71  88\n",
       "F  15  18  80  71  88  11  17  46   7  75"
      ]
     },
     "execution_count": 26,
     "metadata": {},
     "output_type": "execute_result"
    }
   ],
   "source": [
    "df.sample(2)"
   ]
  },
  {
   "cell_type": "markdown",
   "id": "5905d313-2c9e-42ce-b33d-b043a578e21e",
   "metadata": {},
   "source": [
    "## 데이터 정보 조회"
   ]
  },
  {
   "cell_type": "code",
   "execution_count": 27,
   "id": "1b639ef6-1ccf-4ef6-abcc-ebbdc188f8b6",
   "metadata": {},
   "outputs": [
    {
     "name": "stdout",
     "output_type": "stream",
     "text": [
      "a    int32\n",
      "b    int32\n",
      "c    int32\n",
      "d    int32\n",
      "e    int32\n",
      "f    int32\n",
      "g    int32\n",
      "h    int32\n",
      "i    int32\n",
      "J    int32\n",
      "dtype: object\n",
      "a    float64\n",
      "b      int32\n",
      "c      int32\n",
      "d      int32\n",
      "e      int32\n",
      "f      int32\n",
      "g      int32\n",
      "h      int32\n",
      "i      int32\n",
      "J      int32\n",
      "dtype: object\n"
     ]
    }
   ],
   "source": [
    "# 컬럼별 데이터 타입 확인\n",
    "print(df.dtypes)\n",
    "df['a']= df['a'].astype(float)\n",
    "print(df.dtypes)"
   ]
  },
  {
   "cell_type": "code",
   "execution_count": 14,
   "id": "68df3619-b931-48a9-9c9e-358a515639e4",
   "metadata": {},
   "outputs": [
    {
     "name": "stdout",
     "output_type": "stream",
     "text": [
      "(10, 10)\n",
      "a    10\n",
      "b    10\n",
      "c    10\n",
      "d    10\n",
      "e    10\n",
      "f    10\n",
      "g    10\n",
      "h    10\n",
      "i    10\n",
      "J    10\n",
      "dtype: int64\n"
     ]
    }
   ],
   "source": [
    "# DataFrame의 Shape 확인\n",
    "print(df.shape)\n",
    "\n",
    "# 열마다 데이터의 개수 확인\n",
    "print(df.count()) # 결측치 제외\n"
   ]
  },
  {
   "cell_type": "code",
   "execution_count": 6,
   "id": "8f7aa1f8-d821-4b03-abc7-8c3077de37c2",
   "metadata": {},
   "outputs": [
    {
     "ename": "NameError",
     "evalue": "name 'df' is not defined",
     "output_type": "error",
     "traceback": [
      "\u001b[1;31m---------------------------------------------------------------------------\u001b[0m",
      "\u001b[1;31mNameError\u001b[0m                                 Traceback (most recent call last)",
      "Cell \u001b[1;32mIn[6], line 2\u001b[0m\n\u001b[0;32m      1\u001b[0m \u001b[38;5;66;03m# 기술 통계 정보 요약\u001b[39;00m\n\u001b[1;32m----> 2\u001b[0m \u001b[38;5;28mprint\u001b[39m(df\u001b[38;5;241m.\u001b[39mdescribe())\n",
      "\u001b[1;31mNameError\u001b[0m: name 'df' is not defined"
     ]
    }
   ],
   "source": [
    "# 기술 통계 정보 요약\n",
    "print(df.describe())"
   ]
  },
  {
   "cell_type": "markdown",
   "id": "001e2b46-e4a5-4b52-a3c7-843ec6344ca6",
   "metadata": {},
   "source": [
    "## 인덱싱, 슬라이싱"
   ]
  },
  {
   "cell_type": "code",
   "execution_count": 5,
   "id": "0a77c60f-bead-494e-a629-1a6fd4cb18d8",
   "metadata": {},
   "outputs": [
    {
     "ename": "NameError",
     "evalue": "name 'df' is not defined",
     "output_type": "error",
     "traceback": [
      "\u001b[1;31m---------------------------------------------------------------------------\u001b[0m",
      "\u001b[1;31mNameError\u001b[0m                                 Traceback (most recent call last)",
      "Cell \u001b[1;32mIn[5], line 1\u001b[0m\n\u001b[1;32m----> 1\u001b[0m \u001b[38;5;28mprint\u001b[39m(df)\n",
      "\u001b[1;31mNameError\u001b[0m: name 'df' is not defined"
     ]
    }
   ],
   "source": [
    "print(df)"
   ]
  },
  {
   "cell_type": "markdown",
   "id": "f2b5f55e-c2d0-466d-862f-bb964bb8e901",
   "metadata": {},
   "source": [
    "# 열 인덱싱 / 슬라이싱"
   ]
  },
  {
   "cell_type": "code",
   "execution_count": 28,
   "id": "8989f61f-b167-4fa6-9c5c-6d65cad1c717",
   "metadata": {},
   "outputs": [
    {
     "data": {
      "text/html": [
       "<div>\n",
       "<style scoped>\n",
       "    .dataframe tbody tr th:only-of-type {\n",
       "        vertical-align: middle;\n",
       "    }\n",
       "\n",
       "    .dataframe tbody tr th {\n",
       "        vertical-align: top;\n",
       "    }\n",
       "\n",
       "    .dataframe thead th {\n",
       "        text-align: right;\n",
       "    }\n",
       "</style>\n",
       "<table border=\"1\" class=\"dataframe\">\n",
       "  <thead>\n",
       "    <tr style=\"text-align: right;\">\n",
       "      <th></th>\n",
       "      <th>a</th>\n",
       "      <th>c</th>\n",
       "    </tr>\n",
       "  </thead>\n",
       "  <tbody>\n",
       "    <tr>\n",
       "      <th>A</th>\n",
       "      <td>9.0</td>\n",
       "      <td>64</td>\n",
       "    </tr>\n",
       "    <tr>\n",
       "      <th>B</th>\n",
       "      <td>40.0</td>\n",
       "      <td>16</td>\n",
       "    </tr>\n",
       "    <tr>\n",
       "      <th>C</th>\n",
       "      <td>49.0</td>\n",
       "      <td>54</td>\n",
       "    </tr>\n",
       "    <tr>\n",
       "      <th>D</th>\n",
       "      <td>30.0</td>\n",
       "      <td>89</td>\n",
       "    </tr>\n",
       "    <tr>\n",
       "      <th>E</th>\n",
       "      <td>93.0</td>\n",
       "      <td>22</td>\n",
       "    </tr>\n",
       "    <tr>\n",
       "      <th>F</th>\n",
       "      <td>15.0</td>\n",
       "      <td>80</td>\n",
       "    </tr>\n",
       "    <tr>\n",
       "      <th>G</th>\n",
       "      <td>28.0</td>\n",
       "      <td>84</td>\n",
       "    </tr>\n",
       "    <tr>\n",
       "      <th>H</th>\n",
       "      <td>88.0</td>\n",
       "      <td>54</td>\n",
       "    </tr>\n",
       "    <tr>\n",
       "      <th>I</th>\n",
       "      <td>22.0</td>\n",
       "      <td>12</td>\n",
       "    </tr>\n",
       "    <tr>\n",
       "      <th>J</th>\n",
       "      <td>97.0</td>\n",
       "      <td>45</td>\n",
       "    </tr>\n",
       "  </tbody>\n",
       "</table>\n",
       "</div>"
      ],
      "text/plain": [
       "      a   c\n",
       "A   9.0  64\n",
       "B  40.0  16\n",
       "C  49.0  54\n",
       "D  30.0  89\n",
       "E  93.0  22\n",
       "F  15.0  80\n",
       "G  28.0  84\n",
       "H  88.0  54\n",
       "I  22.0  12\n",
       "J  97.0  45"
      ]
     },
     "execution_count": 28,
     "metadata": {},
     "output_type": "execute_result"
    }
   ],
   "source": [
    "df['a']\n",
    "df[['a','c']]"
   ]
  },
  {
   "cell_type": "markdown",
   "id": "96ae0ea3-b627-411c-ad6d-590332e5b238",
   "metadata": {},
   "source": [
    "<font color = red><b>열의 순서를 이용해서 인덱싱을 할 수는 없다.</b> </font>"
   ]
  },
  {
   "cell_type": "code",
   "execution_count": null,
   "id": "c735c4c1-2beb-4fb3-97c3-aca2ed4bbf24",
   "metadata": {},
   "outputs": [],
   "source": [
    "#df[0]"
   ]
  },
  {
   "cell_type": "markdown",
   "id": "11d1d530-cac2-40f4-a98e-81bab1940e15",
   "metadata": {},
   "source": [
    "- columns 속성의 값을 이용해서 인덱싱이나 슬라이싱을 할 수 있다"
   ]
  },
  {
   "cell_type": "code",
   "execution_count": 25,
   "id": "833fc9b6-d092-44d6-bc18-71d421ebccca",
   "metadata": {},
   "outputs": [
    {
     "name": "stdout",
     "output_type": "stream",
     "text": [
      "a\n",
      "      a   b   c\n",
      "A   9.0  15  64\n",
      "B  40.0  36  16\n",
      "C  49.0  51  54\n",
      "D  30.0  30  89\n",
      "E  93.0  77  22\n",
      "F  15.0  18  80\n",
      "G  28.0  33  84\n",
      "H  88.0  50  54\n",
      "I  22.0  11  12\n",
      "J  97.0  50  45\n"
     ]
    }
   ],
   "source": [
    "print(df.columns[0])\n",
    "print(df[df.columns[0:3]])"
   ]
  },
  {
   "cell_type": "code",
   "execution_count": null,
   "id": "846a6b54-f896-40d1-8435-411b7accb77e",
   "metadata": {},
   "outputs": [],
   "source": [
    "- 행의 이름을 이용해서 슬라이싱을 할 수 있다\n",
    "- 파이썬의 슬라이싱과는 다르게 마지막 요소를 범위에 포함한다."
   ]
  },
  {
   "cell_type": "code",
   "execution_count": 3,
   "id": "0e66760e-a5f2-4290-9b3e-6642f9de9863",
   "metadata": {},
   "outputs": [
    {
     "ename": "NameError",
     "evalue": "name 'df' is not defined",
     "output_type": "error",
     "traceback": [
      "\u001b[1;31m---------------------------------------------------------------------------\u001b[0m",
      "\u001b[1;31mNameError\u001b[0m                                 Traceback (most recent call last)",
      "Cell \u001b[1;32mIn[3], line 1\u001b[0m\n\u001b[1;32m----> 1\u001b[0m \u001b[38;5;28mprint\u001b[39m(df[\u001b[38;5;124m'\u001b[39m\u001b[38;5;124mA\u001b[39m\u001b[38;5;124m'\u001b[39m:\u001b[38;5;124m'\u001b[39m\u001b[38;5;124mC\u001b[39m\u001b[38;5;124m'\u001b[39m])\n\u001b[0;32m      2\u001b[0m \u001b[38;5;66;03m# 행 단위의 추출은 loc 속성을 이용하는 것이 좋다\u001b[39;00m\n\u001b[0;32m      3\u001b[0m \u001b[38;5;28mprint\u001b[39m(df\u001b[38;5;241m.\u001b[39mloc[\u001b[38;5;124m'\u001b[39m\u001b[38;5;124mA\u001b[39m\u001b[38;5;124m'\u001b[39m:\u001b[38;5;124m'\u001b[39m\u001b[38;5;124mC\u001b[39m\u001b[38;5;124m'\u001b[39m])\n",
      "\u001b[1;31mNameError\u001b[0m: name 'df' is not defined"
     ]
    }
   ],
   "source": [
    "print(df['A':'C'])\n",
    "# 행 단위의 추출은 loc 속성을 이용하는 것이 좋다\n",
    "print(df.loc['A':'C'])"
   ]
  },
  {
   "cell_type": "markdown",
   "id": "301fe9a2-7e3a-4e36-a6f5-ce4a958363f3",
   "metadata": {},
   "source": [
    "- 행의 순서를 이용해서 슬라이싱을 할 수 있다"
   ]
  },
  {
   "cell_type": "code",
   "execution_count": 29,
   "id": "e8708a0e-3a0c-4f42-8f43-7bd7471b5803",
   "metadata": {},
   "outputs": [
    {
     "name": "stdout",
     "output_type": "stream",
     "text": [
      "      a   b   c   d   e   f   g   h   i   J\n",
      "A   9.0  15  64  28  89  93  29   8  73   0\n",
      "B  40.0  36  16  11  54  88  62  33  72  78\n",
      "C  49.0  51  54  77  69  13  25  13  92  86\n"
     ]
    }
   ],
   "source": [
    "df[0:3]\n",
    "# 행 단위의 추출은 iloc 속성을 이용하는 것이 좋다\n",
    "print(df.iloc[0:3])"
   ]
  },
  {
   "cell_type": "markdown",
   "id": "d948421c-92ea-489c-bc5e-bc4d5045d9b4",
   "metadata": {},
   "source": [
    "### df.at()과, df.iat()\n",
    "- 이름 또는 인덱스를 이용해서 특정 위치의 단일 값을 추출한다\n",
    "- "
   ]
  },
  {
   "cell_type": "code",
   "execution_count": null,
   "id": "00ab96fe-4f1d-40ea-9c0f-198b75559033",
   "metadata": {},
   "outputs": [],
   "source": [
    "print(df.at['B','C'])\n",
    "print(df.iat[4,4])"
   ]
  },
  {
   "cell_type": "markdown",
   "id": "dc43091d-a3b5-4b2e-9c71-2110643d65b8",
   "metadata": {},
   "source": [
    "- df.loc[[행],[열]]: 행과 열의 이름을 이용해서 해당 범위에 속하는 데이터를 추출한다\n",
    "- df.iloc[[행],[열]]: 행과 열의 인덱스를 이용해서 해당 범위에 속하는 데이터를 추출한다"
   ]
  },
  {
   "cell_type": "code",
   "execution_count": 32,
   "id": "3f24ffdd-4002-4464-9de9-b543eb0ca068",
   "metadata": {},
   "outputs": [
    {
     "name": "stdout",
     "output_type": "stream",
     "text": [
      "      a   b   c   d   e   f   g   h   i   J\n",
      "A   9.0  15  64  28  89  93  29   8  73   0\n",
      "B  40.0  36  16  11  54  88  62  33  72  78\n",
      "C  49.0  51  54  77  69  13  25  13  92  86\n",
      "D  30.0  30  89  12  65  31  57  36  27  18\n",
      "E  93.0  77  22  23  94  11  28  74  88   9\n",
      "F  15.0  18  80  71  88  11  17  46   7  75\n",
      "G  28.0  33  84  96  88  44   5   4  71  88\n",
      "H  88.0  50  54  34  15  77  88  15   6  85\n",
      "I  22.0  11  12  92  96  62  57  79  42  57\n",
      "J  97.0  50  45  40  89  73  37   0  18  23\n"
     ]
    }
   ],
   "source": [
    "print(df)"
   ]
  },
  {
   "cell_type": "code",
   "execution_count": 34,
   "id": "5144faef-820d-47c8-84a7-6b7cb96e129c",
   "metadata": {},
   "outputs": [
    {
     "name": "stdout",
     "output_type": "stream",
     "text": [
      "a     9.0\n",
      "b    15.0\n",
      "c    64.0\n",
      "d    28.0\n",
      "e    89.0\n",
      "Name: A, dtype: float64\n"
     ]
    }
   ],
   "source": [
    "print(df.loc['A','a':'e'])"
   ]
  },
  {
   "cell_type": "code",
   "execution_count": 35,
   "id": "1c9a3f68-9285-473f-bec0-98586521e11f",
   "metadata": {},
   "outputs": [
    {
     "name": "stdout",
     "output_type": "stream",
     "text": [
      "    d   e   f\n",
      "D  12  65  31\n",
      "E  23  94  11\n",
      "F  71  88  11\n"
     ]
    }
   ],
   "source": [
    "print(df.loc['D':'F', 'd':'f'])"
   ]
  },
  {
   "cell_type": "code",
   "execution_count": 36,
   "id": "fe710682-f477-4490-ad82-e3bc806e21ab",
   "metadata": {},
   "outputs": [
    {
     "name": "stdout",
     "output_type": "stream",
     "text": [
      "    f   g   h   i   J\n",
      "A  93  29   8  73   0\n",
      "B  88  62  33  72  78\n",
      "C  13  25  13  92  86\n",
      "D  31  57  36  27  18\n",
      "E  11  28  74  88   9\n"
     ]
    }
   ],
   "source": [
    "print(df.iloc[0:5, 5:10])"
   ]
  },
  {
   "cell_type": "code",
   "execution_count": 39,
   "id": "b64449e5-3d7d-4518-8abd-67c4a5ab0f29",
   "metadata": {},
   "outputs": [
    {
     "name": "stdout",
     "output_type": "stream",
     "text": [
      "      a   b   c   d   e\n",
      "E  93.0  77  22  23  94\n",
      "F  15.0  18  80  71  88\n",
      "G  28.0  33  84  96  88\n",
      "H  88.0  50  54  34  15\n",
      "I  22.0  11  12  92  96\n",
      "J  97.0  50  45  40  89\n"
     ]
    }
   ],
   "source": [
    "print(df.loc['E':'J', ['a','b','c','d','e']])"
   ]
  },
  {
   "cell_type": "markdown",
   "id": "7c68e8e7-93e8-4349-81a1-37ec11b9705b",
   "metadata": {},
   "source": [
    "## 조건 인덱싱\n",
    "- 조건식을 전달해 인덱싱할 수 있다"
   ]
  },
  {
   "cell_type": "code",
   "execution_count": 29,
   "id": "e9913065-971c-4aa1-9189-d5aaabf75417",
   "metadata": {},
   "outputs": [
    {
     "name": "stdout",
     "output_type": "stream",
     "text": [
      "      a   b   c   d   e   f   g   h   i   J\n",
      "E  93.0  77  22  23  94  11  28  74  88   9\n",
      "H  88.0  50  54  34  15  77  88  15   6  85\n",
      "J  97.0  50  45  40  89  73  37   0  18  23\n"
     ]
    }
   ],
   "source": [
    "print(df[df['a']>50])"
   ]
  },
  {
   "cell_type": "code",
   "execution_count": 33,
   "id": "582e4e85-d64a-48f8-adbb-1c1a793f6115",
   "metadata": {},
   "outputs": [
    {
     "name": "stdout",
     "output_type": "stream",
     "text": [
      "      a     b     c     d     e     f     g     h     i     J\n",
      "A   NaN   NaN  64.0  28.0   NaN   NaN   NaN   8.0   NaN   0.0\n",
      "B  40.0  36.0  16.0   NaN  54.0  88.0  62.0   NaN  72.0  78.0\n",
      "C   NaN   NaN  54.0   NaN   NaN   NaN   NaN   NaN  92.0  86.0\n",
      "D  30.0  30.0   NaN  12.0   NaN   NaN   NaN  36.0   NaN  18.0\n",
      "E   NaN   NaN  22.0   NaN  94.0   NaN  28.0  74.0  88.0   NaN\n",
      "F   NaN  18.0  80.0   NaN  88.0   NaN   NaN  46.0   NaN   NaN\n",
      "G  28.0   NaN  84.0  96.0  88.0  44.0   NaN   4.0   NaN  88.0\n",
      "H  88.0  50.0  54.0  34.0   NaN   NaN  88.0   NaN   6.0   NaN\n",
      "I  22.0   NaN  12.0  92.0  96.0  62.0   NaN   NaN  42.0   NaN\n",
      "J   NaN  50.0   NaN  40.0   NaN   NaN   NaN   0.0  18.0   NaN\n"
     ]
    }
   ],
   "source": [
    "# df의 모든 요소 중 짝수만\n",
    "print(df[df%2 == 0])"
   ]
  },
  {
   "cell_type": "code",
   "execution_count": 31,
   "id": "bafe974c-079f-4327-a260-2e881ce863ce",
   "metadata": {},
   "outputs": [
    {
     "name": "stdout",
     "output_type": "stream",
     "text": [
      "      a   b   c   d   e   f   g   h   i   J    k\n",
      "A   9.0  15  64  28  89  93  29   8  73   0  one\n",
      "B  40.0  36  16  11  54  88  62  33  72  78  two\n",
      "C  49.0  51  54  77  69  13  25  13  92  86  one\n",
      "D  30.0  30  89  12  65  31  57  36  27  18  two\n",
      "E  93.0  77  22  23  94  11  28  74  88   9  one\n",
      "F  15.0  18  80  71  88  11  17  46   7  75  two\n",
      "G  28.0  33  84  96  88  44   5   4  71  88  one\n",
      "H  88.0  50  54  34  15  77  88  15   6  85  two\n",
      "I  22.0  11  12  92  96  62  57  79  42  57  one\n",
      "J  97.0  50  45  40  89  73  37   0  18  23  two\n"
     ]
    }
   ],
   "source": [
    "df2 = df.copy()\n",
    "df2['k'] = ['one', 'two','one', 'two','one', 'two','one', 'two','one', 'two']\n",
    "print(df2)"
   ]
  },
  {
   "cell_type": "code",
   "execution_count": 35,
   "id": "aa69d767-8b99-4678-a6d1-6a4f5660bcd2",
   "metadata": {},
   "outputs": [
    {
     "data": {
      "text/plain": [
       "A     True\n",
       "B    False\n",
       "C     True\n",
       "D    False\n",
       "E     True\n",
       "F    False\n",
       "G     True\n",
       "H    False\n",
       "I     True\n",
       "J    False\n",
       "Name: k, dtype: bool"
      ]
     },
     "execution_count": 35,
     "metadata": {},
     "output_type": "execute_result"
    }
   ],
   "source": [
    "df2['k'].isin(['one']) # 정확히 일치해야 / isin 함수는 true or false 값을 전달"
   ]
  },
  {
   "cell_type": "code",
   "execution_count": 36,
   "id": "adc9fd3c-8010-4f9d-ba25-1d335684447f",
   "metadata": {},
   "outputs": [
    {
     "data": {
      "text/plain": [
       "A    True\n",
       "B    True\n",
       "C    True\n",
       "D    True\n",
       "E    True\n",
       "F    True\n",
       "G    True\n",
       "H    True\n",
       "I    True\n",
       "J    True\n",
       "Name: k, dtype: bool"
      ]
     },
     "execution_count": 36,
     "metadata": {},
     "output_type": "execute_result"
    }
   ],
   "source": [
    "df2['k'].isin(['one', 'two'])"
   ]
  },
  {
   "cell_type": "code",
   "execution_count": 37,
   "id": "95b84269-4727-4c83-bf23-f9165982c7a6",
   "metadata": {},
   "outputs": [
    {
     "data": {
      "text/html": [
       "<div>\n",
       "<style scoped>\n",
       "    .dataframe tbody tr th:only-of-type {\n",
       "        vertical-align: middle;\n",
       "    }\n",
       "\n",
       "    .dataframe tbody tr th {\n",
       "        vertical-align: top;\n",
       "    }\n",
       "\n",
       "    .dataframe thead th {\n",
       "        text-align: right;\n",
       "    }\n",
       "</style>\n",
       "<table border=\"1\" class=\"dataframe\">\n",
       "  <thead>\n",
       "    <tr style=\"text-align: right;\">\n",
       "      <th></th>\n",
       "      <th>a</th>\n",
       "      <th>b</th>\n",
       "      <th>c</th>\n",
       "      <th>d</th>\n",
       "      <th>e</th>\n",
       "      <th>f</th>\n",
       "      <th>g</th>\n",
       "      <th>h</th>\n",
       "      <th>i</th>\n",
       "      <th>J</th>\n",
       "      <th>k</th>\n",
       "    </tr>\n",
       "  </thead>\n",
       "  <tbody>\n",
       "    <tr>\n",
       "      <th>A</th>\n",
       "      <td>NaN</td>\n",
       "      <td>NaN</td>\n",
       "      <td>NaN</td>\n",
       "      <td>NaN</td>\n",
       "      <td>NaN</td>\n",
       "      <td>NaN</td>\n",
       "      <td>NaN</td>\n",
       "      <td>NaN</td>\n",
       "      <td>NaN</td>\n",
       "      <td>NaN</td>\n",
       "      <td>one</td>\n",
       "    </tr>\n",
       "    <tr>\n",
       "      <th>B</th>\n",
       "      <td>NaN</td>\n",
       "      <td>NaN</td>\n",
       "      <td>NaN</td>\n",
       "      <td>NaN</td>\n",
       "      <td>NaN</td>\n",
       "      <td>NaN</td>\n",
       "      <td>NaN</td>\n",
       "      <td>NaN</td>\n",
       "      <td>NaN</td>\n",
       "      <td>NaN</td>\n",
       "      <td>NaN</td>\n",
       "    </tr>\n",
       "    <tr>\n",
       "      <th>C</th>\n",
       "      <td>NaN</td>\n",
       "      <td>NaN</td>\n",
       "      <td>NaN</td>\n",
       "      <td>NaN</td>\n",
       "      <td>NaN</td>\n",
       "      <td>NaN</td>\n",
       "      <td>NaN</td>\n",
       "      <td>NaN</td>\n",
       "      <td>NaN</td>\n",
       "      <td>NaN</td>\n",
       "      <td>one</td>\n",
       "    </tr>\n",
       "    <tr>\n",
       "      <th>D</th>\n",
       "      <td>NaN</td>\n",
       "      <td>NaN</td>\n",
       "      <td>NaN</td>\n",
       "      <td>NaN</td>\n",
       "      <td>NaN</td>\n",
       "      <td>NaN</td>\n",
       "      <td>NaN</td>\n",
       "      <td>NaN</td>\n",
       "      <td>NaN</td>\n",
       "      <td>NaN</td>\n",
       "      <td>NaN</td>\n",
       "    </tr>\n",
       "    <tr>\n",
       "      <th>E</th>\n",
       "      <td>NaN</td>\n",
       "      <td>NaN</td>\n",
       "      <td>NaN</td>\n",
       "      <td>NaN</td>\n",
       "      <td>NaN</td>\n",
       "      <td>NaN</td>\n",
       "      <td>NaN</td>\n",
       "      <td>NaN</td>\n",
       "      <td>NaN</td>\n",
       "      <td>NaN</td>\n",
       "      <td>one</td>\n",
       "    </tr>\n",
       "    <tr>\n",
       "      <th>F</th>\n",
       "      <td>NaN</td>\n",
       "      <td>NaN</td>\n",
       "      <td>NaN</td>\n",
       "      <td>NaN</td>\n",
       "      <td>NaN</td>\n",
       "      <td>NaN</td>\n",
       "      <td>NaN</td>\n",
       "      <td>NaN</td>\n",
       "      <td>NaN</td>\n",
       "      <td>NaN</td>\n",
       "      <td>NaN</td>\n",
       "    </tr>\n",
       "    <tr>\n",
       "      <th>G</th>\n",
       "      <td>NaN</td>\n",
       "      <td>NaN</td>\n",
       "      <td>NaN</td>\n",
       "      <td>NaN</td>\n",
       "      <td>NaN</td>\n",
       "      <td>NaN</td>\n",
       "      <td>NaN</td>\n",
       "      <td>NaN</td>\n",
       "      <td>NaN</td>\n",
       "      <td>NaN</td>\n",
       "      <td>one</td>\n",
       "    </tr>\n",
       "    <tr>\n",
       "      <th>H</th>\n",
       "      <td>NaN</td>\n",
       "      <td>NaN</td>\n",
       "      <td>NaN</td>\n",
       "      <td>NaN</td>\n",
       "      <td>NaN</td>\n",
       "      <td>NaN</td>\n",
       "      <td>NaN</td>\n",
       "      <td>NaN</td>\n",
       "      <td>NaN</td>\n",
       "      <td>NaN</td>\n",
       "      <td>NaN</td>\n",
       "    </tr>\n",
       "    <tr>\n",
       "      <th>I</th>\n",
       "      <td>NaN</td>\n",
       "      <td>NaN</td>\n",
       "      <td>NaN</td>\n",
       "      <td>NaN</td>\n",
       "      <td>NaN</td>\n",
       "      <td>NaN</td>\n",
       "      <td>NaN</td>\n",
       "      <td>NaN</td>\n",
       "      <td>NaN</td>\n",
       "      <td>NaN</td>\n",
       "      <td>one</td>\n",
       "    </tr>\n",
       "    <tr>\n",
       "      <th>J</th>\n",
       "      <td>NaN</td>\n",
       "      <td>NaN</td>\n",
       "      <td>NaN</td>\n",
       "      <td>NaN</td>\n",
       "      <td>NaN</td>\n",
       "      <td>NaN</td>\n",
       "      <td>NaN</td>\n",
       "      <td>NaN</td>\n",
       "      <td>NaN</td>\n",
       "      <td>NaN</td>\n",
       "      <td>NaN</td>\n",
       "    </tr>\n",
       "  </tbody>\n",
       "</table>\n",
       "</div>"
      ],
      "text/plain": [
       "    a   b   c   d   e   f   g   h   i   J    k\n",
       "A NaN NaN NaN NaN NaN NaN NaN NaN NaN NaN  one\n",
       "B NaN NaN NaN NaN NaN NaN NaN NaN NaN NaN  NaN\n",
       "C NaN NaN NaN NaN NaN NaN NaN NaN NaN NaN  one\n",
       "D NaN NaN NaN NaN NaN NaN NaN NaN NaN NaN  NaN\n",
       "E NaN NaN NaN NaN NaN NaN NaN NaN NaN NaN  one\n",
       "F NaN NaN NaN NaN NaN NaN NaN NaN NaN NaN  NaN\n",
       "G NaN NaN NaN NaN NaN NaN NaN NaN NaN NaN  one\n",
       "H NaN NaN NaN NaN NaN NaN NaN NaN NaN NaN  NaN\n",
       "I NaN NaN NaN NaN NaN NaN NaN NaN NaN NaN  one\n",
       "J NaN NaN NaN NaN NaN NaN NaN NaN NaN NaN  NaN"
      ]
     },
     "execution_count": 37,
     "metadata": {},
     "output_type": "execute_result"
    }
   ],
   "source": [
    "df2[df2.isin(['one'])]"
   ]
  },
  {
   "cell_type": "code",
   "execution_count": 38,
   "id": "d1cddd9a-f03a-4c9e-bb31-078bc893a1f5",
   "metadata": {},
   "outputs": [
    {
     "name": "stdout",
     "output_type": "stream",
     "text": [
      "      a   b   c   d   e   f   g   h   i   J    k\n",
      "B  40.0  36  16  11  54  88  62  33  72  78  two\n",
      "D  30.0  30  89  12  65  31  57  36  27  18  two\n",
      "F  15.0  18  80  71  88  11  17  46   7  75  two\n",
      "H  88.0  50  54  34  15  77  88  15   6  85  two\n",
      "J  97.0  50  45  40  89  73  37   0  18  23  two\n"
     ]
    }
   ],
   "source": [
    "print(df2[~df2['k'].isin(['one'])])\n",
    "# pandas에서 ~는 부정을 의미한다"
   ]
  },
  {
   "cell_type": "markdown",
   "id": "e29c161e-ce77-4932-af53-e08689647c9d",
   "metadata": {},
   "source": [
    "# 데이터 수정\n",
    "- 인덱싱과 슬라이싱을 통해 선택된 위치에 새로운 값을 대입해 데이터를 수정할 수 있다"
   ]
  },
  {
   "cell_type": "code",
   "execution_count": 39,
   "id": "ab5c0b12-aace-4778-bb9c-8c9e87590a58",
   "metadata": {},
   "outputs": [],
   "source": [
    "df['e'] = 0"
   ]
  },
  {
   "cell_type": "code",
   "execution_count": 41,
   "id": "8c1befcb-ae8b-40d0-8c01-c822309dc9e9",
   "metadata": {},
   "outputs": [
    {
     "name": "stdout",
     "output_type": "stream",
     "text": [
      "      a   b   c   d  e   f   g   h   i   J\n",
      "A   9.0  15  64  28  0  93  29   8  73   0\n",
      "B  40.0  36  16  11  0  88  62  33  72  78\n",
      "C  49.0  51  54  77  0  13  25  13  92  86\n",
      "D  30.0  30  89  12  0  31  57  36  27  18\n",
      "E  93.0  77  22  23  0  11  28  74  88   9\n",
      "F  15.0  18  80  71  0  11  17  46   7  75\n",
      "G  28.0  33  84  96  0  44   5   4  71  88\n",
      "H  88.0  50  54  34  0  77  88  15   6  85\n",
      "I  22.0  11  12  92  0  62  57  79  42  57\n",
      "J  97.0  50  45  40  0  73  37   0  18  23\n"
     ]
    }
   ],
   "source": [
    "print(df)"
   ]
  },
  {
   "cell_type": "code",
   "execution_count": 42,
   "id": "b0825a42-320b-4cbd-b894-36d494cafb53",
   "metadata": {},
   "outputs": [
    {
     "name": "stdout",
     "output_type": "stream",
     "text": [
      "      a   b   c   d  e   f   g   h   i   J    F\n",
      "A   9.0  15  64  28  0  93  29   8  73   0  NaN\n",
      "B  40.0  36  16  11  0  88  62  33  72  78  NaN\n",
      "C  49.0  51  54  77  0  13  25  13  92  86  NaN\n",
      "D  30.0  30  89  12  0  31  57  36  27  18  NaN\n",
      "E  93.0  77  22  23  0  11  28  74  88   9  0.0\n",
      "F  15.0  18  80  71  0  11  17  46   7  75  NaN\n",
      "G  28.0  33  84  96  0  44   5   4  71  88  NaN\n",
      "H  88.0  50  54  34  0  77  88  15   6  85  NaN\n",
      "I  22.0  11  12  92  0  62  57  79  42  57  NaN\n",
      "J  97.0  50  45  40  0  73  37   0  18  23  NaN\n"
     ]
    }
   ],
   "source": [
    "df.loc['E','F'] = 0\n",
    "print(df)"
   ]
  },
  {
   "cell_type": "code",
   "execution_count": 43,
   "id": "35f38fbb-ca08-4087-953f-f13806a3b57d",
   "metadata": {},
   "outputs": [
    {
     "name": "stdout",
     "output_type": "stream",
     "text": [
      "      a   b   c   d  e   f   g   h   i   J    F\n",
      "A   9.0  15  64  28  0  93  29   8  73   0  NaN\n",
      "B  40.0  36  16  11  0  88  62  33  72  78  NaN\n",
      "C  49.0  51  54  77  0  13  25  13  92  86  NaN\n",
      "D  30.0  30  89  12  0  31  57  36  27  18  NaN\n",
      "E  93.0  77  22  23  1  11  28  74  88   9  0.0\n",
      "F  15.0  18  80  71  0  11  17  46   7  75  NaN\n",
      "G  28.0  33  84  96  0  44   5   4  71  88  NaN\n",
      "H  88.0  50  54  34  0  77  88  15   6  85  NaN\n",
      "I  22.0  11  12  92  0  62  57  79  42  57  NaN\n",
      "J  97.0  50  45  40  0  73  37   0  18  23  NaN\n"
     ]
    }
   ],
   "source": [
    "df.at['E','e'] = 1\n",
    "print(df)"
   ]
  },
  {
   "cell_type": "code",
   "execution_count": 44,
   "id": "932fe1cd-f2d4-42d9-9050-6449177c2033",
   "metadata": {},
   "outputs": [
    {
     "name": "stdout",
     "output_type": "stream",
     "text": [
      "      a   b   c   d  e   f   g   h   i   J    F\n",
      "A   9.0  15  64  28  0  93  29   8  73   0  NaN\n",
      "B  40.0  36  16  11  0  88  62  33  72  78  NaN\n",
      "C  49.0  51  54  77  0  13  25  13  92  86  NaN\n",
      "D  30.0  30  89  -2 -2  -2  -2  36  27  18  NaN\n",
      "E  93.0  77  22  -2 -2  -2  -2  74  88   9  0.0\n",
      "F  15.0  18  80  -2 -2  -2  -2  46   7  75  NaN\n",
      "G  28.0  33  84  -2 -2  -2  -2   4  71  88  NaN\n",
      "H  88.0  50  54  34  0  77  88  15   6  85  NaN\n",
      "I  22.0  11  12  92  0  62  57  79  42  57  NaN\n",
      "J  97.0  50  45  40  0  73  37   0  18  23  NaN\n"
     ]
    }
   ],
   "source": [
    "df.loc['D':'G','d':'g'] = -2\n",
    "print(df)"
   ]
  },
  {
   "cell_type": "markdown",
   "id": "bd28bd07-052b-4e87-85eb-7694102da0e8",
   "metadata": {},
   "source": [
    "# 데이터 정렬"
   ]
  },
  {
   "cell_type": "code",
   "execution_count": 45,
   "id": "0fbfafb1-5050-4746-8f90-efdcfba59869",
   "metadata": {},
   "outputs": [
    {
     "name": "stdout",
     "output_type": "stream",
     "text": [
      "    a   b   c   d   e   f   g   h   i   J\n",
      "A   9  15  64  28  89  93  29   8  73   0\n",
      "B  40  36  16  11  54  88  62  33  72  78\n",
      "C  49  51  54  77  69  13  25  13  92  86\n",
      "D  30  30  89  12  65  31  57  36  27  18\n",
      "E  93  77  22  23  94  11  28  74  88   9\n",
      "F  15  18  80  71  88  11  17  46   7  75\n",
      "G  28  33  84  96  88  44   5   4  71  88\n",
      "H  88  50  54  34  15  77  88  15   6  85\n",
      "I  22  11  12  92  96  62  57  79  42  57\n",
      "J  97  50  45  40  89  73  37   0  18  23\n"
     ]
    }
   ],
   "source": [
    "import numpy as np\n",
    "import pandas as pd\n",
    "\n",
    "np.random.seed(10)\n",
    "data = np.random.randint(100,size=(10,10))\n",
    "df = pd.DataFrame(data, index=list('ABCDEFGHIJ'), columns=list('abcdefghiJ'))\n",
    "print(df)"
   ]
  },
  {
   "cell_type": "markdown",
   "id": "0db0d788-f8c4-4e81-b781-0d2e3453acbc",
   "metadata": {},
   "source": [
    "## df.sort_values()\n",
    "- 행 또는 열을 하나 지정해서 값에 따라 정렬한다\n",
    "- 기본 값은 열을 지정해서 값에 따라 오름차순으로 정렬하는 것이다\n",
    "- 내림차순으로 정렬하면 ascending 인수에 False 값을 전달한다"
   ]
  },
  {
   "cell_type": "code",
   "execution_count": 46,
   "id": "2640894d-c889-4b82-af5d-06d692122af5",
   "metadata": {},
   "outputs": [
    {
     "name": "stdout",
     "output_type": "stream",
     "text": [
      "    a   b   c   d   e   f   g   h   i   J\n",
      "A   9  15  64  28  89  93  29   8  73   0\n",
      "F  15  18  80  71  88  11  17  46   7  75\n",
      "I  22  11  12  92  96  62  57  79  42  57\n",
      "G  28  33  84  96  88  44   5   4  71  88\n",
      "D  30  30  89  12  65  31  57  36  27  18\n",
      "B  40  36  16  11  54  88  62  33  72  78\n",
      "C  49  51  54  77  69  13  25  13  92  86\n",
      "H  88  50  54  34  15  77  88  15   6  85\n",
      "E  93  77  22  23  94  11  28  74  88   9\n",
      "J  97  50  45  40  89  73  37   0  18  23\n"
     ]
    }
   ],
   "source": [
    "print(df.sort_values('a'))"
   ]
  },
  {
   "cell_type": "markdown",
   "id": "161be028-4997-449e-bc4e-e88cd5ae2e42",
   "metadata": {},
   "source": [
    "- 행을 지정해서 정렬하려면 axis 인수에 1 또는 'columns'를 전달한다"
   ]
  },
  {
   "cell_type": "code",
   "execution_count": 48,
   "id": "cc35fccf-3274-4ac9-953b-9a1b1123b9ce",
   "metadata": {},
   "outputs": [
    {
     "name": "stdout",
     "output_type": "stream",
     "text": [
      "    J   h   a   b   d   g   c   i   e   f\n",
      "A   0   8   9  15  28  29  64  73  89  93\n",
      "B  78  33  40  36  11  62  16  72  54  88\n",
      "C  86  13  49  51  77  25  54  92  69  13\n",
      "D  18  36  30  30  12  57  89  27  65  31\n",
      "E   9  74  93  77  23  28  22  88  94  11\n",
      "F  75  46  15  18  71  17  80   7  88  11\n",
      "G  88   4  28  33  96   5  84  71  88  44\n",
      "H  85  15  88  50  34  88  54   6  15  77\n",
      "I  57  79  22  11  92  57  12  42  96  62\n",
      "J  23   0  97  50  40  37  45  18  89  73\n"
     ]
    }
   ],
   "source": [
    "print(df.sort_values('A', axis=1))"
   ]
  },
  {
   "cell_type": "markdown",
   "id": "6c8c7a2c-aa6a-4812-9548-dc8313765562",
   "metadata": {},
   "source": [
    "## df.sort_index()\n",
    "- 행 또는 열에 대해 정렬한다\n",
    "- 기본 값은 인덱스를 오름차순으로 정렬하는 것이다\n",
    "- 컬럼명에 따라 내림차순으로 정렬하려면 axis 인수와 ascending 인수를 설정한다"
   ]
  },
  {
   "cell_type": "code",
   "execution_count": 50,
   "id": "0bce29dd-2ff8-486f-b278-ad9f62577eb9",
   "metadata": {},
   "outputs": [
    {
     "name": "stdout",
     "output_type": "stream",
     "text": [
      "    a   b   c   d   e   f   g   h   i   J\n",
      "J  97  50  45  40  89  73  37   0  18  23\n",
      "I  22  11  12  92  96  62  57  79  42  57\n",
      "H  88  50  54  34  15  77  88  15   6  85\n",
      "G  28  33  84  96  88  44   5   4  71  88\n",
      "F  15  18  80  71  88  11  17  46   7  75\n",
      "E  93  77  22  23  94  11  28  74  88   9\n",
      "D  30  30  89  12  65  31  57  36  27  18\n",
      "C  49  51  54  77  69  13  25  13  92  86\n",
      "B  40  36  16  11  54  88  62  33  72  78\n",
      "A   9  15  64  28  89  93  29   8  73   0\n"
     ]
    }
   ],
   "source": [
    "print(df.sort_index(ascending=False))"
   ]
  },
  {
   "cell_type": "code",
   "execution_count": 51,
   "id": "ed9b0bd9-c32d-472b-8e79-b2b99328e36a",
   "metadata": {},
   "outputs": [
    {
     "name": "stdout",
     "output_type": "stream",
     "text": [
      "    i   h   g   f   e   d   c   b   a   J\n",
      "A  73   8  29  93  89  28  64  15   9   0\n",
      "B  72  33  62  88  54  11  16  36  40  78\n",
      "C  92  13  25  13  69  77  54  51  49  86\n",
      "D  27  36  57  31  65  12  89  30  30  18\n",
      "E  88  74  28  11  94  23  22  77  93   9\n",
      "F   7  46  17  11  88  71  80  18  15  75\n",
      "G  71   4   5  44  88  96  84  33  28  88\n",
      "H   6  15  88  77  15  34  54  50  88  85\n",
      "I  42  79  57  62  96  92  12  11  22  57\n",
      "J  18   0  37  73  89  40  45  50  97  23\n"
     ]
    }
   ],
   "source": [
    "print(df.sort_index(axis='columns',ascending=False))"
   ]
  },
  {
   "cell_type": "markdown",
   "id": "5d8c14f6-6637-422b-82fc-bc3a6a1f6afb",
   "metadata": {},
   "source": [
    "# 데이터프레임 조작"
   ]
  },
  {
   "cell_type": "markdown",
   "id": "0fbc56b3-a055-436a-bc1e-92b2b1e6623e",
   "metadata": {},
   "source": [
    "## 새로운 행 또는 열 추가\n",
    "- Dataframe에 새로운 열 추가\n",
    "    - df[컬럼명] = 데이터 목록\n",
    "    - 새로 추가되는 데이터 목록은 기존 데이터의 행(레코드) 수와 같아야 한다\n",
    "- DataFrame에 새로운 행 추가\n",
    "    - df.loc[행이름] = 데이터 목록"
   ]
  },
  {
   "cell_type": "code",
   "execution_count": 63,
   "id": "4b24448a-47c1-4362-a868-8d49fe9f797d",
   "metadata": {},
   "outputs": [
    {
     "name": "stdout",
     "output_type": "stream",
     "text": [
      "    a   b   c\n",
      "A   1   2   3\n",
      "B   7   8   9\n",
      "C  13  14  15\n"
     ]
    }
   ],
   "source": [
    "import pandas as pd\n",
    "\n",
    "df = pd.DataFrame([[1,2,3], [7,8,9],[13,14,15]], index=list('ABC'), columns=list('abc'))\n",
    "print(df)"
   ]
  },
  {
   "cell_type": "code",
   "execution_count": 64,
   "id": "d7688f77-761d-4e45-98f5-ff7f6ccaea0a",
   "metadata": {},
   "outputs": [
    {
     "name": "stdout",
     "output_type": "stream",
     "text": [
      "    a   b   c\n",
      "A   1   2   3\n",
      "B   7   8   9\n",
      "C  13  14  15\n",
      "D  19  20  21\n"
     ]
    }
   ],
   "source": [
    "# 새로운 행 추가\n",
    "df.loc['D'] = [19,20,21]\n",
    "print(df)"
   ]
  },
  {
   "cell_type": "code",
   "execution_count": 65,
   "id": "7c8e8fcc-2504-403a-93cf-2b7b12b60a69",
   "metadata": {},
   "outputs": [
    {
     "name": "stdout",
     "output_type": "stream",
     "text": [
      "    a   b   c   d\n",
      "A   1   2   3   4\n",
      "B   7   8   9  10\n",
      "C  13  14  15  16\n",
      "D  19  20  21  20\n"
     ]
    }
   ],
   "source": [
    "# 새로운 열 추가\n",
    "df['d'] = [4,10,16,20]\n",
    "print(df)"
   ]
  },
  {
   "cell_type": "markdown",
   "id": "1a56dd2b-b4c6-4dfe-8129-65e588739e8a",
   "metadata": {},
   "source": [
    "- 시리즈를 이용한 새로운 행 또는 열 추가\n",
    "    - 시리즈를 이용해 새로운 행 또는 열을 추가할 떄는 기존 데이터프레임과 같은 인덱스를 갖도록 설정한다\n",
    "    - 인덱스를 명확하게 명시하지 않으면 추가되는 요소는 NaN으로 초기화 된다"
   ]
  },
  {
   "cell_type": "code",
   "execution_count": 66,
   "id": "17bf36f0-9c94-4c06-844a-2ef3e69ca895",
   "metadata": {},
   "outputs": [
    {
     "name": "stdout",
     "output_type": "stream",
     "text": [
      "    a   b   c   d\n",
      "A   1   2   3   4\n",
      "B   7   8   9  10\n",
      "C  13  14  15  16\n",
      "D  19  20  21  20\n",
      "E  25  26  27  28\n"
     ]
    }
   ],
   "source": [
    "df.loc['E'] = pd.Series([25,26,27,28], index = df.columns)\n",
    "print(df)"
   ]
  },
  {
   "cell_type": "code",
   "execution_count": 67,
   "id": "94e012c7-f02e-433f-bf69-e6edb2618fde",
   "metadata": {},
   "outputs": [
    {
     "name": "stdout",
     "output_type": "stream",
     "text": [
      "    a   b   c   d   e\n",
      "A   1   2   3   4   5\n",
      "B   7   8   9  10  11\n",
      "C  13  14  15  16  17\n",
      "D  19  20  21  20  23\n",
      "E  25  26  27  28  29\n"
     ]
    }
   ],
   "source": [
    "df['e'] = pd.Series([5,11,17,23,29], index = df.index)\n",
    "print(df)"
   ]
  },
  {
   "cell_type": "markdown",
   "id": "7cdf4416-7cbe-496b-9a7b-b2b8f30ccc49",
   "metadata": {},
   "source": [
    "## 임의의 위치에 열 삽입"
   ]
  },
  {
   "cell_type": "code",
   "execution_count": 68,
   "id": "a38a431d-edbb-4dd4-8c46-1b4a0e53fa4f",
   "metadata": {},
   "outputs": [
    {
     "name": "stdout",
     "output_type": "stream",
     "text": [
      "    a  p   b   c   d   e\n",
      "A   1  1   2   3   4   5\n",
      "B   7  1   8   9  10  11\n",
      "C  13  1  14  15  16  17\n",
      "D  19  1  20  21  20  23\n",
      "E  25  1  26  27  28  29\n"
     ]
    }
   ],
   "source": [
    "df.insert(1, 'p', [1,1,1,1,1])\n",
    "print(df)"
   ]
  },
  {
   "cell_type": "markdown",
   "id": "c1cd84e9-4465-4452-bbd9-edec659fa354",
   "metadata": {},
   "source": [
    "# 행 / 열의 변경"
   ]
  },
  {
   "cell_type": "code",
   "execution_count": 76,
   "id": "9e30c008-f5a1-4e63-9262-419a2cdb88c7",
   "metadata": {},
   "outputs": [
    {
     "name": "stdout",
     "output_type": "stream",
     "text": [
      "   a  b  c\n",
      "0  1  2  3\n",
      "1  4  5  6\n",
      "2  7  8  9\n"
     ]
    }
   ],
   "source": [
    "df = pd.DataFrame(np.arange(1,10).reshape((3,3)), columns=list('abc'))\n",
    "print(df)"
   ]
  },
  {
   "cell_type": "markdown",
   "id": "c8c59d50-9682-4b74-a1cb-5570245c16b5",
   "metadata": {},
   "source": [
    "## df.reindex()\n",
    "- 인덱스 구조를 변경하면서 새로운 행 또는 열을 추가한다\n",
    "- 추가되는 행 또는 열의 요소는 NaN으로 초기화 된다.\n",
    "- 실행 결과는 원본에 영향을 주지 않고 '새로운 데이터 프레임 객체를 반환'한다"
   ]
  },
  {
   "cell_type": "code",
   "execution_count": 70,
   "id": "c3811c71-09ed-4ced-a3b5-7b74981b57ff",
   "metadata": {},
   "outputs": [
    {
     "name": "stdout",
     "output_type": "stream",
     "text": [
      "     a    b    c   d\n",
      "0  1.0  2.0  3.0 NaN\n",
      "1  4.0  5.0  6.0 NaN\n",
      "2  7.0  8.0  9.0 NaN\n",
      "3  NaN  NaN  NaN NaN\n"
     ]
    }
   ],
   "source": [
    "df2 = df.reindex(index=[0,1,2,3], columns=list('abcd'))\n",
    "print(df2)"
   ]
  },
  {
   "cell_type": "markdown",
   "id": "b9b6a528-9609-4ec9-933f-79b31dc248f5",
   "metadata": {},
   "source": [
    "- 행 또는 열의 순서를 섞을 수 있다\n",
    "- 또는 기존에 존재하던 인덱스를 생략해서 행 또는 열을 삭제할 수 있다."
   ]
  },
  {
   "cell_type": "code",
   "execution_count": 71,
   "id": "f319bb86-a139-4b7c-b063-54e9f1ddaf8d",
   "metadata": {},
   "outputs": [
    {
     "name": "stdout",
     "output_type": "stream",
     "text": [
      "   b  a  c\n",
      "0  2  1  3\n",
      "1  5  4  6\n"
     ]
    }
   ],
   "source": [
    "df2 = df.reindex(index = [0,1], columns=['b','a','c'])\n",
    "print(df2)"
   ]
  },
  {
   "cell_type": "code",
   "execution_count": 81,
   "id": "a030336b-c6f9-4c30-8dc0-5c57f5cd5882",
   "metadata": {},
   "outputs": [
    {
     "name": "stdout",
     "output_type": "stream",
     "text": [
      "   b  c\n",
      "0  2  3\n",
      "1  5  6\n",
      "2  8  9\n"
     ]
    }
   ],
   "source": [
    "df2 = df.reset_index(drop = True)\n",
    "print(df2)"
   ]
  },
  {
   "cell_type": "markdown",
   "id": "784bbbe1-3c65-4088-9fbc-5ada484d0f11",
   "metadata": {},
   "source": [
    "# 행/열의 삭제"
   ]
  },
  {
   "cell_type": "code",
   "execution_count": 85,
   "id": "5146e06e-2911-49ac-9e6d-6d477db57cda",
   "metadata": {},
   "outputs": [
    {
     "name": "stdout",
     "output_type": "stream",
     "text": [
      "   a  b\n",
      "A  1  2\n",
      "B  3  4\n"
     ]
    }
   ],
   "source": [
    "import pandas as pd\n",
    "\n",
    "df = pd.DataFrame([[1,2],[3,4]], index = list('AB'), columns = list('ab'))\n",
    "print(df)"
   ]
  },
  {
   "cell_type": "markdown",
   "id": "b3313eff-5fd2-41c8-8e50-73510b6715ee",
   "metadata": {},
   "source": [
    "## DataFrame의 행 제거\n",
    "- df.drop(행이름), df.drop([행이름1.행이름2....]\n",
    "- axis=0이 기본값으로 생략해도 좋다\n",
    "- 실행 결과는 원본에 영향을 주지 않고 새로운 데이터프레임 객체를 반환한다"
   ]
  },
  {
   "cell_type": "code",
   "execution_count": 86,
   "id": "6014d6a3-c3f2-496e-b4d8-6a3f875c8943",
   "metadata": {},
   "outputs": [
    {
     "name": "stdout",
     "output_type": "stream",
     "text": [
      "   a  b\n",
      "B  3  4\n"
     ]
    }
   ],
   "source": [
    "df2 = df.drop('A')\n",
    "print(df2)"
   ]
  },
  {
   "cell_type": "markdown",
   "id": "153db09d-5740-42ac-9816-eba074c6a8eb",
   "metadata": {},
   "source": [
    "## DataFrame의 열 제거\n",
    "- df.drop(열이름, axis=1), df.drop([열이름1, 열이름2...], axis=1)"
   ]
  },
  {
   "cell_type": "code",
   "execution_count": 87,
   "id": "b3fffc47-64a4-4ef7-b27b-d288d522e8c5",
   "metadata": {},
   "outputs": [
    {
     "name": "stdout",
     "output_type": "stream",
     "text": [
      "   b\n",
      "A  2\n",
      "B  4\n"
     ]
    }
   ],
   "source": [
    "df2 = df.drop('a', axis=1)\n",
    "print(df2)"
   ]
  },
  {
   "cell_type": "markdown",
   "id": "5963553e-60fe-46e5-8a22-b1bb9d9a9772",
   "metadata": {},
   "source": [
    "# 행 / 열 이름 바꾸기"
   ]
  },
  {
   "cell_type": "code",
   "execution_count": 89,
   "id": "3dcff6b7-97b9-48f3-9930-e9710545b5d1",
   "metadata": {},
   "outputs": [
    {
     "name": "stdout",
     "output_type": "stream",
     "text": [
      "    0   1   2   3\n",
      "0  81  42  91  13\n",
      "1  31  82  18  17\n",
      "2   1  32  74  65\n",
      "3  39  23  97  67\n"
     ]
    }
   ],
   "source": [
    "df=pd.DataFrame(np.random.randint(1, 101,(4,4)))\n",
    "print(df)"
   ]
  },
  {
   "cell_type": "markdown",
   "id": "5bf0d916-04b4-4fdb-85ba-545602e34a9a",
   "metadata": {},
   "source": [
    "## 전체 행/열 이름 바꾸기"
   ]
  },
  {
   "cell_type": "code",
   "execution_count": 90,
   "id": "4df7678b-d4ef-48d1-9323-e14b506f9e1b",
   "metadata": {},
   "outputs": [
    {
     "name": "stdout",
     "output_type": "stream",
     "text": [
      "   C1  C2  C3  C4\n",
      "a  81  42  91  13\n",
      "b  31  82  18  17\n",
      "c   1  32  74  65\n",
      "d  39  23  97  67\n"
     ]
    }
   ],
   "source": [
    "df.columns = ['C1','C2','C3','C4']\n",
    "df.index = list('abcd')\n",
    "print(df)"
   ]
  },
  {
   "cell_type": "markdown",
   "id": "31788c68-3db6-47eb-a80a-c2ae27f3dd2c",
   "metadata": {},
   "source": [
    "## 특정 행/열 이름 바꾸기\n",
    "- df.rename(index = dictionary 객체)\n",
    "- df.rename(columns = dictionary 객체)"
   ]
  },
  {
   "cell_type": "code",
   "execution_count": 91,
   "id": "f5926eba-c1e5-4a05-8312-66b4ef3100d6",
   "metadata": {},
   "outputs": [
    {
     "name": "stdout",
     "output_type": "stream",
     "text": [
      "   국어  C2  C3  C4\n",
      "A  81  42  91  13\n",
      "b  31  82  18  17\n",
      "c   1  32  74  65\n",
      "d  39  23  97  67\n"
     ]
    }
   ],
   "source": [
    "df.rename(index={'a':'A'}, inplace = True)\n",
    "df.rename(columns={'C1':'국어'}, inplace = True)\n",
    "print(df)"
   ]
  },
  {
   "cell_type": "markdown",
   "id": "4d932b5b-74d8-4969-b9d3-bd6d8c2d38ff",
   "metadata": {},
   "source": [
    "## 행/열 이름의 특정 문자 변경하기"
   ]
  },
  {
   "cell_type": "code",
   "execution_count": 92,
   "id": "69858b7f-7eb4-4a76-86da-cb68d153587f",
   "metadata": {},
   "outputs": [
    {
     "name": "stdout",
     "output_type": "stream",
     "text": [
      "   4기 B반  4기 A반  5기 A반  5기 B반\n",
      "A     81     42     91     13\n",
      "B     31     82     18     17\n",
      "C      1     32     74     65\n",
      "D     39     23     97     67\n"
     ]
    }
   ],
   "source": [
    "df.index=list('ABCD')\n",
    "df.columns={'4기 A반', '4기 B반', '5기 A반', '5기 B반'}\n",
    "print(df)"
   ]
  },
  {
   "cell_type": "markdown",
   "id": "9ef3809c-fb74-40e9-bcaf-e7a4c9940788",
   "metadata": {},
   "source": [
    "- 'str' 변수에는 문자열 객체가 할당되어 있다. 따라서 파이썬 문자열 객체가 제공하는 함수를 이용할 수 있다"
   ]
  },
  {
   "cell_type": "code",
   "execution_count": 94,
   "id": "c182e418-5df5-4186-8a35-a859c214c14c",
   "metadata": {},
   "outputs": [
    {
     "name": "stdout",
     "output_type": "stream",
     "text": [
      "   -4-기---B-반-  -4-기---A-반-  -5-기---A-반-  -5-기---B-반-\n",
      "A           81           42           91           13\n",
      "B           31           82           18           17\n",
      "C            1           32           74           65\n",
      "D           39           23           97           67\n"
     ]
    }
   ],
   "source": [
    "df.columns = df.columns.str.replace(' ','-')\n",
    "print(df)"
   ]
  },
  {
   "cell_type": "markdown",
   "id": "e87a0a78-0ab0-47f1-936d-9bb124f11fdc",
   "metadata": {},
   "source": [
    "## 컬럼명에 접두사 및 접미사 붙이기"
   ]
  },
  {
   "cell_type": "code",
   "execution_count": 95,
   "id": "f21a2f38-f9af-468f-ae32-9787c665753a",
   "metadata": {},
   "outputs": [
    {
     "name": "stdout",
     "output_type": "stream",
     "text": [
      "   -4-기---B-반--1학기  -4-기---A-반--1학기  -5-기---A-반--1학기  -5-기---B-반--1학기\n",
      "A               81               42               91               13\n",
      "B               31               82               18               17\n",
      "C                1               32               74               65\n",
      "D               39               23               97               67\n"
     ]
    }
   ],
   "source": [
    "df2=df.add_suffix('-1학기')\n",
    "print(df2)"
   ]
  },
  {
   "cell_type": "markdown",
   "id": "7dc0d809-a7c5-4b5b-b47f-29867992e8f4",
   "metadata": {},
   "source": [
    "# 데이터프레임 간의 조합"
   ]
  },
  {
   "cell_type": "code",
   "execution_count": 96,
   "id": "c43fe691-25c3-4ab5-8ca1-6d1fd5e53d52",
   "metadata": {},
   "outputs": [
    {
     "name": "stdout",
     "output_type": "stream",
     "text": [
      "   a  b\n",
      "A  1  2\n",
      "B  3  4\n"
     ]
    }
   ],
   "source": [
    "df = pd.DataFrame([[1,2],[3,4]], index = list('AB'), columns=list('ab'))\n",
    "print(df)"
   ]
  },
  {
   "cell_type": "markdown",
   "id": "19b6b0a7-d19f-4c64-a409-d3a9380bf9cd",
   "metadata": {},
   "source": [
    "## pd.concat()\n",
    "- 두 개 이상의 데이터프레임을 행 또는 열 방향으로 연결한다\n",
    "- axis=0 값이 기본 값으로 행 방향으로 연결한다.\n",
    "- 열 방향으로 연결하고자 할 경우 axis = 1 인자를 전달한다\n",
    "- 행 방향으로 연결하고자 할 때는  열 이름이 같아야 하고, 열 방향으로 연결하고자 할 경우에는 행 이름이 같아야 한다\n",
    "- 실행 결과는 원본에 영향을 주지 않고 새로운 데이터프레임 객체를 반환한다"
   ]
  },
  {
   "cell_type": "code",
   "execution_count": 97,
   "id": "fcace9bd-997a-4ca5-901d-498fc450301c",
   "metadata": {},
   "outputs": [
    {
     "name": "stdout",
     "output_type": "stream",
     "text": [
      "   a  b\n",
      "A  1  2\n",
      "B  3  4\n",
      "A  1  2\n",
      "B  3  4\n"
     ]
    }
   ],
   "source": [
    "df2 = pd.concat([df,df])\n",
    "print(df2)"
   ]
  },
  {
   "cell_type": "code",
   "execution_count": 98,
   "id": "8c6675e8-0dd8-46ec-9deb-74fe0cf74a03",
   "metadata": {},
   "outputs": [
    {
     "name": "stdout",
     "output_type": "stream",
     "text": [
      "   c  d\n",
      "A  5  6\n",
      "B  7  8\n"
     ]
    }
   ],
   "source": [
    "df3 = pd.DataFrame([[5,6], [7,8]], index = df.index, columns=list('cd'))\n",
    "print(df3)"
   ]
  },
  {
   "cell_type": "code",
   "execution_count": 99,
   "id": "55716d3a-cfa2-42be-9da6-e95caf802317",
   "metadata": {},
   "outputs": [
    {
     "name": "stdout",
     "output_type": "stream",
     "text": [
      "   a  b  c  d\n",
      "A  1  2  5  6\n",
      "B  3  4  7  8\n"
     ]
    }
   ],
   "source": [
    "df4 = pd.concat([df,df3], axis = 1)\n",
    "print(df4)"
   ]
  },
  {
   "cell_type": "markdown",
   "id": "e382714e-b1b1-46fd-8af0-4f7641515a24",
   "metadata": {},
   "source": [
    "# 통계"
   ]
  },
  {
   "cell_type": "code",
   "execution_count": 100,
   "id": "9b7b45a6-ea6d-4630-8721-d2c1d947e9dd",
   "metadata": {},
   "outputs": [
    {
     "name": "stdout",
     "output_type": "stream",
     "text": [
      "    a   b   c   d   e   f   g   h   i   j\n",
      "A   9  15  64  28  89  93  29   8  73   0\n",
      "B  40  36  16  11  54  88  62  33  72  78\n",
      "C  49  51  54  77  69  13  25  13  92  86\n",
      "D  30  30  89  12  65  31  57  36  27  18\n",
      "E  93  77  22  23  94  11  28  74  88   9\n",
      "F  15  18  80  71  88  11  17  46   7  75\n",
      "G  28  33  84  96  88  44   5   4  71  88\n",
      "H  88  50  54  34  15  77  88  15   6  85\n",
      "I  22  11  12  92  96  62  57  79  42  57\n",
      "J  97  50  45  40  89  73  37   0  18  23\n"
     ]
    }
   ],
   "source": [
    "import numpy as np\n",
    "import pandas as pd\n",
    "\n",
    "np.random.seed(10)\n",
    "df = pd.DataFrame(np.random.randint(100, size = (10,10)), index = list('ABCDEFGHIJ'), columns= list('abcdefghij'))\n",
    "print(df)"
   ]
  },
  {
   "cell_type": "markdown",
   "id": "d7e14a05-8de9-45fa-b5ee-528f856ef317",
   "metadata": {},
   "source": [
    "## df.describe()\n",
    "- 각 열에 대한 주요 통계 수치들을 산출한다"
   ]
  },
  {
   "cell_type": "code",
   "execution_count": 103,
   "id": "53c0c178-4f4d-4feb-9235-5acb7bc15c3f",
   "metadata": {},
   "outputs": [
    {
     "name": "stdout",
     "output_type": "stream",
     "text": [
      "a    33.487809\n",
      "b    20.333060\n",
      "c    28.233156\n",
      "d    32.589023\n",
      "e    25.183990\n",
      "f    32.492905\n",
      "g    24.981104\n",
      "h    28.295269\n",
      "i    33.437172\n",
      "j    35.466573\n",
      "Name: std, dtype: float64\n"
     ]
    }
   ],
   "source": [
    "print(df.describe().loc['std'])"
   ]
  },
  {
   "cell_type": "markdown",
   "id": "d89887d1-a057-4782-a32e-b05e9848f713",
   "metadata": {},
   "source": [
    "## df.count()\n",
    "- 각 행 또는 열에 대해 non-NA(변측치를 제외한) 요소의 개수를 산출한다."
   ]
  },
  {
   "cell_type": "code",
   "execution_count": 104,
   "id": "0691e85b-d8d5-465e-a490-0a45f7300f2f",
   "metadata": {},
   "outputs": [
    {
     "name": "stdout",
     "output_type": "stream",
     "text": [
      "a    10\n",
      "b    10\n",
      "c    10\n",
      "d    10\n",
      "e    10\n",
      "f    10\n",
      "g    10\n",
      "h    10\n",
      "i    10\n",
      "j    10\n",
      "dtype: int64\n"
     ]
    }
   ],
   "source": [
    "# 각 열의 요소의 개수\n",
    "print(df.count())"
   ]
  },
  {
   "cell_type": "code",
   "execution_count": 105,
   "id": "45f9654e-0d70-4415-b6c8-f776cb049411",
   "metadata": {},
   "outputs": [
    {
     "name": "stdout",
     "output_type": "stream",
     "text": [
      "A    10\n",
      "B    10\n",
      "C    10\n",
      "D    10\n",
      "E    10\n",
      "F    10\n",
      "G    10\n",
      "H    10\n",
      "I    10\n",
      "J    10\n",
      "dtype: int64\n"
     ]
    }
   ],
   "source": [
    "# 각 행의 요소의 개수\n",
    "print(df.count(axis=1))"
   ]
  },
  {
   "cell_type": "markdown",
   "id": "ccb9707c-2648-4d97-bcb5-75da1e66aede",
   "metadata": {},
   "source": [
    "## df.mean()\n",
    "- 각 행과 열에 대한 평균을 산출한다."
   ]
  },
  {
   "cell_type": "code",
   "execution_count": 106,
   "id": "6ab8fb44-9431-4c05-bcb3-cc77665ba7a9",
   "metadata": {},
   "outputs": [
    {
     "name": "stdout",
     "output_type": "stream",
     "text": [
      "a    47.1\n",
      "b    37.1\n",
      "c    52.0\n",
      "d    48.4\n",
      "e    74.7\n",
      "f    50.3\n",
      "g    40.5\n",
      "h    30.8\n",
      "i    49.6\n",
      "j    51.9\n",
      "dtype: float64\n"
     ]
    }
   ],
   "source": [
    "# 각 열에 대한 평균\n",
    "print(df.mean())"
   ]
  },
  {
   "cell_type": "code",
   "execution_count": 107,
   "id": "7683ee88-32ad-4c10-823d-0e776115473f",
   "metadata": {},
   "outputs": [
    {
     "name": "stdout",
     "output_type": "stream",
     "text": [
      "A    40.8\n",
      "B    49.0\n",
      "C    52.9\n",
      "D    39.5\n",
      "E    51.9\n",
      "F    42.8\n",
      "G    54.1\n",
      "H    51.2\n",
      "I    53.0\n",
      "J    47.2\n",
      "dtype: float64\n"
     ]
    }
   ],
   "source": [
    "# 각 행에 대한 평균\n",
    "print(df.mean(axis=1))"
   ]
  },
  {
   "cell_type": "markdown",
   "id": "605733e7-1ef8-4793-a770-c816dc31ad38",
   "metadata": {},
   "source": [
    "# 표준 편차"
   ]
  },
  {
   "cell_type": "code",
   "execution_count": 108,
   "id": "f92587c6-341d-4d00-a650-a4a16cc3140e",
   "metadata": {},
   "outputs": [
    {
     "name": "stdout",
     "output_type": "stream",
     "text": [
      "a    33.487809\n",
      "b    20.333060\n",
      "c    28.233156\n",
      "d    32.589023\n",
      "e    25.183990\n",
      "f    32.492905\n",
      "g    24.981104\n",
      "h    28.295269\n",
      "i    33.437172\n",
      "j    35.466573\n",
      "dtype: float64\n"
     ]
    }
   ],
   "source": [
    "print(df.std())"
   ]
  },
  {
   "cell_type": "markdown",
   "id": "c3a3e71c-088b-49da-9a27-bc808eded83a",
   "metadata": {},
   "source": [
    "# df.win() / df.max()\n",
    "- 각 행과 열에 대한 최소 / 최대 값을 산출한다"
   ]
  },
  {
   "cell_type": "code",
   "execution_count": 109,
   "id": "0c91ea38-0e18-4797-bbe8-c2e603892ab8",
   "metadata": {},
   "outputs": [
    {
     "name": "stdout",
     "output_type": "stream",
     "text": [
      "a     9\n",
      "b    11\n",
      "c    12\n",
      "d    11\n",
      "e    15\n",
      "f    11\n",
      "g     5\n",
      "h     0\n",
      "i     6\n",
      "j     0\n",
      "dtype: int32\n"
     ]
    }
   ],
   "source": [
    "print(df.min())"
   ]
  },
  {
   "cell_type": "code",
   "execution_count": 110,
   "id": "95cecab9-3f5f-4eac-96d3-3f4d65e9a9c4",
   "metadata": {},
   "outputs": [
    {
     "name": "stdout",
     "output_type": "stream",
     "text": [
      "a    97\n",
      "b    77\n",
      "c    89\n",
      "d    96\n",
      "e    96\n",
      "f    93\n",
      "g    88\n",
      "h    79\n",
      "i    92\n",
      "j    88\n",
      "dtype: int32\n"
     ]
    }
   ],
   "source": [
    "print(df.max())"
   ]
  },
  {
   "cell_type": "markdown",
   "id": "ce67161d-6f8c-4cca-811c-089ebd377fe1",
   "metadata": {},
   "source": [
    "[문제] 다음 요구사항에 맞는 DataFrame을 생성하세요\n",
    "\n",
    "1. 각 컬럼은 Series 객체로 생성\n",
    "2. 앞서 만든 Series 객체를 이용해서 DataFrame을 생상\n",
    "3. 각 과목에 합계를 계산한 컬럼을 추가\n",
    "4. 각 과목의 평균을 계산한 컬럼을 추가"
   ]
  },
  {
   "cell_type": "code",
   "execution_count": 136,
   "id": "09f30d3b-3daf-41d3-9838-f9c9bf1b03eb",
   "metadata": {},
   "outputs": [
    {
     "name": "stdout",
     "output_type": "stream",
     "text": [
      "전공    컴퓨터공학과\n",
      "dtype: object\n"
     ]
    }
   ],
   "source": [
    "# 각 컬럼은 Series 객체로 생성\n",
    "subject_list = ['전공','수학', '국어', '영어']\n",
    "name_list = ['홍길동', '임꺽정','전우치','손오공','저팔계','사오정']\n",
    "# 시리즈 생성\n",
    "data_list = {'전공':'컴공과', '전공':'수학과', '전공':'정보통신학과', '전공':'수학과', '전공':'컴퓨터공학과', '전공':'컴퓨터공학과' }\n",
    "total_list=pd.Series(data_list)\n",
    "print(total_list)"
   ]
  },
  {
   "cell_type": "code",
   "execution_count": null,
   "id": "173eb7b0-88f5-4698-94c9-b231e860c5f0",
   "metadata": {},
   "outputs": [],
   "source": []
  },
  {
   "cell_type": "code",
   "execution_count": 140,
   "id": "3ef18cc4-a090-47ee-a0cd-95f42e016895",
   "metadata": {},
   "outputs": [
    {
     "data": {
      "text/html": [
       "<div>\n",
       "<style scoped>\n",
       "    .dataframe tbody tr th:only-of-type {\n",
       "        vertical-align: middle;\n",
       "    }\n",
       "\n",
       "    .dataframe tbody tr th {\n",
       "        vertical-align: top;\n",
       "    }\n",
       "\n",
       "    .dataframe thead tr th {\n",
       "        text-align: left;\n",
       "    }\n",
       "</style>\n",
       "<table border=\"1\" class=\"dataframe\">\n",
       "  <thead>\n",
       "    <tr>\n",
       "      <th></th>\n",
       "      <th>전공</th>\n",
       "      <th>수학</th>\n",
       "      <th>국어</th>\n",
       "      <th>영어</th>\n",
       "    </tr>\n",
       "  </thead>\n",
       "  <tbody>\n",
       "    <tr>\n",
       "      <th>컴퓨터공학과</th>\n",
       "      <td>NaN</td>\n",
       "      <td>NaN</td>\n",
       "      <td>NaN</td>\n",
       "      <td>NaN</td>\n",
       "    </tr>\n",
       "  </tbody>\n",
       "</table>\n",
       "</div>"
      ],
      "text/plain": [
       "         전공   수학   국어   영어\n",
       "컴퓨터공학과  NaN  NaN  NaN  NaN"
      ]
     },
     "metadata": {},
     "output_type": "display_data"
    }
   ],
   "source": [
    "\n",
    "index = [total_list]\n",
    "column = [subject_list]\n",
    "df = pd.DataFrame(index=index, columns=column)\n",
    "display(df)"
   ]
  },
  {
   "cell_type": "markdown",
   "id": "141c4fe8-1a75-4bc3-bc9e-ac7657f4d4c2",
   "metadata": {},
   "source": [
    "[문제 풀이] 다음 요구사항에 맞는 DataFrame을 생성하세요\n",
    "\n",
    "1. 각 컬럼은 Series 객체로 생성\n",
    "2. 앞서 만든 Series 객체를 이용해서 DataFrame을 생상\n",
    "3. 각 과목에 합계를 계산한 컬럼을 추가\n",
    "4. 각 과목의 평균을 계산한 컬럼을 추가"
   ]
  },
  {
   "cell_type": "code",
   "execution_count": 142,
   "id": "8b0b715f-ed75-44eb-ab5e-039aa0a76e48",
   "metadata": {},
   "outputs": [],
   "source": [
    "index_list = ['홍길동', '임꺽정', '전우치', '손오공', '저팔계', '사오정']\n",
    "sr_major = pd.Series(['컴퓨터공학과', '수학과', '정보통신학과', '수학과', '컴퓨터공학과', '컴퓨터공학과'], index =index_list)\n",
    "sr_mat = pd.Series([97,88,91,76,88,87], index = index_list)\n",
    "sr_kor = pd.Series([88,89,85,90,88,77], index = index_list)\n",
    "sr_eng = pd.Series([90,100,96,91,80,90], index = index_list)"
   ]
  },
  {
   "cell_type": "code",
   "execution_count": 145,
   "id": "20e4e037-a92b-4f7d-bd89-ad24446d3287",
   "metadata": {},
   "outputs": [
    {
     "data": {
      "text/html": [
       "<div>\n",
       "<style scoped>\n",
       "    .dataframe tbody tr th:only-of-type {\n",
       "        vertical-align: middle;\n",
       "    }\n",
       "\n",
       "    .dataframe tbody tr th {\n",
       "        vertical-align: top;\n",
       "    }\n",
       "\n",
       "    .dataframe thead th {\n",
       "        text-align: right;\n",
       "    }\n",
       "</style>\n",
       "<table border=\"1\" class=\"dataframe\">\n",
       "  <thead>\n",
       "    <tr style=\"text-align: right;\">\n",
       "      <th></th>\n",
       "      <th>전공</th>\n",
       "      <th>수학</th>\n",
       "      <th>국어</th>\n",
       "      <th>영어</th>\n",
       "    </tr>\n",
       "  </thead>\n",
       "  <tbody>\n",
       "    <tr>\n",
       "      <th>홍길동</th>\n",
       "      <td>컴퓨터공학과</td>\n",
       "      <td>97</td>\n",
       "      <td>88</td>\n",
       "      <td>90</td>\n",
       "    </tr>\n",
       "    <tr>\n",
       "      <th>임꺽정</th>\n",
       "      <td>수학과</td>\n",
       "      <td>88</td>\n",
       "      <td>89</td>\n",
       "      <td>100</td>\n",
       "    </tr>\n",
       "    <tr>\n",
       "      <th>전우치</th>\n",
       "      <td>정보통신학과</td>\n",
       "      <td>91</td>\n",
       "      <td>85</td>\n",
       "      <td>96</td>\n",
       "    </tr>\n",
       "    <tr>\n",
       "      <th>손오공</th>\n",
       "      <td>수학과</td>\n",
       "      <td>76</td>\n",
       "      <td>90</td>\n",
       "      <td>91</td>\n",
       "    </tr>\n",
       "    <tr>\n",
       "      <th>저팔계</th>\n",
       "      <td>컴퓨터공학과</td>\n",
       "      <td>88</td>\n",
       "      <td>88</td>\n",
       "      <td>80</td>\n",
       "    </tr>\n",
       "    <tr>\n",
       "      <th>사오정</th>\n",
       "      <td>컴퓨터공학과</td>\n",
       "      <td>87</td>\n",
       "      <td>77</td>\n",
       "      <td>90</td>\n",
       "    </tr>\n",
       "  </tbody>\n",
       "</table>\n",
       "</div>"
      ],
      "text/plain": [
       "         전공  수학  국어   영어\n",
       "홍길동  컴퓨터공학과  97  88   90\n",
       "임꺽정     수학과  88  89  100\n",
       "전우치  정보통신학과  91  85   96\n",
       "손오공     수학과  76  90   91\n",
       "저팔계  컴퓨터공학과  88  88   80\n",
       "사오정  컴퓨터공학과  87  77   90"
      ]
     },
     "metadata": {},
     "output_type": "display_data"
    }
   ],
   "source": [
    "df = pd.DataFrame({'전공':sr_major,'수학':sr_mat,'국어':sr_kor,'영어':sr_eng}) # 딕셔너리의 키 값은 컬럼에\n",
    "display(df)"
   ]
  },
  {
   "cell_type": "code",
   "execution_count": 155,
   "id": "b3fe34d6-0f88-4fb2-920e-557bc995b5d6",
   "metadata": {},
   "outputs": [
    {
     "name": "stdout",
     "output_type": "stream",
     "text": [
      "         전공  수학  국어   영어\n",
      "홍길동  컴퓨터공학과  97  88   90\n",
      "임꺽정     수학과  88  89  100\n",
      "전우치  정보통신학과  91  85   96\n",
      "손오공     수학과  76  90   91\n",
      "저팔계  컴퓨터공학과  88  88   80\n",
      "사오정  컴퓨터공학과  87  77   90\n"
     ]
    }
   ],
   "source": [
    "#df[['수학','국어','영어']].sum(axis=1)\n",
    "df.loc[:,'수학':'영어'].sum(axis=1)\n"
   ]
  },
  {
   "cell_type": "code",
   "execution_count": 159,
   "id": "8a565247-dd41-4e14-86fb-41d71673310a",
   "metadata": {},
   "outputs": [
    {
     "data": {
      "text/html": [
       "<div>\n",
       "<style scoped>\n",
       "    .dataframe tbody tr th:only-of-type {\n",
       "        vertical-align: middle;\n",
       "    }\n",
       "\n",
       "    .dataframe tbody tr th {\n",
       "        vertical-align: top;\n",
       "    }\n",
       "\n",
       "    .dataframe thead th {\n",
       "        text-align: right;\n",
       "    }\n",
       "</style>\n",
       "<table border=\"1\" class=\"dataframe\">\n",
       "  <thead>\n",
       "    <tr style=\"text-align: right;\">\n",
       "      <th></th>\n",
       "      <th>전공</th>\n",
       "      <th>수학</th>\n",
       "      <th>국어</th>\n",
       "      <th>영어</th>\n",
       "      <th>합계</th>\n",
       "      <th>평균</th>\n",
       "    </tr>\n",
       "  </thead>\n",
       "  <tbody>\n",
       "    <tr>\n",
       "      <th>홍길동</th>\n",
       "      <td>컴퓨터공학과</td>\n",
       "      <td>97</td>\n",
       "      <td>88</td>\n",
       "      <td>90</td>\n",
       "      <td>275</td>\n",
       "      <td>91.666667</td>\n",
       "    </tr>\n",
       "    <tr>\n",
       "      <th>임꺽정</th>\n",
       "      <td>수학과</td>\n",
       "      <td>88</td>\n",
       "      <td>89</td>\n",
       "      <td>100</td>\n",
       "      <td>277</td>\n",
       "      <td>92.333333</td>\n",
       "    </tr>\n",
       "    <tr>\n",
       "      <th>전우치</th>\n",
       "      <td>정보통신학과</td>\n",
       "      <td>91</td>\n",
       "      <td>85</td>\n",
       "      <td>96</td>\n",
       "      <td>272</td>\n",
       "      <td>90.666667</td>\n",
       "    </tr>\n",
       "    <tr>\n",
       "      <th>손오공</th>\n",
       "      <td>수학과</td>\n",
       "      <td>76</td>\n",
       "      <td>90</td>\n",
       "      <td>91</td>\n",
       "      <td>257</td>\n",
       "      <td>85.666667</td>\n",
       "    </tr>\n",
       "    <tr>\n",
       "      <th>저팔계</th>\n",
       "      <td>컴퓨터공학과</td>\n",
       "      <td>88</td>\n",
       "      <td>88</td>\n",
       "      <td>80</td>\n",
       "      <td>256</td>\n",
       "      <td>85.333333</td>\n",
       "    </tr>\n",
       "    <tr>\n",
       "      <th>사오정</th>\n",
       "      <td>컴퓨터공학과</td>\n",
       "      <td>87</td>\n",
       "      <td>77</td>\n",
       "      <td>90</td>\n",
       "      <td>254</td>\n",
       "      <td>84.666667</td>\n",
       "    </tr>\n",
       "  </tbody>\n",
       "</table>\n",
       "</div>"
      ],
      "text/plain": [
       "         전공  수학  국어   영어   합계         평균\n",
       "홍길동  컴퓨터공학과  97  88   90  275  91.666667\n",
       "임꺽정     수학과  88  89  100  277  92.333333\n",
       "전우치  정보통신학과  91  85   96  272  90.666667\n",
       "손오공     수학과  76  90   91  257  85.666667\n",
       "저팔계  컴퓨터공학과  88  88   80  256  85.333333\n",
       "사오정  컴퓨터공학과  87  77   90  254  84.666667"
      ]
     },
     "metadata": {},
     "output_type": "display_data"
    }
   ],
   "source": [
    "df['합계'] = df.loc[:,'수학':'영어'].sum(axis=1)\n",
    "df['평균'] = df.loc[:,'수학':'영어'].mean(axis=1)\n",
    "display(df)"
   ]
  },
  {
   "cell_type": "code",
   "execution_count": 161,
   "id": "a4c05f7e-3d74-41c8-ad2e-1c14f7315c13",
   "metadata": {},
   "outputs": [
    {
     "data": {
      "text/html": [
       "<div>\n",
       "<style scoped>\n",
       "    .dataframe tbody tr th:only-of-type {\n",
       "        vertical-align: middle;\n",
       "    }\n",
       "\n",
       "    .dataframe tbody tr th {\n",
       "        vertical-align: top;\n",
       "    }\n",
       "\n",
       "    .dataframe thead th {\n",
       "        text-align: right;\n",
       "    }\n",
       "</style>\n",
       "<table border=\"1\" class=\"dataframe\">\n",
       "  <thead>\n",
       "    <tr style=\"text-align: right;\">\n",
       "      <th></th>\n",
       "      <th>전공</th>\n",
       "      <th>수학</th>\n",
       "      <th>국어</th>\n",
       "      <th>영어</th>\n",
       "      <th>합계</th>\n",
       "      <th>평균</th>\n",
       "    </tr>\n",
       "  </thead>\n",
       "  <tbody>\n",
       "    <tr>\n",
       "      <th>홍길동</th>\n",
       "      <td>컴퓨터공학과</td>\n",
       "      <td>97</td>\n",
       "      <td>88</td>\n",
       "      <td>90</td>\n",
       "      <td>275</td>\n",
       "      <td>91.666667</td>\n",
       "    </tr>\n",
       "    <tr>\n",
       "      <th>임꺽정</th>\n",
       "      <td>수학과</td>\n",
       "      <td>88</td>\n",
       "      <td>89</td>\n",
       "      <td>100</td>\n",
       "      <td>277</td>\n",
       "      <td>92.333333</td>\n",
       "    </tr>\n",
       "    <tr>\n",
       "      <th>전우치</th>\n",
       "      <td>정보통신학과</td>\n",
       "      <td>91</td>\n",
       "      <td>85</td>\n",
       "      <td>96</td>\n",
       "      <td>272</td>\n",
       "      <td>90.666667</td>\n",
       "    </tr>\n",
       "    <tr>\n",
       "      <th>손오공</th>\n",
       "      <td>수학과</td>\n",
       "      <td>76</td>\n",
       "      <td>90</td>\n",
       "      <td>91</td>\n",
       "      <td>257</td>\n",
       "      <td>85.666667</td>\n",
       "    </tr>\n",
       "    <tr>\n",
       "      <th>저팔계</th>\n",
       "      <td>컴퓨터공학과</td>\n",
       "      <td>88</td>\n",
       "      <td>88</td>\n",
       "      <td>80</td>\n",
       "      <td>256</td>\n",
       "      <td>85.333333</td>\n",
       "    </tr>\n",
       "    <tr>\n",
       "      <th>사오정</th>\n",
       "      <td>컴퓨터공학과</td>\n",
       "      <td>87</td>\n",
       "      <td>77</td>\n",
       "      <td>90</td>\n",
       "      <td>254</td>\n",
       "      <td>84.666667</td>\n",
       "    </tr>\n",
       "  </tbody>\n",
       "</table>\n",
       "</div>"
      ],
      "text/plain": [
       "         전공  수학  국어   영어   합계         평균\n",
       "홍길동  컴퓨터공학과  97  88   90  275  91.666667\n",
       "임꺽정     수학과  88  89  100  277  92.333333\n",
       "전우치  정보통신학과  91  85   96  272  90.666667\n",
       "손오공     수학과  76  90   91  257  85.666667\n",
       "저팔계  컴퓨터공학과  88  88   80  256  85.333333\n",
       "사오정  컴퓨터공학과  87  77   90  254  84.666667"
      ]
     },
     "metadata": {},
     "output_type": "display_data"
    }
   ],
   "source": [
    "df['평균'] = df['평균'].astype(float)\n",
    "display(df)"
   ]
  },
  {
   "cell_type": "markdown",
   "id": "ca339618-da1b-4731-9b41-a369c086b970",
   "metadata": {},
   "source": [
    "# 결측값 처리"
   ]
  },
  {
   "cell_type": "code",
   "execution_count": 167,
   "id": "cd29c566-ffad-4aa0-907d-b8eb12e8693d",
   "metadata": {},
   "outputs": [
    {
     "name": "stdout",
     "output_type": "stream",
     "text": [
      "   a  b    c  d    e\n",
      "A  9  4  0.0  1  9.0\n",
      "B  0  1  NaN  9  0.0\n",
      "C  8  6  4.0  3  0.0\n",
      "D  4  6  8.0  1  NaN\n",
      "E  4  1  3.0  6  5.0\n"
     ]
    }
   ],
   "source": [
    "import numpy as np\n",
    "import pandas as pd\n",
    "\n",
    "np.random.seed(10)\n",
    "df = pd.DataFrame(np.random.randint(10, size = (5,5)), index = list('ABCDE'), columns=list('abcde'))\n",
    "df.at['B','c'] = None\n",
    "df.at['D','e'] = None\n",
    "print(df)\n"
   ]
  },
  {
   "cell_type": "markdown",
   "id": "38dbc6ae-e2e4-4c2e-86b5-1bd5676fa1f3",
   "metadata": {},
   "source": [
    "## df.isna(),df.notna()\n",
    "-데이터가 NaN인지 아닌지 검사"
   ]
  },
  {
   "cell_type": "code",
   "execution_count": 168,
   "id": "d7f7da60-c596-4a85-9fc1-a593b2bf7af5",
   "metadata": {},
   "outputs": [
    {
     "name": "stdout",
     "output_type": "stream",
     "text": [
      "      a     b      c     d      e\n",
      "A  True  True   True  True   True\n",
      "B  True  True  False  True   True\n",
      "C  True  True   True  True   True\n",
      "D  True  True   True  True  False\n",
      "E  True  True   True  True   True\n"
     ]
    }
   ],
   "source": [
    "check_na = df.notna()\n",
    "print(check_na)"
   ]
  },
  {
   "cell_type": "code",
   "execution_count": 169,
   "id": "70de659c-af8c-4efb-b7fe-2ad2cd5b1f7f",
   "metadata": {},
   "outputs": [
    {
     "name": "stdout",
     "output_type": "stream",
     "text": [
      "a    5\n",
      "b    5\n",
      "c    4\n",
      "d    5\n",
      "e    4\n",
      "dtype: int64\n"
     ]
    }
   ],
   "source": [
    "# 컬럼별 결측치 데이터 수 확인\n",
    "print(check_na.sum())"
   ]
  },
  {
   "cell_type": "code",
   "execution_count": 170,
   "id": "3dc1d4e5-a6fe-4021-a6b4-f545cea5d339",
   "metadata": {},
   "outputs": [
    {
     "name": "stdout",
     "output_type": "stream",
     "text": [
      "<class 'pandas.core.frame.DataFrame'>\n",
      "Index: 5 entries, A to E\n",
      "Data columns (total 5 columns):\n",
      " #   Column  Non-Null Count  Dtype  \n",
      "---  ------  --------------  -----  \n",
      " 0   a       5 non-null      int32  \n",
      " 1   b       5 non-null      int32  \n",
      " 2   c       4 non-null      float64\n",
      " 3   d       5 non-null      int32  \n",
      " 4   e       4 non-null      float64\n",
      "dtypes: float64(2), int32(3)\n",
      "memory usage: 352.0+ bytes\n",
      "None\n"
     ]
    }
   ],
   "source": [
    "print(df.info())"
   ]
  },
  {
   "cell_type": "markdown",
   "id": "af19b9c2-aea1-4e07-9e0d-40b9a8042bdf",
   "metadata": {},
   "source": [
    "## df.dropna()\n",
    "- 결측값이 존재하는 행 또는 열을 삭제한다\n",
    "- 기본 값은 결측값이 존재하는 행을 모두 제거하는 방식이다\n",
    "- 원본 데이터를 수정하는 것은 아니다"
   ]
  },
  {
   "cell_type": "code",
   "execution_count": 172,
   "id": "fe1a84df-61de-4f5b-ad11-4c6049620abc",
   "metadata": {},
   "outputs": [
    {
     "name": "stdout",
     "output_type": "stream",
     "text": [
      "   a  b    c  d    e\n",
      "A  9  4  0.0  1  9.0\n",
      "C  8  6  4.0  3  0.0\n",
      "E  4  1  3.0  6  5.0\n"
     ]
    }
   ],
   "source": [
    "cleared_row= df.dropna()\n",
    "print(cleared_row)"
   ]
  },
  {
   "cell_type": "code",
   "execution_count": 175,
   "id": "f0a3eb6d-a880-4b37-acb0-023bda1695ff",
   "metadata": {},
   "outputs": [
    {
     "name": "stdout",
     "output_type": "stream",
     "text": [
      "   a  b  d\n",
      "A  9  4  1\n",
      "B  0  1  9\n",
      "C  8  6  3\n",
      "D  4  6  1\n",
      "E  4  1  6\n"
     ]
    }
   ],
   "source": [
    "cleared_col= df.dropna(axis=1)\n",
    "print(cleared_col)"
   ]
  },
  {
   "cell_type": "markdown",
   "id": "6abe9a30-1175-4d41-9d04-69de49aefa6d",
   "metadata": {},
   "source": [
    "- 'subset 인수'를 설정하면 모든 컬럼이 아닌 특정 컬럼의 결측값 데이터만 삭제한다"
   ]
  },
  {
   "cell_type": "code",
   "execution_count": 177,
   "id": "a567eb3b-4aae-484f-b003-0a9191af19d5",
   "metadata": {},
   "outputs": [
    {
     "name": "stdout",
     "output_type": "stream",
     "text": [
      "   a  b    c  d    e\n",
      "A  9  4  0.0  1  9.0\n",
      "C  8  6  4.0  3  0.0\n",
      "D  4  6  8.0  1  NaN\n",
      "E  4  1  3.0  6  5.0\n"
     ]
    }
   ],
   "source": [
    "# C컬럼의 결측값이 있는 행을 삭제한다\n",
    "cleared_row_df = df.dropna(subset = ['c'])\n",
    "print(cleared_row_df)"
   ]
  },
  {
   "cell_type": "markdown",
   "id": "37d757c3-e063-48a0-94a3-08dd55e4b578",
   "metadata": {},
   "source": [
    "## df.fillna()\n",
    "- 결측값을 다른 값으로 채운다"
   ]
  },
  {
   "cell_type": "code",
   "execution_count": 178,
   "id": "7401e75b-23dd-4d89-beb2-e0bbb15df4b1",
   "metadata": {},
   "outputs": [
    {
     "name": "stdout",
     "output_type": "stream",
     "text": [
      "   a  b      c  d      e\n",
      "A  9  4    0.0  1    9.0\n",
      "B  0  1 -999.0  9    0.0\n",
      "C  8  6    4.0  3    0.0\n",
      "D  4  6    8.0  1 -999.0\n",
      "E  4  1    3.0  6    5.0\n"
     ]
    }
   ],
   "source": [
    "fillde_df = df.fillna(-999)\n",
    "print(fillde_df)"
   ]
  },
  {
   "cell_type": "code",
   "execution_count": 180,
   "id": "7209e11d-9e6f-4da5-96fb-37b4054f39b9",
   "metadata": {},
   "outputs": [
    {
     "name": "stdout",
     "output_type": "stream",
     "text": [
      "   a  b     c  d    e\n",
      "A  9  4  0.00  1  9.0\n",
      "B  0  1  3.75  9  0.0\n",
      "C  8  6  4.00  3  0.0\n",
      "D  4  6  8.00  1  NaN\n",
      "E  4  1  3.00  6  5.0\n"
     ]
    }
   ],
   "source": [
    "# 결측값을 해당 컬럼의 평균 값으로 채우기\n",
    "df['c'] = df['c'].fillna(df['c'].mean())\n",
    "print(df)"
   ]
  },
  {
   "cell_type": "markdown",
   "id": "6539be1a-deaa-42a1-b662-edf13634553a",
   "metadata": {},
   "source": [
    "## df.ffill() / df.bfill()\n",
    "- ffill(): 결측값의 앞 값으로 채운다.\n",
    "- bfill(): 결측값의 뒤의 값으로 채운다."
   ]
  },
  {
   "cell_type": "code",
   "execution_count": 181,
   "id": "934ca58c-fca0-4e86-aa55-cdeb58d16453",
   "metadata": {},
   "outputs": [
    {
     "name": "stdout",
     "output_type": "stream",
     "text": [
      "   a  b     c  d    e\n",
      "A  9  4  0.00  1  9.0\n",
      "B  0  1  3.75  9  0.0\n",
      "C  8  6  4.00  3  0.0\n",
      "D  4  6  8.00  1  0.0\n",
      "E  4  1  3.00  6  5.0\n"
     ]
    }
   ],
   "source": [
    "filled_df2 = df.ffill()\n",
    "print(filled_df2)"
   ]
  },
  {
   "cell_type": "code",
   "execution_count": 182,
   "id": "991739df-63e8-418b-b6ff-d4166a354e04",
   "metadata": {},
   "outputs": [
    {
     "name": "stdout",
     "output_type": "stream",
     "text": [
      "   a  b     c  d    e\n",
      "A  9  4  0.00  1  9.0\n",
      "B  0  1  3.75  9  0.0\n",
      "C  8  6  4.00  3  0.0\n",
      "D  4  6  8.00  1  5.0\n",
      "E  4  1  3.00  6  5.0\n"
     ]
    }
   ],
   "source": [
    "filled_df3 = df.bfill()\n",
    "print(filled_df3)"
   ]
  },
  {
   "cell_type": "markdown",
   "id": "35af1769-0954-4fbd-b14d-43f6fc855ca0",
   "metadata": {},
   "source": [
    "# 중복 데이터 제거"
   ]
  },
  {
   "cell_type": "code",
   "execution_count": 185,
   "id": "83c7e417-6a2a-4b5b-bd75-5558ced9d0e8",
   "metadata": {},
   "outputs": [
    {
     "name": "stdout",
     "output_type": "stream",
     "text": [
      "    k1  k2\n",
      "0  one   1\n",
      "1  two   1\n",
      "2  one   2\n",
      "3  two   3\n",
      "4  one   3\n",
      "5  two   4\n",
      "6  two   4\n"
     ]
    }
   ],
   "source": [
    "import pandas as pd\n",
    "\n",
    "df = pd.DataFrame({'k1':['one', 'two']*3 + ['two'], 'k2':[1,1,2,3,3,4,4,]})\n",
    "print(df)"
   ]
  },
  {
   "cell_type": "markdown",
   "id": "4d13ad3a-529f-40e1-b347-ae13648d9a49",
   "metadata": {},
   "source": [
    "## df.duplicated()\n",
    "- 각 행의 중복 여부를 확인해 True / False 값으로 알려준다"
   ]
  },
  {
   "cell_type": "code",
   "execution_count": 186,
   "id": "f4b86d9a-1a64-42dd-b8b7-3dd72ade73dd",
   "metadata": {},
   "outputs": [
    {
     "name": "stdout",
     "output_type": "stream",
     "text": [
      "0    False\n",
      "1    False\n",
      "2    False\n",
      "3    False\n",
      "4    False\n",
      "5    False\n",
      "6     True\n",
      "dtype: bool\n"
     ]
    }
   ],
   "source": [
    "print(df.duplicated())"
   ]
  },
  {
   "cell_type": "markdown",
   "id": "ec5589d9-7713-4570-815d-db172794db4d",
   "metadata": {},
   "source": [
    "## df.drop_duplicates()\n",
    "- 모든 컬럼에 대해 중복된 값을 갖는 행을 제거한 데이터프레임을 반환한다."
   ]
  },
  {
   "cell_type": "code",
   "execution_count": 187,
   "id": "115624c6-0b4c-4271-87ac-ce97021ae757",
   "metadata": {},
   "outputs": [
    {
     "name": "stdout",
     "output_type": "stream",
     "text": [
      "    k1  k2\n",
      "0  one   1\n",
      "1  two   1\n",
      "2  one   2\n",
      "3  two   3\n",
      "4  one   3\n",
      "5  two   4\n"
     ]
    }
   ],
   "source": [
    "rm_duplicated = df.drop_duplicates()\n",
    "print(rm_duplicated)"
   ]
  },
  {
   "cell_type": "markdown",
   "id": "ceaff1ac-39af-4037-a64b-b32cdc246458",
   "metadata": {},
   "source": [
    "## df.drop_duplicates(컬럼명 리스트)\n",
    "- 매개변수로 주어진 컬럼명 목록에 대해 같은 값을 갖는 행을 제거한 데이터프레임을 반환한다"
   ]
  },
  {
   "cell_type": "code",
   "execution_count": 188,
   "id": "2d947ed3-3b0c-4d79-8410-a7b2ce8c5b93",
   "metadata": {},
   "outputs": [
    {
     "name": "stdout",
     "output_type": "stream",
     "text": [
      "    k1  k2  y1\n",
      "0  one   1   0\n",
      "1  two   1   1\n",
      "2  one   2   2\n",
      "3  two   3   3\n",
      "4  one   3   4\n",
      "5  two   4   5\n",
      "6  two   4   6\n"
     ]
    }
   ],
   "source": [
    "df['y1'] = np.arange(7)\n",
    "print(df)"
   ]
  },
  {
   "cell_type": "code",
   "execution_count": 189,
   "id": "f6fdc785-217b-47b6-8767-e6231e57eef1",
   "metadata": {},
   "outputs": [
    {
     "name": "stdout",
     "output_type": "stream",
     "text": [
      "0    False\n",
      "1    False\n",
      "2    False\n",
      "3    False\n",
      "4    False\n",
      "5    False\n",
      "6    False\n",
      "dtype: bool\n"
     ]
    }
   ],
   "source": [
    "print(df.duplicated())"
   ]
  },
  {
   "cell_type": "code",
   "execution_count": 190,
   "id": "8aa3b8df-ff4e-4209-8c96-3ef990937c60",
   "metadata": {},
   "outputs": [
    {
     "name": "stdout",
     "output_type": "stream",
     "text": [
      "    k1  k2  y1\n",
      "0  one   1   0\n",
      "1  two   1   1\n",
      "2  one   2   2\n",
      "3  two   3   3\n",
      "4  one   3   4\n",
      "5  two   4   5\n"
     ]
    }
   ],
   "source": [
    "rm_duplicated = df.drop_duplicates(['k1','k2'])\n",
    "print(rm_duplicated)"
   ]
  },
  {
   "cell_type": "markdown",
   "id": "e36144fb-6a1d-42d6-b67f-d2461ba99286",
   "metadata": {},
   "source": [
    "## keep = 'last' 파라메터\n",
    "- drop_duplicates는 기본적으로 처음 발견된 데이터를 유지한다\n",
    "- keep = 'last' 파라메터를 지정하면 마지막으로 발견된 값을 유지한다"
   ]
  },
  {
   "cell_type": "code",
   "execution_count": 191,
   "id": "f3474e76-a822-4f33-8364-9a34253364aa",
   "metadata": {},
   "outputs": [
    {
     "name": "stdout",
     "output_type": "stream",
     "text": [
      "    k1  k2  y1\n",
      "0  one   1   0\n",
      "1  two   1   1\n",
      "2  one   2   2\n",
      "3  two   3   3\n",
      "4  one   3   4\n",
      "6  two   4   6\n"
     ]
    }
   ],
   "source": [
    "rm_duplicated = df.drop_duplicates(['k1', 'k2'], keep='last')\n",
    "print(rm_duplicated)"
   ]
  },
  {
   "cell_type": "markdown",
   "id": "065bfb59-8db7-4bf5-a090-9c8f2a4eec61",
   "metadata": {},
   "source": [
    "# 데이터프레임 재구조화"
   ]
  },
  {
   "cell_type": "code",
   "execution_count": 195,
   "id": "09ff8d25-1484-4239-bf3d-bff5ea0688ad",
   "metadata": {},
   "outputs": [
    {
     "name": "stdout",
     "output_type": "stream",
     "text": [
      "   year class   a   b   c   d\n",
      "A  2021     A   0   1   2   3\n",
      "B  2022     A   4   5   6   7\n",
      "C  2023     B   8   9  10  11\n",
      "D  2024     B  12  13  14  15\n"
     ]
    }
   ],
   "source": [
    "import numpy as np\n",
    "import pandas as pd\n",
    "\n",
    "df = pd.DataFrame(np.arange(16).reshape((4,4)), index = list('ABCD'), columns = list('abcd'))\n",
    "year_df=pd.DataFrame([2021, 2022, 2023, 2024], list('ABCD'), columns=['year'])\n",
    "class_df = pd.DataFrame(list('AABB'), list('ABCD'), columns=['class'])\n",
    "\n",
    "df = pd.concat([year_df,class_df,df], axis=1)\n",
    "print(df)"
   ]
  },
  {
   "cell_type": "markdown",
   "id": "7cccd9b0-b97f-45d8-ae2b-9239b216f882",
   "metadata": {},
   "source": [
    "## pd.pivot_table() (=df.pivot_table())\n",
    "- 지정된 index와 column으로 사용하는 피벗 테이블을 생성한다\n",
    "- 피벗 테이블: 기존 데이터를 기반으로 합계나 평균 등의 통계를 산출하기 위해 새로운 구조의 표를 만드는 기능\n",
    "- 데이터에서 특정 컬럼 항목으로만 정렬하고 싶을 때 피벗 테이블을 사용한다. 그렇게 되면 해당 컬럼이 index가 되고, 중복된 컬럼의 항목은 하나로 합쳐지고 값들의 평균을 가지게 된다.\n",
    "- df.pivot_table(index=행방향 컬럼, columns = 열방향 컬럼, values = 집계대상 컬럼, aggfunc = 구할 통계값)"
   ]
  },
  {
   "cell_type": "code",
   "execution_count": 196,
   "id": "c6e3bdb9-b5b2-4869-bb11-fb4a2f9123a4",
   "metadata": {},
   "outputs": [
    {
     "name": "stdout",
     "output_type": "stream",
     "text": [
      "         a          b          c          d      \n",
      "class    A     B    A     B    A     B    A     B\n",
      "year                                             \n",
      "2021   0.0   NaN  1.0   NaN  2.0   NaN  3.0   NaN\n",
      "2022   4.0   NaN  5.0   NaN  6.0   NaN  7.0   NaN\n",
      "2023   NaN   8.0  NaN   9.0  NaN  10.0  NaN  11.0\n",
      "2024   NaN  12.0  NaN  13.0  NaN  14.0  NaN  15.0\n"
     ]
    }
   ],
   "source": [
    "pivot = pd.pivot_table(df,index='year', columns='class')\n",
    "print(pivot)"
   ]
  },
  {
   "cell_type": "code",
   "execution_count": 197,
   "id": "70b12a16-84ec-46d4-ac9c-a19fe50316ca",
   "metadata": {},
   "outputs": [
    {
     "name": "stdout",
     "output_type": "stream",
     "text": [
      "               a     b     c     d\n",
      "year class                        \n",
      "2021 A       0.0   1.0   2.0   3.0\n",
      "2022 A       4.0   5.0   6.0   7.0\n",
      "2023 B       8.0   9.0  10.0  11.0\n",
      "2024 B      12.0  13.0  14.0  15.0\n"
     ]
    }
   ],
   "source": [
    "pivot = pd.pivot_table(df, index = ['year', 'class'])\n",
    "print(pivot)"
   ]
  },
  {
   "cell_type": "code",
   "execution_count": 200,
   "id": "b23155b9-63c8-4394-b279-7952a74f73c7",
   "metadata": {},
   "outputs": [
    {
     "name": "stdout",
     "output_type": "stream",
     "text": [
      "         a     b     c     d\n",
      "year                        \n",
      "2021   0.0   1.0   2.0   3.0\n",
      "2022   4.0   5.0   6.0   7.0\n",
      "2023   8.0   9.0  10.0  11.0\n",
      "2024  12.0  13.0  14.0  15.0\n"
     ]
    }
   ],
   "source": [
    "# 연도를 기준으로 각 컬럼의 평균값이 하나로 합쳐진 후 평균 값이 표시된다\n",
    "# aggfunc = np.mean() 기본값으로 설정되어 있음\n",
    "pivot = pd.pivot_table(df,index='year', values =['a','b','c','d'])\n",
    "print(pivot)"
   ]
  },
  {
   "cell_type": "code",
   "execution_count": 204,
   "id": "31425574-ab85-4065-9b81-bef4e366c09a",
   "metadata": {},
   "outputs": [
    {
     "name": "stdout",
     "output_type": "stream",
     "text": [
      "     sum              mean                  \n",
      "       a   b   c   d     a     b     c     d\n",
      "year                                        \n",
      "2021   0   1   2   3   0.0   1.0   2.0   3.0\n",
      "2022   4   5   6   7   4.0   5.0   6.0   7.0\n",
      "2023   8   9  10  11   8.0   9.0  10.0  11.0\n",
      "2024  12  13  14  15  12.0  13.0  14.0  15.0\n"
     ]
    }
   ],
   "source": [
    "pivot = pd.pivot_table(df,index='year', values =['a','b','c','d'],aggfunc=['sum','mean'])\n",
    "print(pivot)"
   ]
  },
  {
   "cell_type": "code",
   "execution_count": 205,
   "id": "c8909222-73a9-45f7-98d4-293aa87cf666",
   "metadata": {},
   "outputs": [
    {
     "name": "stdout",
     "output_type": "stream",
     "text": [
      "MultiIndex([( 'sum', 'a'),\n",
      "            ( 'sum', 'b'),\n",
      "            ( 'sum', 'c'),\n",
      "            ( 'sum', 'd'),\n",
      "            ('mean', 'a'),\n",
      "            ('mean', 'b'),\n",
      "            ('mean', 'c'),\n",
      "            ('mean', 'd')],\n",
      "           )\n"
     ]
    }
   ],
   "source": [
    "print(pivot.columns)"
   ]
  },
  {
   "cell_type": "markdown",
   "id": "54cbc6b8-84dc-45d8-a994-e348f4b884b7",
   "metadata": {},
   "source": [
    "[실습] 피벗 테이블 실습\n",
    "- 'benefit' 컬럼 추가:매출(sales)-비용(cost)\n",
    "- 피봇을 활용해 연도별 분기 이익 데이터 확인\n",
    "- 연도별 이익의 평균 / 합계 계산"
   ]
  },
  {
   "cell_type": "code",
   "execution_count": 217,
   "id": "e5574363-e587-4721-8b93-0b6890db71ae",
   "metadata": {},
   "outputs": [
    {
     "name": "stdout",
     "output_type": "stream",
     "text": [
      "    year quarter  sales  cost\n",
      "0   2020      1q   1789   356\n",
      "1   2020      2q   5123   590\n",
      "2   2020      3q   1844   140\n",
      "3   2020      4q   3941   602\n",
      "4   2021      1q   1680   471\n",
      "5   2021      2q   2509   456\n",
      "6   2021      3q   5329   339\n",
      "7   2021      4q   2020   495\n",
      "8   2022      1q   2449   154\n",
      "9   2022      2q   2542   674\n",
      "10  2022      3q   1532  1074\n",
      "11  2022      4q   1597  1178\n"
     ]
    }
   ],
   "source": [
    "sr_year = pd.Series([2020]*4+[2021]*4+[2022]*4)\n",
    "sr_quarter =pd.Series(['1q', '2q', '3q', '4q'] * 3)\n",
    "np.random.seed(10)\n",
    "sr_sales = pd.Series(np.random.randint(500,6000, 12))\n",
    "sr_cost = pd.Series(np.random.randint(100, 1200, 12))\n",
    "\n",
    "df=pd.DataFrame({'year':sr_year, 'quarter':sr_quarter,'sales':sr_sales,'cost':sr_cost})\n",
    "print(df)"
   ]
  },
  {
   "cell_type": "code",
   "execution_count": 218,
   "id": "964b1a89-1c54-44dd-a7b7-85dc8c6d1bbe",
   "metadata": {},
   "outputs": [
    {
     "name": "stdout",
     "output_type": "stream",
     "text": [
      "    year quarter  sales  cost  benefit\n",
      "0   2020      1q   1789   356     1433\n",
      "1   2020      2q   5123   590     4533\n",
      "2   2020      3q   1844   140     1704\n",
      "3   2020      4q   3941   602     3339\n",
      "4   2021      1q   1680   471     1209\n",
      "5   2021      2q   2509   456     2053\n",
      "6   2021      3q   5329   339     4990\n",
      "7   2021      4q   2020   495     1525\n",
      "8   2022      1q   2449   154     2295\n",
      "9   2022      2q   2542   674     1868\n",
      "10  2022      3q   1532  1074      458\n",
      "11  2022      4q   1597  1178      419\n"
     ]
    }
   ],
   "source": [
    "# 매출 컬럼 추가\n",
    "df['benefit'] = df['sales']-df['cost']\n",
    "print(df)"
   ]
  },
  {
   "cell_type": "code",
   "execution_count": 219,
   "id": "3333393f-d9f1-40c1-8e58-92d4fd3993bb",
   "metadata": {},
   "outputs": [
    {
     "name": "stdout",
     "output_type": "stream",
     "text": [
      "quarter      1q      2q      3q      4q\n",
      "year                                   \n",
      "2020     1433.0  4533.0  1704.0  3339.0\n",
      "2021     1209.0  2053.0  4990.0  1525.0\n",
      "2022     2295.0  1868.0   458.0   419.0\n"
     ]
    }
   ],
   "source": [
    "# 피봇을 활용해 연도별 분기 이익 데이터 확인\n",
    "df_pivot = pd.pivot_table(df,index='year', columns='quarter', values = 'benefit')\n",
    "print(df_pivot)"
   ]
  },
  {
   "cell_type": "code",
   "execution_count": 220,
   "id": "1683a3bc-67a8-453a-bc02-b5d3696f3978",
   "metadata": {},
   "outputs": [
    {
     "name": "stdout",
     "output_type": "stream",
     "text": [
      "              benefit\n",
      "year quarter         \n",
      "2020 1q        1433.0\n",
      "     2q        4533.0\n",
      "     3q        1704.0\n",
      "     4q        3339.0\n",
      "2021 1q        1209.0\n",
      "     2q        2053.0\n",
      "     3q        4990.0\n",
      "     4q        1525.0\n",
      "2022 1q        2295.0\n",
      "     2q        1868.0\n",
      "     3q         458.0\n",
      "     4q         419.0\n"
     ]
    }
   ],
   "source": [
    "df_pivot = pd.pivot_table(df,index=['year', 'quarter'], values = 'benefit')\n",
    "print(df_pivot)"
   ]
  },
  {
   "cell_type": "code",
   "execution_count": 221,
   "id": "183c4643-581c-4c55-8c3d-e52a62a66501",
   "metadata": {},
   "outputs": [
    {
     "name": "stdout",
     "output_type": "stream",
     "text": [
      "         sum     mean\n",
      "     benefit  benefit\n",
      "year                 \n",
      "2020   11009  2752.25\n",
      "2021    9777  2444.25\n",
      "2022    5040  1260.00\n"
     ]
    }
   ],
   "source": [
    "# 연도별 이익의 평균 / 합계 계산\n",
    "df_pivot = pd.pivot_table(df,index='year', values = 'benefit',aggfunc=['sum','mean'])\n",
    "print(df_pivot)"
   ]
  },
  {
   "cell_type": "code",
   "execution_count": 224,
   "id": "c9e978c1-7556-4fc1-a32c-8f906b81f264",
   "metadata": {},
   "outputs": [
    {
     "name": "stdout",
     "output_type": "stream",
     "text": [
      "    year quarter   sales  cost  benefit\n",
      "0   2020      1q  ₩(x:,)   356     1433\n",
      "1   2020      2q  ₩(x:,)   590     4533\n",
      "2   2020      3q  ₩(x:,)   140     1704\n",
      "3   2020      4q  ₩(x:,)   602     3339\n",
      "4   2021      1q  ₩(x:,)   471     1209\n",
      "5   2021      2q  ₩(x:,)   456     2053\n",
      "6   2021      3q  ₩(x:,)   339     4990\n",
      "7   2021      4q  ₩(x:,)   495     1525\n",
      "8   2022      1q  ₩(x:,)   154     2295\n",
      "9   2022      2q  ₩(x:,)   674     1868\n",
      "10  2022      3q  ₩(x:,)  1074      458\n",
      "11  2022      4q  ₩(x:,)  1178      419\n",
      "    year quarter   sales    cost  benefit\n",
      "0   2020      1q  ₩(x:,)  ₩(x:,)     1433\n",
      "1   2020      2q  ₩(x:,)  ₩(x:,)     4533\n",
      "2   2020      3q  ₩(x:,)  ₩(x:,)     1704\n",
      "3   2020      4q  ₩(x:,)  ₩(x:,)     3339\n",
      "4   2021      1q  ₩(x:,)  ₩(x:,)     1209\n",
      "5   2021      2q  ₩(x:,)  ₩(x:,)     2053\n",
      "6   2021      3q  ₩(x:,)  ₩(x:,)     4990\n",
      "7   2021      4q  ₩(x:,)  ₩(x:,)     1525\n",
      "8   2022      1q  ₩(x:,)  ₩(x:,)     2295\n",
      "9   2022      2q  ₩(x:,)  ₩(x:,)     1868\n",
      "10  2022      3q  ₩(x:,)  ₩(x:,)      458\n",
      "11  2022      4q  ₩(x:,)  ₩(x:,)      419\n",
      "    year quarter   sales    cost benefit\n",
      "0   2020      1q  ₩(x:,)  ₩(x:,)  ₩(x:,)\n",
      "1   2020      2q  ₩(x:,)  ₩(x:,)  ₩(x:,)\n",
      "2   2020      3q  ₩(x:,)  ₩(x:,)  ₩(x:,)\n",
      "3   2020      4q  ₩(x:,)  ₩(x:,)  ₩(x:,)\n",
      "4   2021      1q  ₩(x:,)  ₩(x:,)  ₩(x:,)\n",
      "5   2021      2q  ₩(x:,)  ₩(x:,)  ₩(x:,)\n",
      "6   2021      3q  ₩(x:,)  ₩(x:,)  ₩(x:,)\n",
      "7   2021      4q  ₩(x:,)  ₩(x:,)  ₩(x:,)\n",
      "8   2022      1q  ₩(x:,)  ₩(x:,)  ₩(x:,)\n",
      "9   2022      2q  ₩(x:,)  ₩(x:,)  ₩(x:,)\n",
      "10  2022      3q  ₩(x:,)  ₩(x:,)  ₩(x:,)\n",
      "11  2022      4q  ₩(x:,)  ₩(x:,)  ₩(x:,)\n"
     ]
    }
   ],
   "source": [
    "currency_format = df.copy()\n",
    "for col in ['sales', 'cost', 'benefit']:\n",
    "    currency_format[col] = currency_format[col].map(lambda x:f'₩(x:,)')\n",
    "    print(currency_format)"
   ]
  },
  {
   "cell_type": "markdown",
   "id": "5a8e0435-d856-4fa8-b628-2ee58745e1c2",
   "metadata": {},
   "source": [
    "# 다중 인덱스\n",
    "- index, columns를 중첩 형태로 전달해서 다중 인덱스를 설정할 수 있다"
   ]
  },
  {
   "cell_type": "code",
   "execution_count": 226,
   "id": "0b27ffbf-742c-47e1-acab-df0ce86f9b7c",
   "metadata": {},
   "outputs": [
    {
     "data": {
      "text/html": [
       "<div>\n",
       "<style scoped>\n",
       "    .dataframe tbody tr th:only-of-type {\n",
       "        vertical-align: middle;\n",
       "    }\n",
       "\n",
       "    .dataframe tbody tr th {\n",
       "        vertical-align: top;\n",
       "    }\n",
       "\n",
       "    .dataframe thead tr th {\n",
       "        text-align: left;\n",
       "    }\n",
       "</style>\n",
       "<table border=\"1\" class=\"dataframe\">\n",
       "  <thead>\n",
       "    <tr>\n",
       "      <th></th>\n",
       "      <th></th>\n",
       "      <th colspan=\"2\" halign=\"left\">1기</th>\n",
       "      <th colspan=\"2\" halign=\"left\">2기</th>\n",
       "    </tr>\n",
       "    <tr>\n",
       "      <th></th>\n",
       "      <th></th>\n",
       "      <th>오전</th>\n",
       "      <th>오후</th>\n",
       "      <th>오전</th>\n",
       "      <th>오후</th>\n",
       "    </tr>\n",
       "  </thead>\n",
       "  <tbody>\n",
       "    <tr>\n",
       "      <th>1</th>\n",
       "      <th>java</th>\n",
       "      <td>0</td>\n",
       "      <td>1</td>\n",
       "      <td>2</td>\n",
       "      <td>3</td>\n",
       "    </tr>\n",
       "    <tr>\n",
       "      <th>2</th>\n",
       "      <th>python</th>\n",
       "      <td>4</td>\n",
       "      <td>5</td>\n",
       "      <td>6</td>\n",
       "      <td>7</td>\n",
       "    </tr>\n",
       "    <tr>\n",
       "      <th>3</th>\n",
       "      <th>java</th>\n",
       "      <td>8</td>\n",
       "      <td>9</td>\n",
       "      <td>10</td>\n",
       "      <td>11</td>\n",
       "    </tr>\n",
       "    <tr>\n",
       "      <th>4</th>\n",
       "      <th>python</th>\n",
       "      <td>12</td>\n",
       "      <td>13</td>\n",
       "      <td>14</td>\n",
       "      <td>15</td>\n",
       "    </tr>\n",
       "  </tbody>\n",
       "</table>\n",
       "</div>"
      ],
      "text/plain": [
       "          1기      2기    \n",
       "          오전  오후  오전  오후\n",
       "1 java     0   1   2   3\n",
       "2 python   4   5   6   7\n",
       "3 java     8   9  10  11\n",
       "4 python  12  13  14  15"
      ]
     },
     "metadata": {},
     "output_type": "display_data"
    }
   ],
   "source": [
    "df = pd.DataFrame(np.arange(16).reshape((4,4)),index =[[1,2,3,4,], ['java', 'python','java','python']],columns=[['1기','1기','2기', '2기'], ['오전','오후','오전','오후']])\n",
    "display(df)"
   ]
  },
  {
   "cell_type": "code",
   "execution_count": 227,
   "id": "1c8d56f8-8c9c-453c-b74c-abe97e8ac94c",
   "metadata": {},
   "outputs": [
    {
     "name": "stdout",
     "output_type": "stream",
     "text": [
      "          오전  오후\n",
      "1 java     0   1\n",
      "2 python   4   5\n",
      "3 java     8   9\n",
      "4 python  12  13\n"
     ]
    }
   ],
   "source": [
    "print(df['1기'])"
   ]
  },
  {
   "cell_type": "code",
   "execution_count": 228,
   "id": "dc3cfa86-e510-4106-8129-5770e9a13379",
   "metadata": {},
   "outputs": [
    {
     "name": "stdout",
     "output_type": "stream",
     "text": [
      "1  java       1\n",
      "2  python     5\n",
      "3  java       9\n",
      "4  python    13\n",
      "Name: (1기, 오후), dtype: int32\n"
     ]
    }
   ],
   "source": [
    "print(df['1기','오후'])"
   ]
  },
  {
   "cell_type": "code",
   "execution_count": 231,
   "id": "58c869fb-7eb3-4596-8d76-c8a15cd8a058",
   "metadata": {},
   "outputs": [
    {
     "name": "stdout",
     "output_type": "stream",
     "text": [
      "      오전  오후\n",
      "java   0   1\n"
     ]
    }
   ],
   "source": [
    "print(df.loc[1,'1기'])"
   ]
  },
  {
   "cell_type": "markdown",
   "id": "fe7fc481-1e32-4c35-a415-888ee05f7332",
   "metadata": {},
   "source": [
    "# 그룹핑\n",
    "- 특정 값을 기준으로 몇 개의 그룹으로 분할하여 처리하는 방식"
   ]
  },
  {
   "cell_type": "code",
   "execution_count": 233,
   "id": "67939484-a338-4ed6-bb7d-b43ac18469aa",
   "metadata": {},
   "outputs": [
    {
     "name": "stdout",
     "output_type": "stream",
     "text": [
      "       A    B         C         D\n",
      "0   chol  one  0.090459  0.613204\n",
      "1  young  one  0.300700 -0.495618\n",
      "2   chol  two  0.113984  0.525637\n",
      "3  young  one  0.828681 -0.389646\n",
      "4   chol  two  0.046896  0.937296\n",
      "5  young  two  0.626287 -0.816974\n",
      "6   chol  one  0.547586  1.019615\n"
     ]
    }
   ],
   "source": [
    "import numpy as np\n",
    "import pandas as pd\n",
    "\n",
    "df=pd.DataFrame({'A':['chol','young','chol','young','chol', 'young','chol'],\n",
    "                 'B':['one','one','two','one','two','two','one'],\n",
    "                 'C':np.random.random(7),\n",
    "                 'D':np.random.randn(7)})\n",
    "print(df)"
   ]
  },
  {
   "cell_type": "markdown",
   "id": "347d0306-3b34-4d4c-8b83-600a6f017a87",
   "metadata": {},
   "source": [
    "## 그룹 객체 만들기"
   ]
  },
  {
   "cell_type": "code",
   "execution_count": 235,
   "id": "190b7d67-68e4-413c-a36d-fd794b74e7d8",
   "metadata": {},
   "outputs": [
    {
     "name": "stdout",
     "output_type": "stream",
     "text": [
      "<pandas.core.groupby.generic.DataFrameGroupBy object at 0x000002C2FFBC7CD0>\n",
      "Key one\n",
      "       A    B         C         D\n",
      "0   chol  one  0.090459  0.613204\n",
      "1  young  one  0.300700 -0.495618\n",
      "3  young  one  0.828681 -0.389646\n",
      "6   chol  one  0.547586  1.019615\n",
      "==============================\n",
      "Key two\n",
      "       A    B         C         D\n",
      "2   chol  two  0.113984  0.525637\n",
      "4   chol  two  0.046896  0.937296\n",
      "5  young  two  0.626287 -0.816974\n",
      "==============================\n"
     ]
    }
   ],
   "source": [
    "grouped = df.groupby('B')\n",
    "print(grouped)\n",
    "\n",
    "for key,group in grouped:\n",
    "    print('Key', key)\n",
    "    print(group.head())\n",
    "    print('='*30)"
   ]
  },
  {
   "cell_type": "code",
   "execution_count": 236,
   "id": "f21f5ba4-cc79-4e80-b8c3-be8a4d366a5a",
   "metadata": {},
   "outputs": [
    {
     "name": "stdout",
     "output_type": "stream",
     "text": [
      "       A    B         C         D\n",
      "0   chol  one  0.090459  0.613204\n",
      "1  young  one  0.300700 -0.495618\n",
      "3  young  one  0.828681 -0.389646\n",
      "6   chol  one  0.547586  1.019615\n"
     ]
    }
   ],
   "source": [
    "# 특정 그룹만 가져올 수 있다\n",
    "one_group = grouped.get_group('one')\n",
    "print(one_group.head())"
   ]
  },
  {
   "cell_type": "markdown",
   "id": "b32f6e18-492d-4774-8d3e-5eee7d290251",
   "metadata": {},
   "source": [
    "## 그룹 연산\n",
    "- 그룹별 통계치 구하기\n",
    "    - df.groupby(컬럼명)[집계 대상 컬럼 목록].통계함수()\n",
    "    >- 집계 대상 컬럼에 대해 그룹별 통계치를 구함\n",
    "    >- 통계함수에는 sum,mean,std,var,min,max,count,quantile 등이 있다"
   ]
  },
  {
   "cell_type": "code",
   "execution_count": 238,
   "id": "3a3aba72-06b1-4576-8ae3-bee31595348b",
   "metadata": {},
   "outputs": [
    {
     "name": "stdout",
     "output_type": "stream",
     "text": [
      "            C         D\n",
      "B                      \n",
      "one  1.767427  0.747555\n",
      "two  0.787168  0.645960\n"
     ]
    }
   ],
   "source": [
    "print(df.groupby('B')[['C','D']].sum())"
   ]
  },
  {
   "cell_type": "code",
   "execution_count": 239,
   "id": "513e0121-cd70-4c6e-8da0-99dde7407c6b",
   "metadata": {},
   "outputs": [
    {
     "name": "stdout",
     "output_type": "stream",
     "text": [
      "       부서  순위    연도  매출액\n",
      "0    영업1팀   1  2014  876\n",
      "1   해외영업팀   2  2014  789\n",
      "2    영업2팀   3  2014  788\n",
      "3    영업1팀   3  2015  788\n",
      "4    영업2팀   1  2015  980\n",
      "5   해외영업팀   2  2015  877\n",
      "6   해외영업팀   3  2017  657\n",
      "7    영업1팀   1  2017  910\n",
      "8    영업2팀   2  2017  755\n",
      "9   해외영업팀   1  2018  987\n",
      "10   영업1팀   2  2018  760\n",
      "11   영업2팀   3  2018  670\n"
     ]
    }
   ],
   "source": [
    "data = pd.read_csv('./sales.csv')\n",
    "print(data)"
   ]
  },
  {
   "cell_type": "code",
   "execution_count": 241,
   "id": "3f282c3f-03dd-4140-a2cb-7da2b206c4ed",
   "metadata": {},
   "outputs": [
    {
     "name": "stdout",
     "output_type": "stream",
     "text": [
      "부서\n",
      "영업1팀     3334\n",
      "영업2팀     3193\n",
      "해외영업팀    3310\n",
      "Name: 매출액, dtype: int64\n"
     ]
    }
   ],
   "source": [
    "# 부서별 매출액 합계\n",
    "print(data.groupby('부서')['매출액'].sum())"
   ]
  },
  {
   "cell_type": "code",
   "execution_count": 245,
   "id": "75534b6e-9f72-434d-8cda-db739cc79001",
   "metadata": {},
   "outputs": [
    {
     "data": {
      "text/html": [
       "<div>\n",
       "<style scoped>\n",
       "    .dataframe tbody tr th:only-of-type {\n",
       "        vertical-align: middle;\n",
       "    }\n",
       "\n",
       "    .dataframe tbody tr th {\n",
       "        vertical-align: top;\n",
       "    }\n",
       "\n",
       "    .dataframe thead th {\n",
       "        text-align: right;\n",
       "    }\n",
       "</style>\n",
       "<table border=\"1\" class=\"dataframe\">\n",
       "  <thead>\n",
       "    <tr style=\"text-align: right;\">\n",
       "      <th></th>\n",
       "      <th></th>\n",
       "      <th>매출액</th>\n",
       "    </tr>\n",
       "    <tr>\n",
       "      <th>부서</th>\n",
       "      <th>연도</th>\n",
       "      <th></th>\n",
       "    </tr>\n",
       "  </thead>\n",
       "  <tbody>\n",
       "    <tr>\n",
       "      <th rowspan=\"4\" valign=\"top\">영업1팀</th>\n",
       "      <th>2014</th>\n",
       "      <td>876</td>\n",
       "    </tr>\n",
       "    <tr>\n",
       "      <th>2015</th>\n",
       "      <td>788</td>\n",
       "    </tr>\n",
       "    <tr>\n",
       "      <th>2017</th>\n",
       "      <td>910</td>\n",
       "    </tr>\n",
       "    <tr>\n",
       "      <th>2018</th>\n",
       "      <td>760</td>\n",
       "    </tr>\n",
       "    <tr>\n",
       "      <th rowspan=\"4\" valign=\"top\">영업2팀</th>\n",
       "      <th>2014</th>\n",
       "      <td>788</td>\n",
       "    </tr>\n",
       "    <tr>\n",
       "      <th>2015</th>\n",
       "      <td>980</td>\n",
       "    </tr>\n",
       "    <tr>\n",
       "      <th>2017</th>\n",
       "      <td>755</td>\n",
       "    </tr>\n",
       "    <tr>\n",
       "      <th>2018</th>\n",
       "      <td>670</td>\n",
       "    </tr>\n",
       "    <tr>\n",
       "      <th rowspan=\"4\" valign=\"top\">해외영업팀</th>\n",
       "      <th>2014</th>\n",
       "      <td>789</td>\n",
       "    </tr>\n",
       "    <tr>\n",
       "      <th>2015</th>\n",
       "      <td>877</td>\n",
       "    </tr>\n",
       "    <tr>\n",
       "      <th>2017</th>\n",
       "      <td>657</td>\n",
       "    </tr>\n",
       "    <tr>\n",
       "      <th>2018</th>\n",
       "      <td>987</td>\n",
       "    </tr>\n",
       "  </tbody>\n",
       "</table>\n",
       "</div>"
      ],
      "text/plain": [
       "            매출액\n",
       "부서    연도       \n",
       "영업1팀  2014  876\n",
       "      2015  788\n",
       "      2017  910\n",
       "      2018  760\n",
       "영업2팀  2014  788\n",
       "      2015  980\n",
       "      2017  755\n",
       "      2018  670\n",
       "해외영업팀 2014  789\n",
       "      2015  877\n",
       "      2017  657\n",
       "      2018  987"
      ]
     },
     "metadata": {},
     "output_type": "display_data"
    }
   ],
   "source": [
    "multi=data.groupby(['부서','연도'])[['매출액']].sum()\n",
    "display(multi)"
   ]
  },
  {
   "cell_type": "markdown",
   "id": "8dba242c-8d08-47b5-b98d-0a96be22615c",
   "metadata": {},
   "source": [
    "## agg() 함수\n",
    "- 집계 연산을 처리하는 (사용자 정의)함수를 그룹 객체에 적용\n",
    "- df.groupby(컬럼명)[컬럼명].agg([집계함수],[집계함수2]...])"
   ]
  },
  {
   "cell_type": "code",
   "execution_count": 246,
   "id": "5cdb6fa8-dceb-461a-adcc-c944b87ad787",
   "metadata": {},
   "outputs": [
    {
     "name": "stdout",
     "output_type": "stream",
     "text": [
      "부서 영업1팀\n",
      "      부서  순위    연도  매출액\n",
      "0   영업1팀   1  2014  876\n",
      "3   영업1팀   3  2015  788\n",
      "7   영업1팀   1  2017  910\n",
      "10  영업1팀   2  2018  760\n",
      "----------------------------------------\n",
      "부서 영업2팀\n",
      "      부서  순위    연도  매출액\n",
      "2   영업2팀   3  2014  788\n",
      "4   영업2팀   1  2015  980\n",
      "8   영업2팀   2  2017  755\n",
      "11  영업2팀   3  2018  670\n",
      "----------------------------------------\n",
      "부서 해외영업팀\n",
      "      부서  순위    연도  매출액\n",
      "1  해외영업팀   2  2014  789\n",
      "5  해외영업팀   2  2015  877\n",
      "6  해외영업팀   3  2017  657\n",
      "9  해외영업팀   1  2018  987\n",
      "----------------------------------------\n"
     ]
    }
   ],
   "source": [
    "grouped = data.groupby('부서')\n",
    "for name, group in grouped:\n",
    "    print('부서',name)\n",
    "    print(group)\n",
    "    print('-'*40)"
   ]
  },
  {
   "cell_type": "code",
   "execution_count": 247,
   "id": "bcb6930c-c59c-4177-b063-33bb00f6d43d",
   "metadata": {},
   "outputs": [
    {
     "name": "stdout",
     "output_type": "stream",
     "text": [
      "부서\n",
      "영업1팀     150\n",
      "영업2팀     310\n",
      "해외영업팀    330\n",
      "Name: 매출액, dtype: int64\n"
     ]
    }
   ],
   "source": [
    "# 부서별 최대 매출액과 최소 매출액의 차이 계산 함수\n",
    "def min_max(x):\n",
    "    return x.max()-x.min()\n",
    "\n",
    "agg_minmax = grouped['매출액'].agg(min_max)\n",
    "print(agg_minmax)"
   ]
  },
  {
   "cell_type": "code",
   "execution_count": 251,
   "id": "4770119a-a867-4400-b89b-fe5025489d74",
   "metadata": {},
   "outputs": [
    {
     "data": {
      "text/plain": [
       "mean    827.5\n",
       "Name: 매출액, dtype: float64"
      ]
     },
     "metadata": {},
     "output_type": "display_data"
    }
   ],
   "source": [
    "# 해외영업 부서의 평균 매출액\n",
    "oversea = grouped.get_group('해외영업팀')['매출액'].agg(['mean'])\n",
    "display(oversea)"
   ]
  },
  {
   "cell_type": "code",
   "execution_count": 253,
   "id": "b07e9721-e395-439a-9a35-8bc21a5a029c",
   "metadata": {},
   "outputs": [
    {
     "name": "stdout",
     "output_type": "stream",
     "text": [
      "        sum    mean  max  min\n",
      "부서                           \n",
      "영업1팀   3334  833.50  910  760\n",
      "영업2팀   3193  798.25  980  670\n",
      "해외영업팀  3310  827.50  987  657\n"
     ]
    }
   ],
   "source": [
    "print(grouped['매출액'].agg(['sum','mean','max','min']))"
   ]
  }
 ],
 "metadata": {
  "kernelspec": {
   "display_name": "Python 3 (ipykernel)",
   "language": "python",
   "name": "python3"
  },
  "language_info": {
   "codemirror_mode": {
    "name": "ipython",
    "version": 3
   },
   "file_extension": ".py",
   "mimetype": "text/x-python",
   "name": "python",
   "nbconvert_exporter": "python",
   "pygments_lexer": "ipython3",
   "version": "3.11.7"
  }
 },
 "nbformat": 4,
 "nbformat_minor": 5
}
