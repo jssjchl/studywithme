{
 "cells": [
  {
   "cell_type": "markdown",
   "id": "0e073167-ef8f-4857-aeb0-0ef93e8f9787",
   "metadata": {},
   "source": [
    "# 넘파이 개요"
   ]
  },
  {
   "cell_type": "markdown",
   "id": "3f1485f2-dd17-4d7b-8b0f-90d9c10d0403",
   "metadata": {},
   "source": [
    "- numerical python의 약자\n",
    "- 고성능의 수치 해석용 python의 라이브러리\n",
    "- Numpy는 고성능 다차원 배열과 이런 배열을 처리하는 다양한 함수와 툴을 제공한다\n",
    "- Matrix(행렬)와 Vector와 같은 연산에 최적화 되어 있다\n",
    "- 공식 사이트는 https://www.numpy.org"
   ]
  },
  {
   "cell_type": "markdown",
   "id": "2181c946-b2fd-4dec-87dd-f2a9d064efbb",
   "metadata": {},
   "source": [
    "# python 다차원 배열의 이해"
   ]
  },
  {
   "cell_type": "markdown",
   "id": "ab8cbfd0-1cd2-4639-95b2-57bdd6d2e3ee",
   "metadata": {},
   "source": [
    "## 숫자 자료형"
   ]
  },
  {
   "cell_type": "code",
   "execution_count": 2,
   "id": "3717a84b-0429-4d5c-806d-d416ba5a1902",
   "metadata": {},
   "outputs": [
    {
     "name": "stdout",
     "output_type": "stream",
     "text": [
      "수학점수 합:66\n",
      "수학점수 평균:22.0\n"
     ]
    }
   ],
   "source": [
    "# 3명의 학생의 수학과목 점수 설정\n",
    "\n",
    "math1 = 11\n",
    "math2 = 22\n",
    "math3 = 33\n",
    "\n",
    "# 합과 평균 구하기\n",
    "total = math1 + math2 + math3\n",
    "average = total / 3\n",
    "print(f'수학점수 합:{total}')\n",
    "print(f'수학점수 평균:{average}')"
   ]
  },
  {
   "cell_type": "markdown",
   "id": "d7ca52f5-0667-49e1-963d-c1f52a264e03",
   "metadata": {},
   "source": [
    "## 리스트 자료형"
   ]
  },
  {
   "cell_type": "code",
   "execution_count": 5,
   "id": "c1110d89-0b31-4f5f-bb3e-174827b3008b",
   "metadata": {},
   "outputs": [
    {
     "name": "stdout",
     "output_type": "stream",
     "text": [
      "수학점수 합:110\n",
      "수학점수 평균:27.5\n"
     ]
    }
   ],
   "source": [
    "#math_list = [11,22,33]\n",
    "\n",
    "total = 0\n",
    "for math in math_list:\n",
    "    total += math\n",
    "average = total / len(math_list)\n",
    "\n",
    "print(f'수학점수 합:{total}')\n",
    "print(f'수학점수 평균:{average}')"
   ]
  },
  {
   "cell_type": "code",
   "execution_count": 4,
   "id": "bb20e1a6-0860-4e9e-9430-247288638312",
   "metadata": {},
   "outputs": [],
   "source": [
    "math_list.append(44)"
   ]
  },
  {
   "cell_type": "markdown",
   "id": "5fd12c7b-97d1-4031-a86b-307ef8fe4f9d",
   "metadata": {},
   "source": [
    "- 시험 문제에 오류가 발생해 모든 학생의 점수를 1점씩 올려줘야 하는 상황"
   ]
  },
  {
   "cell_type": "code",
   "execution_count": 6,
   "id": "3fa1d081-d26c-4eda-ba6f-8730270e799c",
   "metadata": {},
   "outputs": [
    {
     "name": "stdout",
     "output_type": "stream",
     "text": [
      "[12, 23, 34, 45]\n"
     ]
    }
   ],
   "source": [
    "math_list2 = []\n",
    "for math in math_list:\n",
    "    math_list2.append(math+1)\n",
    "print(math_list2)"
   ]
  },
  {
   "cell_type": "markdown",
   "id": "b1cb4e0a-ec22-447e-b7b7-f725142a73f9",
   "metadata": {},
   "source": [
    "- 여기서 구조를 확장해서\n",
    "- 1반의 점수가 11, 12, 13\n",
    "- 2반의 점수가 21, 22, 23\n",
    "- 3반의 점수가 31, 32, 33\n",
    "- 이러한 구조로 바뀌면 중첩 리스트로 변경해야 하고, 합과 평균을 구하는 로직도 변경이 돼야 한다"
   ]
  },
  {
   "cell_type": "markdown",
   "id": "519c8205-ff9a-40e7-be49-842375b6636d",
   "metadata": {},
   "source": [
    "## numpy로 구현한 다차원 배열"
   ]
  },
  {
   "cell_type": "markdown",
   "id": "644f67d8-43fc-406b-8850-0d0190c53f47",
   "metadata": {},
   "source": [
    "- numpy를 이용하면 중첩된 자료를 효율적으로 다룰 수 있다.\n",
    "- 'import numpy as np' 형태로 사용하는게 일반적이다."
   ]
  },
  {
   "cell_type": "code",
   "execution_count": 7,
   "id": "6648617e-6ad0-460d-845c-6b779d275421",
   "metadata": {},
   "outputs": [
    {
     "name": "stdout",
     "output_type": "stream",
     "text": [
      "[[11 12 13]\n",
      " [21 22 23]\n",
      " [31 32 33]]\n",
      "<class 'numpy.ndarray'>\n"
     ]
    }
   ],
   "source": [
    "import numpy as np\n",
    "\n",
    "math_ndarray = np.array([[11,12,13],[21,22,23],[31,32,33]])\n",
    "print(math_ndarray)\n",
    "print(type(math_ndarray))"
   ]
  },
  {
   "cell_type": "code",
   "execution_count": 8,
   "id": "143dd323-038c-42c8-90f1-04dc3444d4b6",
   "metadata": {},
   "outputs": [
    {
     "name": "stdout",
     "output_type": "stream",
     "text": [
      "[[12 13 14]\n",
      " [22 23 24]\n",
      " [32 33 34]]\n"
     ]
    }
   ],
   "source": [
    "# 각 원소에 1을 더하려면...\n",
    "new_ndarray = math_ndarray + 1\n",
    "print(new_ndarray)"
   ]
  },
  {
   "cell_type": "code",
   "execution_count": 9,
   "id": "4197de03-06ff-445a-92c3-7735678f8956",
   "metadata": {},
   "outputs": [
    {
     "name": "stdout",
     "output_type": "stream",
     "text": [
      "합: 207\n",
      "평균: 23.0\n"
     ]
    }
   ],
   "source": [
    "print('합:',np.sum(new_ndarray))\n",
    "print('평균:',np.mean(new_ndarray))"
   ]
  },
  {
   "cell_type": "code",
   "execution_count": 13,
   "id": "6cda5169-b05a-4c4a-99e3-611693dfd49b",
   "metadata": {},
   "outputs": [
    {
     "name": "stdout",
     "output_type": "stream",
     "text": [
      "반별 평균 [13. 23. 33.]\n"
     ]
    }
   ],
   "source": [
    "# 각 반의 평균 (행 평균)\n",
    "print('반별 평균',np.mean(new_ndarray,axis=1))"
   ]
  },
  {
   "cell_type": "markdown",
   "id": "08730029-e4ad-4937-84c5-fb26ff98b12e",
   "metadata": {},
   "source": [
    "# numpy의 axis(축) 정리"
   ]
  },
  {
   "cell_type": "markdown",
   "id": "80a18712-a950-4731-817c-a26ddd58c700",
   "metadata": {},
   "source": [
    "- 행렬의 모양을 다음과 같이 확인할 수 있다\n",
    "      - ndarray 객체, shape\n",
    "      - 1차원 벡터: (원소갯수,)\n",
    "      - 2차원 행렬: (행, 열)\n",
    "      - 3차원 행렬:(깊이, 행, 열)\n",
    "      - shape의 결과 값을 기준으로 axis 값이 0부터 부여된다\n",
    "      - 2차원인 경우 axis = 0의 값은 행을 의미 / axis = 1의 은 열을 나타낸다\n",
    "      - 3차원인 경우 axis = 0 -> 깊이 / axis = 1 -> 행 / axis=2 ->열을 나타낸다\n",
    "\n",
    "\n",
    "\n",
    "\n",
    "-2차원 행렬의 축\n",
    "\n",
    "![2dims](2dims.png)\n",
    "    \n",
    "    - axis를 0 또는 -2로 하면 **행, 축을 기준으로 ** 계산 하라는 의미로 각 행에 있는 열의 값을 계산해 하나의 값으로 만든다\n",
    "    - axis를 1 또는 -1로 하면 ** 열, 축을 기준으로 ** 계산 하라는 의미로 각 열에 있는 행의 값을 계산해 하나의 값으로 만든다\n",
    "\n",
    "-3차원 행렬의 축\n",
    "\n",
    "![3dims](3dims.png)\n",
    "    - axis를 0 또는 -3으로 하면 ** 깊이를 기준으로 ** 계산 하라는 의미로 서로 마주하는 요소끼리의 값을 계산해 하나의 값으로 만든다\n",
    "    - axis를 1 또는 -2로 하면 ** 행 축을 기준으로 ** 계산하라는 의미로 각 행에 있는 열의 값을 계산해 하나의 값으로 만든다\n",
    "    - axis를 2또는 -2로 하면 ** 열 축을 기준으로** 계산하라는 의미로 각 열에 있는 행의 값을 계산해 하나의 값으로 만든다\n"
   ]
  },
  {
   "cell_type": "code",
   "execution_count": 31,
   "id": "b6ad85f8-7dd9-4776-99f7-c1b134d53b41",
   "metadata": {},
   "outputs": [
    {
     "name": "stdout",
     "output_type": "stream",
     "text": [
      "[[1 2]\n",
      " [3 4]]\n",
      "(2, 2)\n",
      "------------------------------\n",
      "[[[ 1  2  3]\n",
      "  [ 4  5  6]]\n",
      "\n",
      " [[ 7  8  9]\n",
      "  [10 11 12]]]\n",
      "(2, 2, 3)\n"
     ]
    }
   ],
   "source": [
    "import numpy as np\n",
    "\n",
    "array1 = np.array([[1,2],[3,4]])\n",
    "print(array1)\n",
    "print(array1.shape)\n",
    "print('-'*30)\n",
    "\n",
    "array2 = np.array([[[1,2,3], \n",
    "                   [4,5,6]],\n",
    "                   \n",
    "                   [[7,8,9],\n",
    "                   [10, 11, 12]]])\n",
    "\n",
    "print(array2)\n",
    "print(array2.shape)"
   ]
  },
  {
   "cell_type": "code",
   "execution_count": 32,
   "id": "1670e4d0-1a4a-44cf-9027-fa09f873cd3a",
   "metadata": {},
   "outputs": [
    {
     "name": "stdout",
     "output_type": "stream",
     "text": [
      "2차원 배열의 axis 0기준 합: [4 6]\n",
      "2차원 배열의 axis 1기준 합: [3 7]\n",
      "------------------------------\n",
      "3차원 배열의 axis 0기준 합:\n",
      "[[ 8 10 12]\n",
      " [14 16 18]]\n",
      "3차원 배열의 axis 1기준 합:\n",
      "[[ 5  7  9]\n",
      " [17 19 21]]\n",
      "3차원 배열의 axis 2기준 합:\n",
      "[[ 6 15]\n",
      " [24 33]]\n"
     ]
    }
   ],
   "source": [
    "print('2차원 배열의 axis 0기준 합:', np.sum(array1, axis=0))\n",
    "print('2차원 배열의 axis 1기준 합:', np.sum(array1, axis=1))\n",
    "print('-'*30)\n",
    "print('3차원 배열의 axis 0기준 합:')\n",
    "print(np.sum(array2, axis=0))\n",
    "print('3차원 배열의 axis 1기준 합:')\n",
    "print(np.sum(array2, axis=1))\n",
    "print('3차원 배열의 axis 2기준 합:')\n",
    "print(np.sum(array2, axis=2))"
   ]
  },
  {
   "cell_type": "markdown",
   "id": "8bb3fa23-c838-4820-bb08-84e841e63460",
   "metadata": {},
   "source": [
    "# Numpy 특징"
   ]
  },
  {
   "cell_type": "markdown",
   "id": "c1af903d-368a-4159-aa32-039e06e11484",
   "metadata": {},
   "source": [
    "## Numpy의 ndarray가 빠른 이유\n",
    "- 동일한 연산일 경우 python에 비해 처리 속도가 빠름\n",
    "- ndarray는 타입을 명시해 원소의 배열로 데이터를 유지\n",
    "    - 다차원 데이터로 연속된 메모리 공간이 할당됨"
   ]
  },
  {
   "cell_type": "markdown",
   "id": "bd10c5f4-2e66-436d-abbe-5e1efde90591",
   "metadata": {},
   "source": [
    "## python의 list가 느린 이유\n",
    "- 파이썬의 list는 포인터(메모리 참조 값)의 배열로 데이터를 관리\n",
    "- 경우에 따라서 각각 객체가 메모리 여기저기 흩어져 있음\n",
    "      - 캐시(cathe) 활용이 어렵다\n",
    "  \n",
    "  ![nvsp](numpy_vs_python.png)"
   ]
  },
  {
   "cell_type": "code",
   "execution_count": 33,
   "id": "98bc563a-a931-4158-9131-a8209c0fed14",
   "metadata": {},
   "outputs": [],
   "source": [
    "ndarray = np.random.rand(1000,1000)\n",
    "python_list = ndarray.tolist() #ndarray를 리스트로 변환\n"
   ]
  },
  {
   "cell_type": "code",
   "execution_count": 34,
   "id": "8948c609-82fc-49c8-89b4-371a835196e5",
   "metadata": {},
   "outputs": [
    {
     "name": "stdout",
     "output_type": "stream",
     "text": [
      "python의 list를 사용해서 모든 원소에 1 더하기\n",
      "처리시간: 0.1824636459350586\n",
      "numpy의 ndarray를 사용해서 모든 원소에 1 더하기\n",
      "처리시간: 0.0\n"
     ]
    }
   ],
   "source": [
    "import time\n",
    "print('python의 list를 사용해서 모든 원소에 1 더하기')\n",
    "start = time.time()\n",
    "result_list = []\n",
    "for inner_list in python_list:\n",
    "    temp_list = []\n",
    "    for e in inner_list:\n",
    "        temp_list.append(e+1)\n",
    "    result_list.append(temp_list)\n",
    "end=time.time()\n",
    "print('처리시간:', (end - start))\n",
    "\n",
    "print('numpy의 ndarray를 사용해서 모든 원소에 1 더하기')\n",
    "start = time.time()\n",
    "ndarray = ndarray+1\n",
    "end = time.time()\n",
    "print('처리시간:', (end - start))"
   ]
  },
  {
   "cell_type": "markdown",
   "id": "d272f13f-d474-4527-ac2f-6297b17e257e",
   "metadata": {},
   "source": [
    "# 배열 생성 -1"
   ]
  },
  {
   "cell_type": "markdown",
   "id": "21f02a00-7940-4a6e-816b-00dc1785e1c7",
   "metadata": {},
   "source": [
    "## np.array() 이용한 생성\n",
    "- 가장 기본적인 방법\n",
    "- python의 list 또는 tuple로부터 배열을 생성한다\n",
    "- 다차원 배열의 모든 원소는 동일한 데이터 타입을 가져야 한다.\n",
    "- "
   ]
  },
  {
   "cell_type": "code",
   "execution_count": 35,
   "id": "8244737b-475b-4630-ad17-78324831003d",
   "metadata": {},
   "outputs": [
    {
     "name": "stdout",
     "output_type": "stream",
     "text": [
      "[0 1 2 3] <class 'numpy.ndarray'>\n"
     ]
    }
   ],
   "source": [
    "import numpy as np\n",
    "\n",
    "a = np.array([0,1,2,3,])\n",
    "print(a, type(a))"
   ]
  },
  {
   "cell_type": "markdown",
   "id": "044370f4-cf28-4b91-94c2-b731360f37e7",
   "metadata": {},
   "source": [
    "### 정수형\n",
    "- int64, int32, int8, unit64형이 있다"
   ]
  },
  {
   "cell_type": "code",
   "execution_count": 36,
   "id": "8508cad2-e172-4b77-ab6e-ae4b53a82aa6",
   "metadata": {},
   "outputs": [
    {
     "name": "stdout",
     "output_type": "stream",
     "text": [
      "int32\n"
     ]
    }
   ],
   "source": [
    "intArray=np.array([[1,2],[3,4]])\n",
    "print(intArray.dtype)"
   ]
  },
  {
   "cell_type": "markdown",
   "id": "d5026f25-9484-49dc-88a5-1605bc9982cc",
   "metadata": {},
   "source": [
    "### 실수형\n",
    "- float32, float64(default)"
   ]
  },
  {
   "cell_type": "code",
   "execution_count": 39,
   "id": "abde3116-e822-492f-a999-226513d7104b",
   "metadata": {},
   "outputs": [
    {
     "name": "stdout",
     "output_type": "stream",
     "text": [
      "float64\n"
     ]
    }
   ],
   "source": [
    "floatArray = np.array([[1,1,2.2],[3,3,4.4]])\n",
    "print(floatArray.dtype)"
   ]
  },
  {
   "cell_type": "markdown",
   "id": "ac0cba88-a810-4d7f-a89d-80bedfddc1ea",
   "metadata": {},
   "source": [
    "### 논리형"
   ]
  },
  {
   "cell_type": "code",
   "execution_count": 38,
   "id": "f6bb38da-64d1-4f91-92a1-b3a17ae837c9",
   "metadata": {},
   "outputs": [
    {
     "name": "stdout",
     "output_type": "stream",
     "text": [
      "bool\n"
     ]
    }
   ],
   "source": [
    "boolArray = np.array([True, False, False, True])\n",
    "print(boolArray.dtype)"
   ]
  },
  {
   "cell_type": "markdown",
   "id": "bd0d1311-d5ed-4b39-82c3-4bbe44d38052",
   "metadata": {},
   "source": [
    "### 형변환\n",
    "- dtype 속성의 값을 통해 데이터 타입을 지정된 타입으로 강제 변환이 가능하다."
   ]
  },
  {
   "cell_type": "code",
   "execution_count": 41,
   "id": "1194cf9a-e906-4d31-b04d-296e1969fe7c",
   "metadata": {},
   "outputs": [
    {
     "name": "stdout",
     "output_type": "stream",
     "text": [
      "['1' '2' '3' '4'] <U11\n"
     ]
    }
   ],
   "source": [
    "a = np.array(['1','2', 3, 4])\n",
    "print(a, a.dtype)"
   ]
  },
  {
   "cell_type": "markdown",
   "id": "2c4c8916-c1b9-418f-8fd8-44e0cd04e940",
   "metadata": {},
   "source": [
    "## np.arange()를 이용한 생성\n",
    "- 일련의 숫자를 만들기 위해 python의 range와 유사한 함수를 arange 함수를 제공한다."
   ]
  },
  {
   "cell_type": "code",
   "execution_count": 44,
   "id": "33611f11-267c-4d60-987c-22217b4f9497",
   "metadata": {},
   "outputs": [
    {
     "name": "stdout",
     "output_type": "stream",
     "text": [
      "[1 2 3 4 5 6 7 8 9]\n",
      "[10 15 20 25]\n"
     ]
    }
   ],
   "source": [
    "import numpy as np\n",
    "\n",
    "a = np.arange(1,10)\n",
    "print(a)\n",
    "\n",
    "b=np.arange(10, 30, 5)\n",
    "print(b)"
   ]
  },
  {
   "cell_type": "markdown",
   "id": "e2f26ce1-c882-4939-add0-703aec467baa",
   "metadata": {},
   "source": [
    "# Numpy 배열의 주요 속성\n",
    "- ndarray 객체의 주요 속성은 다음과 같다\n",
    "1. ndarray.shape\n",
    "      - numpy array의 구성(차원)을 튜플 타입으로 반환\n",
    "2. ndarray.dtype\n",
    "      - 배열 요소의 자료형을 반환\n",
    "3. ndarray.ndim\n",
    "      - dimenstion의 차수를 정수 값으로 반환\n",
    "4. ndarray.size\n",
    "      - 배열의 요소의 총 개수를 정수 값으로 반환\n",
    "5. ndarray.nbytes\n",
    "      - ndarray 객체의 메모리 크기 반환"
   ]
  },
  {
   "cell_type": "code",
   "execution_count": 5,
   "id": "f0874a69-36e5-460d-b658-a09aa86aab98",
   "metadata": {},
   "outputs": [
    {
     "name": "stdout",
     "output_type": "stream",
     "text": [
      "10\n",
      "int32\n",
      "()\n",
      "0\n",
      "()\n",
      "4\n"
     ]
    }
   ],
   "source": [
    "# 단일 값(스칼라)\n",
    "import numpy as np\n",
    "\n",
    "a = np.array(10)\n",
    "print(a)\n",
    "print(a.dtype)\n",
    "print(a.ndim)\n",
    "print(a.shape)\n",
    "print(a.shape)\n",
    "print(a.nbytes)\n"
   ]
  },
  {
   "cell_type": "code",
   "execution_count": 6,
   "id": "4db744f3-ce3f-4ce4-a09a-ec3b3c1c8b67",
   "metadata": {},
   "outputs": [
    {
     "name": "stdout",
     "output_type": "stream",
     "text": [
      "[1 2 3 4]\n",
      "int32\n",
      "1\n",
      "(4,)\n",
      "16\n",
      "4\n"
     ]
    }
   ],
   "source": [
    "# 1차원 배열\n",
    "a = np.array([1,2,3,4])\n",
    "print(a)\n",
    "print(a.dtype)\n",
    "print(a.ndim)\n",
    "print(a.shape)\n",
    "print(a.nbytes)\n",
    "print(a.size)"
   ]
  },
  {
   "cell_type": "code",
   "execution_count": 8,
   "id": "15430d72-f36a-4348-92bf-919235bdf016",
   "metadata": {},
   "outputs": [
    {
     "name": "stdout",
     "output_type": "stream",
     "text": [
      "[[1 2]\n",
      " [3 4]\n",
      " [5 6]]\n",
      "int32\n",
      "2\n",
      "(3, 2)\n",
      "24\n",
      "6\n",
      "3\n"
     ]
    }
   ],
   "source": [
    "# 2차원 배열\n",
    "a = np.array([[1,2],[3,4],[5,6]])\n",
    "print(a)\n",
    "print(a.dtype)\n",
    "print(a.ndim)\n",
    "print(a.shape)\n",
    "print(a.nbytes)\n",
    "print(a.size)\n",
    "print(len(a))"
   ]
  },
  {
   "cell_type": "code",
   "execution_count": 10,
   "id": "a99aa35f-6ad8-4566-89e1-17daa7827418",
   "metadata": {},
   "outputs": [
    {
     "name": "stdout",
     "output_type": "stream",
     "text": [
      "[[[ 1  2  3]\n",
      "  [ 4  5  6]\n",
      "  [ 7  8  9]\n",
      "  [10 11 12]]]\n",
      "int32\n",
      "3\n",
      "(1, 4, 3)\n",
      "48\n",
      "12\n",
      "1\n"
     ]
    }
   ],
   "source": [
    "# 3차원 배열: 2 X 2 X 3\n",
    "a = np.array([[[1,2,3],[4,5,6], [7,8,9],[10, 11, 12]]])\n",
    "print(a)\n",
    "print(a.dtype)\n",
    "print(a.ndim)\n",
    "print(a.shape)\n",
    "print(a.nbytes)\n",
    "print(a.size)\n",
    "print(len(a))"
   ]
  },
  {
   "cell_type": "markdown",
   "id": "8c36ca2b-3522-411d-8709-6d282a14e266",
   "metadata": {},
   "source": [
    "# 배열 생성 -2"
   ]
  },
  {
   "cell_type": "markdown",
   "id": "32db51e9-8b71-4aa3-b50b-485d8a7c0c2b",
   "metadata": {},
   "source": [
    "## np.zeros()\n",
    "- 모든 요소가 0으로 이루어진 지정한 크기의 새로운 배열을 생성"
   ]
  },
  {
   "cell_type": "code",
   "execution_count": 18,
   "id": "874a8101-cd23-4ed9-983c-eb14a2236b78",
   "metadata": {},
   "outputs": [
    {
     "name": "stdout",
     "output_type": "stream",
     "text": [
      "[0. 0. 0. 0.]\n",
      "[0 0 0 0]\n",
      "[[0. 0. 0.]\n",
      " [0. 0. 0.]\n",
      " [0. 0. 0.]]\n",
      "[[0 0 0]\n",
      " [0 0 0]\n",
      " [0 0 0]]\n"
     ]
    }
   ],
   "source": [
    "a = np.zeros(4)\n",
    "print(a)\n",
    "b=np.zeros(4, dtype='int32')\n",
    "print(b)\n",
    "c=np.zeros((3,3))\n",
    "print(c)\n",
    "\n",
    "A = np.array([[1,2,3],[4,5,6],[7,8,9]])\n",
    "d = np.zeros_like(A) #지정된 배열과 같은 모영의 0의 원소를 갖는 배열을 생성\n",
    "print(d)"
   ]
  },
  {
   "cell_type": "markdown",
   "id": "e7f01367-5ee4-4542-bdf3-54eb9bd604bb",
   "metadata": {},
   "source": [
    "## np.ones()\n",
    "- 모든 요소가 1으로 이루어진 지정한 크기의 새로운 배열을 생성"
   ]
  },
  {
   "cell_type": "code",
   "execution_count": 22,
   "id": "77e42c5f-8bdf-4d2e-a3e6-33026b114a47",
   "metadata": {},
   "outputs": [
    {
     "name": "stdout",
     "output_type": "stream",
     "text": [
      "[[1. 1. 1.]\n",
      " [1. 1. 1.]]\n",
      "[[1 1 1]\n",
      " [1 1 1]\n",
      " [1 1 1]]\n"
     ]
    }
   ],
   "source": [
    "print(np.ones((2,3)))\n",
    "A = np.array([[1,2,3],[4,5,6],[7,8,9]])\n",
    "d = np.ones_like(A) #지정된 배열과 같은 모영의 0의 원소를 갖는 배열을 생성\n",
    "print(d)"
   ]
  },
  {
   "cell_type": "markdown",
   "id": "2e5cd2c6-4a8b-4984-901c-39e7aaa9216a",
   "metadata": {},
   "source": [
    "## np.full()\n",
    "- 지정한 크기에 입력한 특정 값으로 원소를 전부 채운 배열을 생성한다"
   ]
  },
  {
   "cell_type": "code",
   "execution_count": 25,
   "id": "02f2a3c9-c285-4fd5-9c63-5fd52b10dade",
   "metadata": {},
   "outputs": [
    {
     "name": "stdout",
     "output_type": "stream",
     "text": [
      "[[10 10]\n",
      " [10 10]]\n",
      "[[0.3 0.3 0.3]\n",
      " [0.3 0.3 0.3]\n",
      " [0.3 0.3 0.3]]\n"
     ]
    }
   ],
   "source": [
    "print(np.full((2,2),10))\n",
    "A = np.array([[1,2,3],[4,5,6],[7,8,9]])\n",
    "d = np.full_like(A,0.3, dtype='float32') #지정된 배열과 같은 모영의 0의 원소를 갖는 배열을 생성\n",
    "print(d)"
   ]
  },
  {
   "cell_type": "markdown",
   "id": "57f0a1c3-d169-4c90-b563-340e6c8685c5",
   "metadata": {},
   "source": [
    "# 배열 생성 -3"
   ]
  },
  {
   "cell_type": "markdown",
   "id": "c9ab7f96-b6dd-402f-bfd3-d498640bb448",
   "metadata": {},
   "source": [
    "## np.linspace()\n",
    "- start부터 stop의 범위에서 num개를 균일한 간격으로 분할한 배열을 생성"
   ]
  },
  {
   "cell_type": "code",
   "execution_count": 26,
   "id": "94ef6af7-8639-4aa4-8607-9b749f2c4421",
   "metadata": {},
   "outputs": [
    {
     "name": "stdout",
     "output_type": "stream",
     "text": [
      "[0.   0.25 0.5  0.75 1.   1.25 1.5  1.75 2.  ]\n"
     ]
    }
   ],
   "source": [
    "print(np.linspace(0,2,9)) #0이상 2이하의 범위를 9개만큼 등분하여 요소를 생성"
   ]
  },
  {
   "cell_type": "code",
   "execution_count": 28,
   "id": "c3cf15af-3314-4b04-9b51-6d17cf2470ab",
   "metadata": {},
   "outputs": [
    {
     "data": {
      "image/png": "[encoded data removed]",
      "text/plain": [
       "<Figure size 640x480 with 1 Axes>"
      ]
     },
     "metadata": {},
     "output_type": "display_data"
    }
   ],
   "source": [
    "import matplotlib.pyplot as plt\n",
    "\n",
    "x = np.linspace(0,2*np.pi,100)\n",
    "y = np.sin(x)\n",
    "\n",
    "plt.plot(x,y)\n",
    "plt.show()"
   ]
  },
  {
   "cell_type": "markdown",
   "id": "271f59c2-ddc9-4493-8300-62991cf1acc0",
   "metadata": {},
   "source": [
    "## np.identity(), np.eye()\n",
    "- 지정한 크기의 정방 단위 행렬을 생성\n",
    "      - 정방행렬: 행과 열의 크기가 같은 정사각형 행렬\n",
    "      - 단위행렬: 주대각선의 원소가 모두 1이며, 나머지 원소는 모두 0인 행렬"
   ]
  },
  {
   "cell_type": "code",
   "execution_count": 33,
   "id": "db8b8d26-2f93-47a9-9f29-1a2b595ab9df",
   "metadata": {},
   "outputs": [
    {
     "name": "stdout",
     "output_type": "stream",
     "text": [
      "[[1 0]\n",
      " [0 1]]\n",
      "[[1. 0. 0.]\n",
      " [0. 1. 0.]\n",
      " [0. 0. 1.]]\n",
      "[[1. 0. 0. 0.]\n",
      " [0. 1. 0. 0.]\n",
      " [0. 0. 1. 0.]]\n",
      "[[0. 1. 0. 0.]\n",
      " [0. 0. 1. 0.]\n",
      " [0. 0. 0. 1.]]\n",
      "----------------------------------------\n",
      "[[0. 0. 0. 0.]\n",
      " [1. 0. 0. 0.]\n",
      " [0. 1. 0. 0.]]\n"
     ]
    }
   ],
   "source": [
    "print(np.identity(2, dtype='int32'))\n",
    "print(np.eye(3)) #eye 함수는 행과 열의 크기가 다른 단위 행렬도 만들 수 있다\n",
    "print(np.eye(3,4))\n",
    "print(np.eye(3,4,1))\n",
    "print('-'*40)\n",
    "# 3번째 값: 양수 값은 위쪽 대각선(열)을, 음수 값은 아래쪽 대각선(행)을 나타낸다.\n",
    "print(np.eye(3,4,-1))"
   ]
  },
  {
   "cell_type": "markdown",
   "id": "f5eb397c-093c-465c-9425-c42dbb231054",
   "metadata": {},
   "source": [
    "# 배열의 변경"
   ]
  },
  {
   "cell_type": "markdown",
   "id": "9ce598bd-9df4-4a46-8394-26ca8b6ba7c0",
   "metadata": {},
   "source": [
    "## np.reshape() / nd.array.reshape()\n",
    "- '원본을 변경하지 않고 모양이 변경된 새로운 배열을 반환'"
   ]
  },
  {
   "cell_type": "code",
   "execution_count": 44,
   "id": "045bcdfe-7e4b-4139-adbd-6943597ff28c",
   "metadata": {},
   "outputs": [
    {
     "name": "stdout",
     "output_type": "stream",
     "text": [
      "[0 1 2 3 4 5]\n",
      "[[0 1]\n",
      " [2 3]\n",
      " [4 5]]\n",
      "[0 1 2 3 4 5]\n",
      "----------------------------------------\n",
      "[[0 1]\n",
      " [2 3]\n",
      " [4 5]]\n",
      "----------------------------------------\n",
      "[[ 1  2  3  4  5]\n",
      " [ 6  7  8  9 10]]\n",
      "----------------------------------------\n",
      "[[[ 1]\n",
      "  [ 2]]\n",
      "\n",
      " [[ 3]\n",
      "  [ 4]]\n",
      "\n",
      " [[ 5]\n",
      "  [ 6]]\n",
      "\n",
      " [[ 7]\n",
      "  [ 8]]\n",
      "\n",
      " [[ 9]\n",
      "  [10]]]\n",
      "----------------------------------------\n",
      "[ 1  2  3  4  5  6  7  8  9 10]\n"
     ]
    }
   ],
   "source": [
    "a = np.arange(6)\n",
    "print(a)\n",
    "\n",
    "b=a.reshape((3,2)) #np.reshape(a,(3,2)와 동일하다)\n",
    "print(b) # 원본 배열은 모양이 변하지 않는다\n",
    "print(a)\n",
    "print('-'*40)\n",
    "# 열의 크기를 2로 맞추고 행의 크기는 전체 요소 개수에 맞춰 알아서 지정한다\n",
    "c = np.reshape(a, (-1,2))\n",
    "print(c)\n",
    "\n",
    "print('-'*40)\n",
    "\n",
    "d = np.arange(1,11).reshape(2,5)\n",
    "print(d)\n",
    "print('-'*40)\n",
    "e=d.reshape((-1,2,1))\n",
    "print(e)\n",
    "print('-'*40)\n",
    "f = e.reshape(-1) #-1의 의미는 행렬의 값이 없음으로 요소를 한 줄로 나타내게 된다\n",
    "print(f)"
   ]
  },
  {
   "cell_type": "markdown",
   "id": "40e67aac-8f9a-4e48-8c69-1d37c2d70c74",
   "metadata": {},
   "source": [
    "## ndarray.resize()\n",
    "- 원본 배열을 새로운 모양의 배열로 변경한다\n",
    "- 대상 배열의 요소가 원래 배열과 동일하지 않으면 크기를 강제로 조정한다"
   ]
  },
  {
   "cell_type": "code",
   "execution_count": 46,
   "id": "f2f3e041-976f-447d-9536-d85f069be5c8",
   "metadata": {},
   "outputs": [
    {
     "name": "stdout",
     "output_type": "stream",
     "text": [
      "[[ 0  1  2  3]\n",
      " [ 4  5  6  7]\n",
      " [ 8  9 10 11]]\n",
      "----------------------------------------\n",
      "[[ 0  1  2  3]\n",
      " [ 4  5  6  7]\n",
      " [ 8  9 10 11]\n",
      " [ 0  0  0  0]]\n"
     ]
    }
   ],
   "source": [
    "a = np.arange(12)\n",
    "a.resize(3,4)\n",
    "print(a)\n",
    "print('-'*40)\n",
    "a.resize(4,4) # 원본과 크기가 달라도 오류가 발생되지 않는다\n",
    "print(a)"
   ]
  },
  {
   "cell_type": "markdown",
   "id": "235a60f6-5055-4644-901d-389f2e47dfed",
   "metadata": {},
   "source": [
    "## ndarray.flatten() / ndarray.ravel()\n",
    "- 배열을 1차원으로 만든다\n",
    "- flatten(): 배열을 복사해서 1차원으로 변경하므로 **원본에 영향을 미치지 않는다 **\n",
    "- ravel(): 원본을 복사하지 않는다"
   ]
  },
  {
   "cell_type": "code",
   "execution_count": 48,
   "id": "e2c72932-9520-4279-b369-59eba15fd3a7",
   "metadata": {},
   "outputs": [
    {
     "name": "stdout",
     "output_type": "stream",
     "text": [
      "[[1 2]\n",
      " [3 4]]\n",
      "[1 2 3 4]\n"
     ]
    }
   ],
   "source": [
    "import numpy as np\n",
    "a = np.arange(1,5).reshape((2,2))\n",
    "print(a)\n",
    "\n",
    "print(a.flatten())"
   ]
  },
  {
   "cell_type": "code",
   "execution_count": 50,
   "id": "c0f243e7-d634-41a6-aff6-7aa52abb1b03",
   "metadata": {},
   "outputs": [
    {
     "name": "stdout",
     "output_type": "stream",
     "text": [
      "[1 2 3 4]\n",
      "[[10  2]\n",
      " [ 3  4]]\n"
     ]
    }
   ],
   "source": [
    "b=a.ravel()\n",
    "print(b)\n",
    "b[0] = 10\n",
    "print(a)"
   ]
  },
  {
   "cell_type": "markdown",
   "id": "0910b482-c9e9-4018-bcfc-43f562794cf1",
   "metadata": {},
   "source": [
    "## np.expand_dims()\n",
    "- 지정한 axis 위치에 새로운 차원을 추가한다"
   ]
  },
  {
   "cell_type": "code",
   "execution_count": 53,
   "id": "1ceb1bc1-5dd2-46c1-bfa7-0f1a9165e966",
   "metadata": {},
   "outputs": [
    {
     "name": "stdout",
     "output_type": "stream",
     "text": [
      "[1 2]\n",
      "(2,)\n",
      "[[1 2]]\n",
      "(1, 2)\n",
      "----------------------------------------\n",
      "[[1]\n",
      " [2]]\n",
      "(2, 1)\n"
     ]
    }
   ],
   "source": [
    "a = np.array((1,2))\n",
    "print(a)\n",
    "print(a.shape)\n",
    "b = np.expand_dims(a, axis =0)\n",
    "print(b)\n",
    "print(b.shape)\n",
    "print('-'*40)\n",
    "\n",
    "c = np.expand_dims(a, axis=1)\n",
    "print(c)\n",
    "print(c.shape)"
   ]
  },
  {
   "cell_type": "code",
   "execution_count": 59,
   "id": "9a7e6160-9f95-4a7b-bfc1-926aba23a25f",
   "metadata": {},
   "outputs": [
    {
     "name": "stdout",
     "output_type": "stream",
     "text": [
      "[[1 2 3]\n",
      " [4 5 6]]\n",
      "(2, 3)\n",
      "----------------------------------------\n",
      "[[[1 2 3]\n",
      "  [4 5 6]]]\n",
      "(1, 2, 3)\n",
      "----------------------------------------\n",
      "[[[1 2 3]]\n",
      "\n",
      " [[4 5 6]]]\n",
      "(2, 1, 3)\n",
      "[[[1]\n",
      "  [2]\n",
      "  [3]]\n",
      "\n",
      " [[4]\n",
      "  [5]\n",
      "  [6]]]\n",
      "(2, 3, 1)\n"
     ]
    }
   ],
   "source": [
    "a=np.arange(1,7).reshape(2,3)\n",
    "print(a)\n",
    "print(a.shape)\n",
    "print('-'*40)\n",
    "\n",
    "b=np.expand_dims(a, axis =0)\n",
    "print(b)\n",
    "print(b.shape)\n",
    "print('-'*40)\n",
    "\n",
    "c = np.expand_dims(a, axis =1)\n",
    "print(c)\n",
    "print(c.shape)\n",
    "\n",
    "d = np.expand_dims(a, axis = 2)\n",
    "print(d)\n",
    "print(d.shape)"
   ]
  },
  {
   "cell_type": "markdown",
   "id": "839aab39-b2d5-4513-b519-131b064aed6f",
   "metadata": {},
   "source": [
    "-np.newaxis를 이용해서 차원을 늘릴 수도 있다"
   ]
  },
  {
   "cell_type": "code",
   "execution_count": 61,
   "id": "fe389346-6096-4f3f-a9a1-d62cb5c81410",
   "metadata": {},
   "outputs": [
    {
     "name": "stdout",
     "output_type": "stream",
     "text": [
      "[1]\n",
      "[[0]\n",
      " [1]\n",
      " [2]\n",
      " [3]]\n"
     ]
    }
   ],
   "source": [
    "a = np.arange(4)\n",
    "\n",
    "row_vect = a[np.newaxis, 1] # 새로운 행 축 추가\n",
    "print(row_vect)\n",
    "\n",
    "col_vect =a[:, np.newaxis] # 새로운 열 축 추가\n",
    "print(col_vect)"
   ]
  },
  {
   "cell_type": "markdown",
   "id": "1d71b5a9-9d19-4c33-b011-d9f72ff1a8ec",
   "metadata": {},
   "source": [
    "## np.astype() / ndarray.astype()\n",
    "- 배열의 타입을 변경"
   ]
  },
  {
   "cell_type": "code",
   "execution_count": 62,
   "id": "7bdb8df0-6fa1-404e-9506-16caa9f81765",
   "metadata": {},
   "outputs": [
    {
     "name": "stdout",
     "output_type": "stream",
     "text": [
      "[1 2 3]\n",
      "int32\n",
      "[1. 2. 3.]\n",
      "float32\n"
     ]
    }
   ],
   "source": [
    "a = np.arange(1,4)\n",
    "print(a)\n",
    "print(a.dtype)\n",
    "\n",
    "a_float = a.astype('float32') # a.astype(np.float32) 동일\n",
    "print(a_float)\n",
    "print(a_float.dtype)"
   ]
  },
  {
   "cell_type": "markdown",
   "id": "85acc811-d12c-4b17-bb53-cccf009a1d9b",
   "metadata": {},
   "source": [
    "## np.squeeze()\n",
    "- 차원 축소"
   ]
  },
  {
   "cell_type": "code",
   "execution_count": 65,
   "id": "741e644f-4a3f-40a8-b22f-2e492fc12c47",
   "metadata": {},
   "outputs": [
    {
     "name": "stdout",
     "output_type": "stream",
     "text": [
      "[[[1]\n",
      "  [2]\n",
      "  [3]]]\n",
      "(1, 3, 1)\n",
      "----------------------------------------\n",
      "[1 2 3]\n",
      "(3,)\n",
      "----------------------------------------\n",
      "0\n",
      "()\n"
     ]
    }
   ],
   "source": [
    "a = np.arange(1,4).reshape(1,3,1)\n",
    "print(a)\n",
    "print(a.shape)\n",
    "print('-'*40)\n",
    "\n",
    "b=np.squeeze(a) #축 ㅇ보션을 지정하지 않으면 1차원으로 변경\n",
    "print(b)\n",
    "print(b.shape)\n",
    "print('-'*40)\n",
    "\n",
    "c = np.squeeze(0, axis=0)\n",
    "print(c)\n",
    "print(c.shape)\n",
    "print('-'*40)\n",
    "\n",
    "# 원본의 원소 개수와 일치되지 않아 ValueError를 발생\n",
    "#d = np.squeeze(a, axis = 1)"
   ]
  },
  {
   "cell_type": "markdown",
   "id": "2721d7f6-d3bc-4245-bca9-d90e263846cb",
   "metadata": {},
   "source": [
    "## np.concatenate()\n",
    "- 두 개 이상의 배열을 연결한다\n",
    "- 배열을 연결하려면 차원 수가 같아야 한다\n",
    "- axis 인수를 설정해 연결 방향을 정할 수 있다"
   ]
  },
  {
   "cell_type": "code",
   "execution_count": 69,
   "id": "03866861-f088-49a6-a80c-7c62a27963f6",
   "metadata": {},
   "outputs": [
    {
     "name": "stdout",
     "output_type": "stream",
     "text": [
      "[[1 2]\n",
      " [3 4]]\n",
      "[5 6]\n",
      "[[1 2]\n",
      " [3 4]\n",
      " [5 6]]\n"
     ]
    }
   ],
   "source": [
    "a = np.arange(1,5).reshape((2,2))\n",
    "print(a)\n",
    "b=np.array([5,6])\n",
    "print(b)\n",
    "\n",
    "#c=np.concatenate((a,b)) # 차원 수가 다르기 떄문에 에러\n",
    "c = np.concatenate((a, np.expand_dims(b, axis = 0)))\n",
    "print(c)"
   ]
  },
  {
   "cell_type": "code",
   "execution_count": 71,
   "id": "121bea80-9e0d-4b9e-a65b-b0bc1c14cb37",
   "metadata": {},
   "outputs": [
    {
     "name": "stdout",
     "output_type": "stream",
     "text": [
      "[[1 2 1 3 5]\n",
      " [3 4 2 4 6]]\n"
     ]
    }
   ],
   "source": [
    "e = np.concatenate((a, c.T), axis=1)\n",
    "print(e)\n"
   ]
  },
  {
   "cell_type": "markdown",
   "id": "b649c535-2827-4a19-b5bf-f57bf3e24cf7",
   "metadata": {},
   "source": [
    "# 기본 연산\n",
    "- 배열에 대한 산술 연산자는 **요소별(element-wise)**로 적용된다\n"
   ]
  },
  {
   "cell_type": "markdown",
   "id": "4c5973b8-e8e7-4a84-b1f8-6f20b62baa13",
   "metadata": {},
   "source": [
    "## 산술 연산"
   ]
  },
  {
   "cell_type": "code",
   "execution_count": 80,
   "id": "38768fb1-9d26-42b7-b689-6f1367314246",
   "metadata": {},
   "outputs": [
    {
     "name": "stdout",
     "output_type": "stream",
     "text": [
      "5.0\n",
      "----------------------------------------\n",
      "----------------------------------------\n",
      "[[0. 1. 2.]\n",
      " [3. 4. 5.]\n",
      " [6. 7. 8.]]\n",
      "----------------------------------------\n",
      "[0. 1. 2.]\n",
      "----------------------------------------\n",
      "[[ 0.  2.  4.]\n",
      " [ 3.  5.  7.]\n",
      " [ 6.  8. 10.]]\n",
      "----------------------------------------\n",
      "[[0. 0. 0.]\n",
      " [3. 3. 3.]\n",
      " [6. 6. 6.]]\n",
      "----------------------------------------\n",
      "[[ 0.  1.  4.]\n",
      " [ 0.  4. 10.]\n",
      " [ 0.  7. 16.]]\n",
      "----------------------------------------\n",
      "[[0.   0.25 0.5 ]\n",
      " [0.75 1.   1.25]\n",
      " [1.5  1.75 2.  ]]\n"
     ]
    }
   ],
   "source": [
    "import numpy as np\n",
    "\n",
    "# 덧셈\n",
    "a= np.add(1.0, 4.0)\n",
    "print(a)\n",
    "print('-'*40)\n",
    "a=np.arange(9.0).reshape((3,3))\n",
    "b= np.arange(3.0)\n",
    "print('-'*40)\n",
    "print(a)\n",
    "print('-'*40)\n",
    "print(b)\n",
    "print('-'*40)\n",
    "\n",
    "print(np.add(a,b))\n",
    "print('-'*40)\n",
    "# 뺄셈\n",
    "print(np.subtract(a,b))\n",
    "print('-'*40)\n",
    "# 곱셈\n",
    "print(np.multiply(a,b))\n",
    "print('-'*40)\n",
    "#나눗셈\n",
    "print(np.divide(a,4))"
   ]
  },
  {
   "cell_type": "markdown",
   "id": "d9591d82-697a-462d-a6b6-1b37e8add503",
   "metadata": {},
   "source": [
    "## 통계 연산\n",
    "- axis와 밀접한 관계가 있다\n",
    "- 축 값을 입력하지 않으면 모든 원소에 대한 연산 결과를 출력한다"
   ]
  },
  {
   "cell_type": "code",
   "execution_count": 84,
   "id": "69cbbd84-43a0-4d3d-a153-0a7a79dc8312",
   "metadata": {},
   "outputs": [
    {
     "name": "stdout",
     "output_type": "stream",
     "text": [
      "66\n",
      "[12 15 18 21]\n",
      "[ 6 22 38]\n",
      "[[ 0  1  3  6]\n",
      " [ 4  9 15 22]\n",
      " [ 8 17 27 38]]\n"
     ]
    }
   ],
   "source": [
    "a = np.arange(12).reshape((3,4))\n",
    "print(a.sum()) #np.sum(a)\n",
    "print(a.sum(axis=0)) # 각 열의 합\n",
    "print(a.sum(axis=1)) # 각 행의 합\n",
    "print(a.cumsum(axis = 1)) # 각 행의 누적 합"
   ]
  },
  {
   "cell_type": "markdown",
   "id": "7fa12179-8941-445d-976e-8541f57e79a0",
   "metadata": {},
   "source": [
    "### np.mean()\n",
    "- 축을 따라 산술 평균을 계산"
   ]
  },
  {
   "cell_type": "code",
   "execution_count": 86,
   "id": "f5f49fbf-fd59-46cb-93c8-ea6d8f6e8c5a",
   "metadata": {},
   "outputs": [
    {
     "name": "stdout",
     "output_type": "stream",
     "text": [
      "[[1 2 3]\n",
      " [4 5 6]\n",
      " [7 8 9]]\n",
      "[4. 5. 6.]\n",
      "[2. 5. 8.]\n",
      "5.0\n"
     ]
    }
   ],
   "source": [
    "a = np.arange(1,10).reshape((3,3))\n",
    "print(a)\n",
    "\n",
    "print(np.mean(a,0))\n",
    "print(np.mean(a,1))\n",
    "print(np.mean(a))"
   ]
  },
  {
   "cell_type": "markdown",
   "id": "9c0ac21a-8dd3-4e6d-9e8e-d27fecee96b8",
   "metadata": {},
   "source": [
    "### np.average()\n",
    "- 주어진 축에 따라 가중평균 계산\n",
    "- avg = sum(a * weight) / sum(weight)"
   ]
  },
  {
   "cell_type": "code",
   "execution_count": 91,
   "id": "bd438e77-5103-4910-b770-230d5ca7d46e",
   "metadata": {},
   "outputs": [
    {
     "name": "stdout",
     "output_type": "stream",
     "text": [
      "[[0 1]\n",
      " [2 3]\n",
      " [4 5]]\n",
      "[0.75 2.75 4.75]\n"
     ]
    }
   ],
   "source": [
    "a = np.arange(6).reshape((3,2))\n",
    "print(a)\n",
    "# 0.75 = sum\n",
    "print(np.average(a, axis=1, weights =[1/4, 3/4]))"
   ]
  },
  {
   "cell_type": "markdown",
   "id": "7af83093-ba56-46c7-b0e5-b0e3e4a752fc",
   "metadata": {},
   "source": [
    "### np.max() / np.min()\n",
    "- axis를 따른 배열의 최대 / 최소값 반환 "
   ]
  },
  {
   "cell_type": "markdown",
   "id": "8e26f484-ae6c-4407-95fa-004256ee2792",
   "metadata": {},
   "source": [
    "### np.median()\n",
    "- axis를 따른 배열의 중앙값 반환"
   ]
  },
  {
   "cell_type": "markdown",
   "id": "2c81bc1f-1fb3-4243-ba2f-2ad2838a4d43",
   "metadata": {},
   "source": [
    "### np,var() / np.std()\n",
    "- aixs를 따른 배열의 분산, 표준편차 반환"
   ]
  },
  {
   "cell_type": "markdown",
   "id": "6ea49bae-6c3a-457b-9e83-484774974e2b",
   "metadata": {},
   "source": [
    "### np.maximum()\n",
    "- 두 개의 배열을 가져와 요소별 최대값 반환"
   ]
  },
  {
   "cell_type": "code",
   "execution_count": 92,
   "id": "fe62bd59-505f-46f3-9cc1-bd6bb90b58bc",
   "metadata": {},
   "outputs": [
    {
     "name": "stdout",
     "output_type": "stream",
     "text": [
      "[4 6 9]\n"
     ]
    }
   ],
   "source": [
    "a = np.array([3,6,1])\n",
    "b = np.array([4,2,9])\n",
    "print(np.maximum(a,b))"
   ]
  },
  {
   "cell_type": "markdown",
   "id": "0798a494-4134-4c28-b4bc-a5b584f795fa",
   "metadata": {},
   "source": [
    "## 최소값, 최대값 아규먼트 위치\n",
    "- np.argmax():제일 큰 값 위치 정보\n",
    "- np.argmin(): 제일 작은 값 위치 정보\n",
    "- np.where(조건): 조건에 맞는 값 위치 정보\n",
    "- np.where(조건, 조건에 맞을 때 값, 조건과 다를 때 값)"
   ]
  },
  {
   "cell_type": "code",
   "execution_count": 1,
   "id": "650df19f-ea2c-410d-903c-5786e781c9f0",
   "metadata": {},
   "outputs": [
    {
     "name": "stdout",
     "output_type": "stream",
     "text": [
      "4\n"
     ]
    }
   ],
   "source": [
    "import numpy as np\n",
    "\n",
    "a=np.array([5,6,8,1,9,3,4,7])\n",
    "print(np.argmax(a))"
   ]
  },
  {
   "cell_type": "code",
   "execution_count": 3,
   "id": "237db3b9-d6c2-492c-b0a5-415f2b4d7643",
   "metadata": {},
   "outputs": [
    {
     "name": "stdout",
     "output_type": "stream",
     "text": [
      "(array([1, 2, 4, 7], dtype=int64),)\n",
      "[-1  1  1 -1  1 -1 -1  1]\n"
     ]
    }
   ],
   "source": [
    "print(np.where(a>5))\n",
    "print(np.where(a>5,1,-1))"
   ]
  },
  {
   "cell_type": "markdown",
   "id": "20113ad8-974d-40dd-b6d7-0a30a6178f13",
   "metadata": {},
   "source": [
    "## 비교연산\n",
    "- 연산자를 이용해 요소별 비교"
   ]
  },
  {
   "cell_type": "code",
   "execution_count": 4,
   "id": "7d612244-1d85-4257-8ef2-8b3d65355681",
   "metadata": {},
   "outputs": [
    {
     "name": "stdout",
     "output_type": "stream",
     "text": [
      "[ True  True  True]\n"
     ]
    }
   ],
   "source": [
    "a=np.array([1,2,3])\n",
    "b=np.array([1,2,3])\n",
    "c=np.array([3,2,5])\n",
    "\n",
    "print(a==b)"
   ]
  },
  {
   "cell_type": "code",
   "execution_count": 6,
   "id": "6d9231a6-0f46-40a6-9f65-e98a0193eccd",
   "metadata": {},
   "outputs": [
    {
     "name": "stdout",
     "output_type": "stream",
     "text": [
      "[[1 2 3]\n",
      " [4 5 6]\n",
      " [7 8 9]]\n",
      "[[False  True False]\n",
      " [ True False  True]\n",
      " [False  True False]]\n"
     ]
    }
   ],
   "source": [
    "a=np.arange(1,10).reshape((3,3))\n",
    "print(a)\n",
    "result =a%2 ==0\n",
    "print(result)"
   ]
  },
  {
   "cell_type": "markdown",
   "id": "7c261eb4-2540-43cc-ae1e-26364aef4086",
   "metadata": {},
   "source": [
    "### all(), any()를 이용한 비교\n",
    "- all(): 요소 전체가 같아야 하나의 트루\n",
    "- any(): 요서 중 하나만 같아도 TRUE"
   ]
  },
  {
   "cell_type": "code",
   "execution_count": 12,
   "id": "55b9e420-62e2-4d61-8c14-8aaaa2a0871d",
   "metadata": {},
   "outputs": [
    {
     "name": "stdout",
     "output_type": "stream",
     "text": [
      "True\n",
      "False\n"
     ]
    }
   ],
   "source": [
    "a=np.array([1,2,3])\n",
    "b=np.array([1,2,3])\n",
    "c=np.array([3,2,5])\n",
    "\n",
    "print(np.all(a=b))\n",
    "print(np.all(a==c))"
   ]
  },
  {
   "cell_type": "markdown",
   "id": "90cc6626-ef92-47dd-ba52-06c7ac19da2a",
   "metadata": {},
   "source": [
    "## 논리 연산\n",
    "- np.logical_end() , np.logical_or(), np.logical_not(), np.logical_xor()"
   ]
  },
  {
   "cell_type": "code",
   "execution_count": 20,
   "id": "5877aff4-8730-4a66-b913-71737aa5e677",
   "metadata": {},
   "outputs": [
    {
     "name": "stdout",
     "output_type": "stream",
     "text": [
      "x행렬\n",
      "[[ 1  2  3  4  5]\n",
      " [ 6  7  8  9 10]]\n",
      "----------------------------------------\n",
      "y행렬: 짝수면 True, 홀수면 False\n",
      "[[False  True False  True False]\n",
      " [ True False  True False  True]]\n",
      "----------------------------------------\n",
      "z행렬: 4보다 크면 True, 작으면 False\n",
      "[[False False False  True  True]\n",
      " [ True  True  True  True  True]]\n",
      "----------------------------------------\n",
      "Y and Z 행렬\n",
      "[[False False False  True False]\n",
      " [ True False  True False  True]]\n",
      "----------------------------------------\n",
      "Y and Z 조건을 만족하는 요소\n",
      "[ 4  6  8 10]\n",
      "----------------------------------------\n",
      "[5 7 9]\n"
     ]
    }
   ],
   "source": [
    "x = np.arange(1,11).reshape((2,5))\n",
    "print('x행렬')\n",
    "print(x)\n",
    "print('-'*40)\n",
    "\n",
    "y = x % 2 == 0\n",
    "print('y행렬: 짝수면 True, 홀수면 False')\n",
    "print(y)\n",
    "\n",
    "print('-'*40)\n",
    "\n",
    "z= x >= 4\n",
    "print('z행렬: 4보다 크면 True, 작으면 False')\n",
    "print(z)\n",
    "print('-'*40)\n",
    "\n",
    "print('Y and Z 행렬')\n",
    "print(np.logical_and(y,z))\n",
    "print('-'*40)\n",
    "\n",
    "print('Y and Z 조건을 만족하는 요소')\n",
    "print(x[np.logical_and(y,z)])\n",
    "print('-'*40)\n",
    "\n",
    "print(x[np.logical_and(~y,z)]) # 물결은 not, 즉 부정 연산"
   ]
  },
  {
   "cell_type": "markdown",
   "id": "df73e9b4-6879-4e7a-ba2b-4b852a4b00e4",
   "metadata": {},
   "source": [
    "## 정렬"
   ]
  },
  {
   "cell_type": "code",
   "execution_count": 21,
   "id": "581b711b-8a7e-4ffd-b5b5-6288cf4c06c6",
   "metadata": {},
   "outputs": [
    {
     "name": "stdout",
     "output_type": "stream",
     "text": [
      "[10 37 16  1 29 26 30 49 30  9]\n"
     ]
    }
   ],
   "source": [
    "import numpy as np\n",
    "\n",
    "np.random.seed(10)\n",
    "data = np.random.randint(1, 50, 10)\n",
    "print(data)"
   ]
  },
  {
   "cell_type": "markdown",
   "id": "7931fff1-2ebb-46a0-87d5-cade1b45a0a1",
   "metadata": {},
   "source": [
    "### np.sort()\n",
    "- 데이터를 오름차순으로 정렬한다\n",
    "- 내림차순으로 정렬하는 별도의 옵션은 없다"
   ]
  },
  {
   "cell_type": "code",
   "execution_count": 22,
   "id": "8ed6edb6-c67b-4978-ad74-ac48fac43efa",
   "metadata": {},
   "outputs": [
    {
     "name": "stdout",
     "output_type": "stream",
     "text": [
      "[ 1  9 10 16 26 29 30 30 37 49]\n"
     ]
    }
   ],
   "source": [
    "print(np.sort(data))"
   ]
  },
  {
   "cell_type": "markdown",
   "id": "bcf6135a-099d-4b83-a62c-7d19a92ed154",
   "metadata": {},
   "source": [
    "### np.argsort()\n",
    "- 오름차순으로 정렬한 데이터의 정렬 전 인덱스 값을 반환한다"
   ]
  },
  {
   "cell_type": "code",
   "execution_count": 23,
   "id": "37eef1c0-6c77-4def-9518-daca2cefce18",
   "metadata": {},
   "outputs": [
    {
     "name": "stdout",
     "output_type": "stream",
     "text": [
      "[3 9 0 2 5 4 6 8 1 7]\n"
     ]
    }
   ],
   "source": [
    "print(np.argsort(data))"
   ]
  },
  {
   "cell_type": "markdown",
   "id": "de2234c9-8199-4cb4-8bfa-53ed2f063f97",
   "metadata": {},
   "source": [
    "[문제] 학생 이름과 점수 데이터를 이용해 성적이 우수한 학생 순서로 이름을 출력하세요."
   ]
  },
  {
   "cell_type": "code",
   "execution_count": 28,
   "id": "a60039e7-caed-4f8f-8588-057a3336bf3c",
   "metadata": {},
   "outputs": [
    {
     "name": "stdout",
     "output_type": "stream",
     "text": [
      "['저팔계' '삼장법사' '사오정' '홍길동' '전우치']\n"
     ]
    }
   ],
   "source": [
    "name = ['홍길동', '저팔계', '사오정', '전우치', '삼장법사']\n",
    "score = [75, 100, 95, 56, 99]\n",
    "\n",
    "name = np.array(name)\n",
    "score = np.array(score)\n",
    "\n",
    "sorted_idx = np.argsort(score)\n",
    "print(name[sorted_idx][::-1])"
   ]
  },
  {
   "cell_type": "markdown",
   "id": "79934a72-cf1a-4305-a18d-da26769843b3",
   "metadata": {},
   "source": [
    "# 행렬 연산"
   ]
  },
  {
   "cell_type": "markdown",
   "id": "ddf6b248-bc20-4dc9-8ec8-67ff58fbad8a",
   "metadata": {},
   "source": [
    "## * 연산자\n",
    "- 형태(shape)가 동일한 두 행렬을 원소끼리 곱하는 연산자\n",
    "- 교환법칙 성립: A*B == B*A"
   ]
  },
  {
   "cell_type": "code",
   "execution_count": 30,
   "id": "0a1aafab-6647-47b9-91e0-28ff3c797414",
   "metadata": {},
   "outputs": [
    {
     "name": "stdout",
     "output_type": "stream",
     "text": [
      "[[2 0]\n",
      " [0 4]]\n",
      "[[2 0]\n",
      " [0 4]]\n"
     ]
    }
   ],
   "source": [
    "import numpy as np\n",
    "\n",
    "a = np.array([[1,1], [0,1]])\n",
    "b = np.array([[2,0], [3,4]])\n",
    "print(a * b)\n",
    "print(b*a) # 교환법칙 성립"
   ]
  },
  {
   "cell_type": "markdown",
   "id": "46c9206b-e55a-4b3b-9a0f-68bcd548b550",
   "metadata": {},
   "source": [
    "## np.dot()\n",
    "- 두 벡터의 내적을 계산하는 함수\n",
    "      - 내적이란 벡터에서 서로 대응하는 성분끼리 곱한 다음 그것들을 모두 더한 것을 말하며, 내적 결과는 스칼라가 된다\n",
    "      - a·b 또는 <a,b>로 표현, A1B1 + A2B2+...AnBn\n",
    "  - 행렬곱에서도 사용 가능하다. 단 공식 문서에서는 np.matmul() 사용을 권한다\n",
    "  - 두 행렬의 행렬곱을 계산하기 위해서는 첫 번째 행렬의 열 크기와 두 번째 행렬의 행 크기가 같아야 한다"
   ]
  },
  {
   "cell_type": "code",
   "execution_count": 31,
   "id": "3db6ee51-262a-412b-9379-2667611ee8f7",
   "metadata": {},
   "outputs": [
    {
     "name": "stdout",
     "output_type": "stream",
     "text": [
      "104\n"
     ]
    }
   ],
   "source": [
    "# 내적 계산\n",
    "a = np.array([3,4,5,6,9])\n",
    "b = np.array([8,6,1,4,3])\n",
    "c = np.dot(a,b) # 3*8 +4*6...\n",
    "print(c)"
   ]
  },
  {
   "cell_type": "code",
   "execution_count": 34,
   "id": "3a47e4dd-284b-4d85-b3bd-0cd4d28b12a5",
   "metadata": {},
   "outputs": [
    {
     "name": "stdout",
     "output_type": "stream",
     "text": [
      "[[1 1]\n",
      " [0 1]]\n",
      "[[2 0]\n",
      " [3 4]]\n",
      "----------------------------------------\n",
      "[[5 4]\n",
      " [3 4]]\n",
      "[[2 2]\n",
      " [3 7]]\n"
     ]
    }
   ],
   "source": [
    "A = np.array([[1,1],[0,1]])\n",
    "B = np.array([[2,0],[3,4]])\n",
    "print(A)\n",
    "print(B)\n",
    "print('-'*40)\n",
    "\n",
    "print(np.dot(A,B))\n",
    "print(np.dot(B,A)) # 교환법칙 성립 X"
   ]
  },
  {
   "cell_type": "markdown",
   "id": "a7ee81d7-ead3-421d-bee1-8cfc38c102e3",
   "metadata": {},
   "source": [
    "## np.matmul() / @연산자\n",
    "- 행렬의 곱연산을 수행"
   ]
  },
  {
   "cell_type": "code",
   "execution_count": 36,
   "id": "49da09ea-b8e7-4deb-89e0-793b2cc6ca05",
   "metadata": {},
   "outputs": [
    {
     "name": "stdout",
     "output_type": "stream",
     "text": [
      "[[5 4]\n",
      " [3 4]]\n",
      "[[5 4]\n",
      " [3 4]]\n"
     ]
    }
   ],
   "source": [
    "A = np.array([[1,1],[0,1]])\n",
    "B = np.array([[2,0],[3,4]])\n",
    "print(A@B)\n",
    "\n",
    "np.array([[1,0,3], [0,2,4]]) #2X3\n",
    "np.array([[4,1], [2,2],[2,3]]) #3X2\n",
    "print(np.matmul(A,B))"
   ]
  },
  {
   "cell_type": "markdown",
   "id": "29ab01ab-48d3-409f-a440-537d8be28351",
   "metadata": {},
   "source": [
    "## dot()과 matmul()의 차이\n",
    "- dot()은 행렬과 상수의 곱셈이 가능. matmul()은 에러 발생\n",
    "- 3차원 이상의 행렬곱을 수행할 경우 결과가 다르다"
   ]
  },
  {
   "cell_type": "markdown",
   "id": "15783b6f-6f83-4588-93b4-eaf1c251434c",
   "metadata": {},
   "source": [
    "## 전치(Transpose)\n",
    "- 전치는 기존 행렬의 행과 열을 교환하는 것\n",
    "- 주대각선을 기준으로 반사 대칭하는 것을 말한다\n",
    "- np.transpose() 함수 또는 ndarray.T 속성을 사용한다"
   ]
  },
  {
   "cell_type": "code",
   "execution_count": 37,
   "id": "5d34b161-6ed1-4e41-b5d5-c63f5e69dd5f",
   "metadata": {},
   "outputs": [
    {
     "name": "stdout",
     "output_type": "stream",
     "text": [
      "[[1 2]\n",
      " [3 4]]\n",
      "----------------------------------------\n",
      "[[1 3]\n",
      " [2 4]]\n",
      "----------------------------------------\n",
      "[[1 3]\n",
      " [2 4]]\n"
     ]
    }
   ],
   "source": [
    "a = np.arange(1,5).reshape((2,2))\n",
    "b=a.T\n",
    "c=np.transpose(a)\n",
    "print(a)\n",
    "print('-'*40)\n",
    "\n",
    "print(b)\n",
    "\n",
    "print('-'*40)\n",
    "\n",
    "print(c)"
   ]
  },
  {
   "cell_type": "markdown",
   "id": "6fce05ab-a27b-4885-92cd-fab5f3c0e5be",
   "metadata": {},
   "source": [
    "# 인덱싱, 슬라이싱, 반복"
   ]
  },
  {
   "cell_type": "markdown",
   "id": "91994c17-4d11-4327-ad6e-55aa38d31224",
   "metadata": {},
   "source": [
    "## 인덱싱"
   ]
  },
  {
   "cell_type": "code",
   "execution_count": 38,
   "id": "b3f5647c-42cf-4807-9b31-dbe878233c5c",
   "metadata": {},
   "outputs": [
    {
     "name": "stdout",
     "output_type": "stream",
     "text": [
      "1\n",
      "1\n",
      "1\n"
     ]
    }
   ],
   "source": [
    "import numpy as np\n",
    "\n",
    "a_list = [[1,2,3,4,5], [6,7,8,9,10]]\n",
    "print(a_list[0][0])\n",
    "\n",
    "a_ndarray = np.array(a_list)\n",
    "print(a_ndarray[0][0])\n",
    "print(a_ndarray[0,0])"
   ]
  },
  {
   "cell_type": "markdown",
   "id": "c2559a1f-f239-4313-b7c4-80bc64a9e9c9",
   "metadata": {},
   "source": [
    "## Boolean Indexing (masking) "
   ]
  },
  {
   "cell_type": "code",
   "execution_count": 43,
   "id": "9031d6cd-c561-4a5a-8387-840a6ff88fee",
   "metadata": {},
   "outputs": [
    {
     "name": "stdout",
     "output_type": "stream",
     "text": [
      "[[ 1  2  3  4  5  6]\n",
      " [ 7  8  9 10 11 12]\n",
      " [13 14 15 16 17 18]\n",
      " [19 20 21 22 23 24]]\n",
      "----------------------------------------\n",
      "[[False  True False  True False  True]\n",
      " [False  True False  True False  True]\n",
      " [False  True False  True False  True]\n",
      " [False  True False  True False  True]]\n",
      "----------------------------------------\n",
      "[ 2  4  6  8 10 12 14 16 18 20 22 24]\n",
      "----------------------------------------\n",
      "156\n",
      "----------------------------------------\n",
      "12\n"
     ]
    }
   ],
   "source": [
    "a =np.arange(1,25).reshape((4,6))\n",
    "print(a)\n",
    "print('-'*40)\n",
    "# a 배열에서 요소의 값이 짝수인 요소들의 총 합은?\n",
    "even_arr = a%2 == 0\n",
    "print(even_arr)\n",
    "print('-'*40)\n",
    "print(a[even_arr])\n",
    "print('-'*40)# true에 해당하는 값만 추출\n",
    "print(np.sum(a[even_arr]))\n",
    "print('-'*40)\n",
    "print(np.sum(even_arr)) # 조건에 맞는 원소의 개수를 찾는 것"
   ]
  },
  {
   "cell_type": "markdown",
   "id": "75ff634a-e63e-4495-b2bc-59218de0ef8f",
   "metadata": {},
   "source": [
    "## Fancy Indexing\n",
    "- 배열의 각 요소 선택을 '인덱스 배열을 전달해' 참조하는 방식\n",
    "- 즉 정수나 boolean 값을 가지는 다른 배열로 원본 배열의 값을 인덱싱 하는 것을 의미한다\n",
    "- Fancy Indexing은 복사본이 생성된다"
   ]
  },
  {
   "cell_type": "code",
   "execution_count": 51,
   "id": "761830c2-0370-483e-914e-b7b98c62a7d8",
   "metadata": {},
   "outputs": [
    {
     "name": "stdout",
     "output_type": "stream",
     "text": [
      "[[ 0  1  2]\n",
      " [ 3  4  5]\n",
      " [ 6  7  8]\n",
      " [ 9 10 11]\n",
      " [12 13 14]]\n",
      "----------------------------------------\n",
      "0행, 2열만 인덱싱\n",
      "[[0 1 2]\n",
      " [6 7 8]]\n",
      "----------------------------------------\n",
      "전체 행에 대해 0열과 2열만 인덱싱\n",
      "[[ 0  2]\n",
      " [ 3  5]\n",
      " [ 6  8]\n",
      " [ 9 11]\n",
      " [12 14]]\n",
      "----------------------------------------\n",
      "정수 배열[1,2]를 이용한 인덱싱\n",
      "[[3 4 5]\n",
      " [6 7 8]]\n",
      "----------------------------------------\n",
      "두 번 인덱싱\n",
      "[[ 0  2]\n",
      " [ 6  8]\n",
      " [12 14]]\n"
     ]
    }
   ],
   "source": [
    "a = np.arange(15).reshape((5,3))\n",
    "print(a)\n",
    "print('-'*40)\n",
    "\n",
    "print('0행, 2열만 인덱싱')\n",
    "print(a[[0,2],:])\n",
    "print('-'*40)\n",
    "\n",
    "print('전체 행에 대해 0열과 2열만 인덱싱')\n",
    "print(a[:,[0,2]])\n",
    "print('-'*40)\n",
    "\n",
    "print('정수 배열[1,2]를 이용한 인덱싱')\n",
    "print(a[[1,2]])\n",
    "print('-'*40)\n",
    "\n",
    "print('두 번 인덱싱')\n",
    "print(a[[0,2,4]][:,[0,2]]) #0,2,4 행에서 0,2열 추출"
   ]
  },
  {
   "cell_type": "code",
   "execution_count": 56,
   "id": "32d8d768-0e22-465b-934d-ffdb86133c81",
   "metadata": {},
   "outputs": [
    {
     "name": "stdout",
     "output_type": "stream",
     "text": [
      "[[ 0  1  2]\n",
      " [ 3  4  5]\n",
      " [ 6  7  8]\n",
      " [ 9 10 11]\n",
      " [12 13 14]]\n",
      "----------------------------------------\n"
     ]
    },
    {
     "name": "stderr",
     "output_type": "stream",
     "text": [
      "<>:6: SyntaxWarning: list indices must be integers or slices, not tuple; perhaps you missed a comma?\n",
      "<>:6: SyntaxWarning: list indices must be integers or slices, not tuple; perhaps you missed a comma?\n",
      "C:\\Users\\user\\AppData\\Local\\Temp\\ipykernel_5048\\3115267251.py:6: SyntaxWarning: list indices must be integers or slices, not tuple; perhaps you missed a comma?\n",
      "  copied = a[[0,2,4][:,[0,2]]]\n",
      "C:\\Users\\user\\AppData\\Local\\Temp\\ipykernel_5048\\3115267251.py:6: SyntaxWarning: list indices must be integers or slices, not tuple; perhaps you missed a comma?\n",
      "  copied = a[[0,2,4][:,[0,2]]]\n",
      "C:\\Users\\user\\AppData\\Local\\Temp\\ipykernel_5048\\3115267251.py:6: SyntaxWarning: list indices must be integers or slices, not tuple; perhaps you missed a comma?\n",
      "  copied = a[[0,2,4][:,[0,2]]]\n",
      "C:\\Users\\user\\AppData\\Local\\Temp\\ipykernel_5048\\3115267251.py:6: SyntaxWarning: list indices must be integers or slices, not tuple; perhaps you missed a comma?\n",
      "  copied = a[[0,2,4][:,[0,2]]]\n",
      "C:\\Users\\user\\AppData\\Local\\Temp\\ipykernel_5048\\3115267251.py:6: SyntaxWarning: list indices must be integers or slices, not tuple; perhaps you missed a comma?\n",
      "  copied = a[[0,2,4][:,[0,2]]]\n",
      "C:\\Users\\user\\AppData\\Local\\Temp\\ipykernel_5048\\3115267251.py:6: SyntaxWarning: list indices must be integers or slices, not tuple; perhaps you missed a comma?\n",
      "  copied = a[[0,2,4][:,[0,2]]]\n",
      "C:\\Users\\user\\AppData\\Local\\Temp\\ipykernel_5048\\3115267251.py:6: SyntaxWarning: list indices must be integers or slices, not tuple; perhaps you missed a comma?\n",
      "  copied = a[[0,2,4][:,[0,2]]]\n"
     ]
    },
    {
     "ename": "TypeError",
     "evalue": "list indices must be integers or slices, not tuple",
     "output_type": "error",
     "traceback": [
      "\u001b[1;31m---------------------------------------------------------------------------\u001b[0m",
      "\u001b[1;31mTypeError\u001b[0m                                 Traceback (most recent call last)",
      "Cell \u001b[1;32mIn[56], line 6\u001b[0m\n\u001b[0;32m      3\u001b[0m \u001b[38;5;28mprint\u001b[39m(a)\n\u001b[0;32m      4\u001b[0m \u001b[38;5;28mprint\u001b[39m(\u001b[38;5;124m'\u001b[39m\u001b[38;5;124m-\u001b[39m\u001b[38;5;124m'\u001b[39m\u001b[38;5;241m*\u001b[39m\u001b[38;5;241m40\u001b[39m)\n\u001b[1;32m----> 6\u001b[0m copied \u001b[38;5;241m=\u001b[39m a[[\u001b[38;5;241m0\u001b[39m,\u001b[38;5;241m2\u001b[39m,\u001b[38;5;241m4\u001b[39m][:,[\u001b[38;5;241m0\u001b[39m,\u001b[38;5;241m2\u001b[39m]]]\n\u001b[0;32m      7\u001b[0m \u001b[38;5;28mprint\u001b[39m(copied)\n\u001b[0;32m      9\u001b[0m \u001b[38;5;28mprint\u001b[39m(\u001b[38;5;124m'\u001b[39m\u001b[38;5;124m-\u001b[39m\u001b[38;5;124m'\u001b[39m\u001b[38;5;241m*\u001b[39m\u001b[38;5;241m40\u001b[39m)\n",
      "\u001b[1;31mTypeError\u001b[0m: list indices must be integers or slices, not tuple"
     ]
    }
   ],
   "source": [
    "# 펜시 인덱싱은 복사본이 생성된다\n",
    "a = np.arange(15).reshape(5,3)\n",
    "print(a)\n",
    "print('-'*40)\n",
    "\n",
    "copied = a[[0,2,4][:,[0,2]]]\n",
    "print(copied)\n",
    "\n",
    "print('-'*40)\n",
    "\n",
    "copied[0,:] = 100\n",
    "print(copied)\n",
    "\n"
   ]
  },
  {
   "cell_type": "markdown",
   "id": "cf8bed4a-6905-42a7-bb20-24c717d3ec7f",
   "metadata": {},
   "source": [
    "## 슬라이싱\n",
    "- ndarray[행 슬라이싱 시작: 행 슬라이싱 끝, 열 슬라이싱 시작: 열 슬라이싱 끝]\n",
    "- numpy에서 슬라이싱은 동일한 메모리 영역의 뷰를 반환한다\n",
    "- 즉 뷰를 수정하면 원본 데이터도 변경된다"
   ]
  },
  {
   "cell_type": "code",
   "execution_count": 58,
   "id": "3209f3de-8983-4ebf-a009-921bdd146785",
   "metadata": {},
   "outputs": [
    {
     "name": "stdout",
     "output_type": "stream",
     "text": [
      "[[ 1  2  3  4]\n",
      " [ 5  6  7  8]\n",
      " [ 9 10 11 12]]\n",
      "----------------------------------------\n",
      "[[1 2 3 4]\n",
      " [5 6 7 8]]\n",
      "----------------------------------------\n",
      "[[1 2 3 4]\n",
      " [5 6 7 8]]\n"
     ]
    }
   ],
   "source": [
    "a = np.arange(1,13).reshape((3,4))\n",
    "print(a)\n",
    "print('-'*40)\n",
    "\n",
    "print(a[0:2,0:4])\n",
    "print('-'*40)\n",
    "\n",
    "print(a[:2,:]) # 위와 동일"
   ]
  },
  {
   "cell_type": "code",
   "execution_count": 60,
   "id": "999cb832-9a9f-41df-906f-f207a471b892",
   "metadata": {},
   "outputs": [
    {
     "name": "stdout",
     "output_type": "stream",
     "text": [
      "[[1 2 3 4]]\n",
      "[[ 9 10 11 12]\n",
      " [ 5  6  7  8]\n",
      " [ 9 10 11 12]]\n"
     ]
    }
   ],
   "source": [
    "a_view = a[:1]\n",
    "print(a_view)\n",
    "a_view[0] = [9,10,11,12]\n",
    "print(a)"
   ]
  },
  {
   "cell_type": "markdown",
   "id": "b9f85e3f-4965-4f23-a136-711615054ec8",
   "metadata": {},
   "source": [
    "[문제] 슬라이싱 실습"
   ]
  },
  {
   "cell_type": "code",
   "execution_count": 84,
   "id": "aee5b635-2c59-4c05-8694-3a2035782c2a",
   "metadata": {},
   "outputs": [
    {
     "name": "stdout",
     "output_type": "stream",
     "text": [
      "[[ 1  2  3  4  5  6]\n",
      " [ 7  8  9 10 11 12]\n",
      " [13 14 15 16 17 18]\n",
      " [19 20 21 22 23 24]]\n",
      "----------------------------------------\n",
      "[[ 8  9 10 11]\n",
      " [14 15 16 17]]\n",
      "----------------------------------------\n",
      "[[ 1  2  3  4  5  6]\n",
      " [ 7  8  9 10 11 12]]\n",
      "----------------------------------------\n",
      "[[ 2  3]\n",
      " [ 8  9]\n",
      " [14 15]\n",
      " [20 21]]\n",
      "----------------------------------------\n",
      "[[7 8]]\n",
      "----------------------------------------\n",
      "[[ 6]\n",
      " [12]\n",
      " [18]\n",
      " [24]]\n"
     ]
    }
   ],
   "source": [
    "import numpy as np\n",
    "\n",
    "origin=np.arange(1,25).reshape((4,6))\n",
    "print(origin)\n",
    "print('-'*40)\n",
    "\n",
    "# 1. 가운데 요소 가져오기\n",
    "print(origin[1:3,1:5])\n",
    "print('-'*40)\n",
    "# 2. 0에서 1 번째 행과 모든 컬럼 가져오기\n",
    "print(origin[:2,:])\n",
    "print('-'*40)\n",
    "# 3. 전체 행과 1,2열 가져오기\n",
    "print(origin[:,1:3])\n",
    "print('-'*40)\n",
    "# 4. 1행과 0,1열 가져오기\n",
    "print(origin[1:2,0:2])\n",
    "print('-'*40)\n",
    "# 5. 각 행의 마지막 열 데이터만 추출해서 2차원 열벡터로 변경하기\n",
    "print(origin[:,-1].reshape(-1,1))"
   ]
  },
  {
   "cell_type": "markdown",
   "id": "26e3e1dc-9f6d-474f-a6ad-bdb13679d144",
   "metadata": {},
   "source": [
    "## 인덱싱 & 슬라이싱 그리고 차원\n",
    "- 정수 인덱싱과 슬라이싱을 혼합해서 사용하면 낮은 차원의 배열이 생성되지만\n",
    "- 슬라이싱만 사용하면 원본 배열과 같은 차원의 배열이 생성된다"
   ]
  },
  {
   "cell_type": "code",
   "execution_count": 90,
   "id": "eac46a20-ecc4-44bc-95b5-f9d55f3c8507",
   "metadata": {},
   "outputs": [
    {
     "name": "stdout",
     "output_type": "stream",
     "text": [
      "[[ 1  2  3  4]\n",
      " [ 5  6  7  8]\n",
      " [ 9 10 11 12]] (3, 4) 2\n",
      "----------------------------------------\n",
      "슬라이싱 이용\n",
      "[[1 2 3 4]] (1, 4) 2\n",
      "----------------------------------------\n",
      "인덱싱만 사용\n",
      "[1 2 3 4] (4,) 1\n",
      "인덱싱과 슬라이싱을 혼합해서 사용\n",
      "[1 2 3 4] (4,) 1\n",
      "펜시인덱싱 (<-->정수인덱싱) 사용\n",
      "[[ 1  2  3  4]\n",
      " [ 9 10 11 12]]\n"
     ]
    }
   ],
   "source": [
    "a= np.arange(1,13).reshape((3,4))\n",
    "print(a,a.shape,a.ndim)\n",
    "print('-'*40)\n",
    "\n",
    "print('슬라이싱 이용')\n",
    "b = a[:1,:]\n",
    "print(b, b.shape, b.ndim)\n",
    "print('-'*40)\n",
    "\n",
    "print('인덱싱만 사용')\n",
    "c = a[0]\n",
    "print(c, c.shape, c.ndim)\n",
    "\n",
    "print('인덱싱과 슬라이싱을 혼합해서 사용')\n",
    "d = a[0,:]\n",
    "print(d, d.shape, d.ndim)\n",
    "\n",
    "\n",
    "print('펜시인덱싱 (<-->정수인덱싱) 사용')\n",
    "#펜시 인덱싱을 사용하면 원본 배열과 동일한 차원의 배열이 생성된다\n",
    "print(a[[0,2],:])"
   ]
  },
  {
   "cell_type": "markdown",
   "id": "e6d814d4-404a-4165-8a9a-e2643f5c8e2a",
   "metadata": {},
   "source": [
    "# brodcasting\n",
    "- shape이 다른 numpy 배열이 연산을 하려고 할 때 특정 조건이 만족되면 자동으로 연산이 가능한 형태로 변환되는 것\n",
    "- numpy에서 vector나 matrix 간에 연산을 하면 같은 위치의 원소끼리 계산이 이뤄진다\n",
    "- 이렇게 되려면 계산하려는 vector나 matrix가 형태가 같아야 하는데, 이 때 shape이 맞춰지는 것을 brodcasting이라고 한다\n",
    "\n",
    "  ![broad](broadcasting.png)"
   ]
  },
  {
   "cell_type": "markdown",
   "id": "13d24ca0-fe0b-41a5-ab1b-12eb1d1440b7",
   "metadata": {},
   "source": [
    "# random 모듈"
   ]
  },
  {
   "cell_type": "markdown",
   "id": "ac90c9c6-aff1-4b3d-8671-512170c3e010",
   "metadata": {},
   "source": [
    "## np.random.rand()\n",
    "- 0 이상 1 미만의 균등분포 난수 생성\n",
    "- shape을 전달하면 그 크기에 맞는 다차원 배열을 생성한다"
   ]
  },
  {
   "cell_type": "code",
   "execution_count": 93,
   "id": "f4866f77-b475-4c8c-ae8d-e90b9bdf89aa",
   "metadata": {},
   "outputs": [
    {
     "name": "stdout",
     "output_type": "stream",
     "text": [
      "0.3360715844645519\n",
      "[0.89081653 0.19812181 0.03061665]\n",
      "[[0.87761494 0.72743551 0.54088093 0.13145815]\n",
      " [0.41366737 0.77872881 0.58390137 0.18263144]\n",
      " [0.82608225 0.10540183 0.28357668 0.06556327]]\n"
     ]
    }
   ],
   "source": [
    "a= np.random.rand() # 난수 1개를 생성\n",
    "print(a)\n",
    "b = np.random.rand(3) # 1차원 벡터 생성\n",
    "print(b)\n",
    "c = np.random.rand(3,4) # 2차원 행렬 생성\n",
    "print(c)"
   ]
  },
  {
   "cell_type": "code",
   "execution_count": 94,
   "id": "42d4034e-e548-4747-903c-072a32563bc0",
   "metadata": {},
   "outputs": [
    {
     "data": {
      "image/png": "[encoded data removed]",
      "text/plain": [
       "<Figure size 640x480 with 1 Axes>"
      ]
     },
     "metadata": {},
     "output_type": "display_data"
    }
   ],
   "source": [
    "import matplotlib.pyplot as plt\n",
    "\n",
    "np.random.seed(0)\n",
    "a = np.random.rand(100000)\n",
    "plt.hist(a,bins=100)\n",
    "plt.show()"
   ]
  },
  {
   "cell_type": "markdown",
   "id": "0b5837f6-78e7-4c2a-883b-5c85d8366181",
   "metadata": {},
   "source": [
    "## np.random.randint()\n",
    "- 주어진 범위의 균등분포의 임의의 정수 난수 발생"
   ]
  },
  {
   "cell_type": "code",
   "execution_count": 126,
   "id": "18b017df-2191-430a-8c94-4c6fded7b189",
   "metadata": {},
   "outputs": [
    {
     "name": "stdout",
     "output_type": "stream",
     "text": [
      "[[2 2 4]\n",
      " [3 1 1]\n",
      " [3 3 3]]\n"
     ]
    }
   ],
   "source": [
    "#a = np.random.randint(3) # [0,3) 범위의 임의의 정수 1개 생성\n",
    "#print(a)\n",
    "\n",
    "#b = np.random.randint(1,5) # 1이상 5 미만의 임의의 정수 1개 생성\n",
    "#print(b)\n",
    "\n",
    "#c = np.random.randint(1,5,size = 3) #1이상 5 미만의 임의의 정수 1개 생성\n",
    "#print(c)\n",
    "\n",
    "d = np.random.randint(1,5,size = (3,3)) #1이상 5 미만의 임의의 정수 3X3 모양으로 생성\n",
    "print(d)"
   ]
  },
  {
   "cell_type": "markdown",
   "id": "2b5ece26-f3ae-4f19-b6a0-5d931b1769a8",
   "metadata": {},
   "source": [
    "## np.random.randn()\n",
    "- 표준정규분포(평균은 0, 표준편차는 1로 이루어진 데이터)로부터 샘플링 된 난수를 발생한다"
   ]
  },
  {
   "cell_type": "code",
   "execution_count": 129,
   "id": "1a6b0dbe-70fe-48f4-adcc-94c27a4a7d4d",
   "metadata": {},
   "outputs": [
    {
     "name": "stdout",
     "output_type": "stream",
     "text": [
      "0.5568387759495256\n",
      "[-0.66630591 -1.12263975 -0.80558064]\n",
      "[[ 0.61408029  0.28526466  0.29540595  0.56835976]\n",
      " [ 1.11412275 -0.41919962 -2.11910637 -1.43826635]\n",
      " [ 0.63117472  0.05620704 -2.22155004  0.37211147]]\n"
     ]
    }
   ],
   "source": [
    "a = np.random.randn() # 난수 1개 발생\n",
    "print(a)\n",
    "\n",
    "b = np.random.randn(3)\n",
    "print(b)\n",
    "\n",
    "c = np.random.randn(3,4) #3행 4열 2차원 배열 생성\n",
    "print(c)"
   ]
  },
  {
   "cell_type": "code",
   "execution_count": 132,
   "id": "5557a018-15ef-421c-a41f-67260decfbc0",
   "metadata": {},
   "outputs": [
    {
     "data": {
      "image/png": "[encoded data removed]",
      "text/plain": [
       "<Figure size 640x480 with 1 Axes>"
      ]
     },
     "metadata": {},
     "output_type": "display_data"
    },
    {
     "name": "stdout",
     "output_type": "stream",
     "text": [
      "1.0021105755837785 -0.0003255210299408786\n"
     ]
    }
   ],
   "source": [
    "import matplotlib.pyplot as plt\n",
    "\n",
    "a = np.random.randn(100000)\n",
    "plt.hist(a,bins=100,density=True, histtype='step')\n",
    "plt.show()\n",
    "print(np.std(a), np.mean(a))"
   ]
  },
  {
   "cell_type": "markdown",
   "id": "7ec62837-8d85-4387-a223-7e851f68490b",
   "metadata": {},
   "source": [
    "## np.random.choice()\n",
    "- 주어진 1차원 행렬에서 랜덤으로 샘플링 한다\n",
    "- replace = False는 중복 샘플링을 하지 않는다 (default는 replace = true)"
   ]
  },
  {
   "cell_type": "code",
   "execution_count": 133,
   "id": "69e72d2c-e9eb-4735-995c-d3342ad4903d",
   "metadata": {},
   "outputs": [
    {
     "name": "stdout",
     "output_type": "stream",
     "text": [
      "[16 94 65]\n"
     ]
    }
   ],
   "source": [
    "np.random.seed(10)\n",
    "data = np.random.randint(1,101,10)\n",
    "r = np.random.choice(data, size=(3,),replace=False)\n",
    "print(r)\n",
    "\n"
   ]
  }
 ],
 "metadata": {
  "kernelspec": {
   "display_name": "Python 3 (ipykernel)",
   "language": "python",
   "name": "python3"
  },
  "language_info": {
   "codemirror_mode": {
    "name": "ipython",
    "version": 3
   },
   "file_extension": ".py",
   "mimetype": "text/x-python",
   "name": "python",
   "nbconvert_exporter": "python",
   "pygments_lexer": "ipython3",
   "version": "3.11.7"
  }
 },
 "nbformat": 4,
 "nbformat_minor": 5
}
